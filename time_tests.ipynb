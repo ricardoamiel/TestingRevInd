{
 "cells": [
  {
   "cell_type": "markdown",
   "metadata": {},
   "source": [
    "**Instalación de librerías necesarias**"
   ]
  },
  {
   "cell_type": "code",
   "execution_count": 43,
   "metadata": {},
   "outputs": [
    {
     "name": "stdout",
     "output_type": "stream",
     "text": [
      "Defaulting to user installation because normal site-packages is not writeable\n",
      "Requirement already satisfied: librosa==0.9.2 in /home/karu/.local/lib/python3.10/site-packages (0.9.2)\n",
      "Requirement already satisfied: decorator>=4.0.10 in /home/karu/.local/lib/python3.10/site-packages (from librosa==0.9.2) (5.1.1)\n",
      "Requirement already satisfied: scikit-learn>=0.19.1 in /home/karu/.local/lib/python3.10/site-packages (from librosa==0.9.2) (1.5.1)\n",
      "Requirement already satisfied: numpy>=1.17.0 in /usr/local/lib/python3.10/dist-packages (from librosa==0.9.2) (1.26.4)\n",
      "Requirement already satisfied: audioread>=2.1.9 in /home/karu/.local/lib/python3.10/site-packages (from librosa==0.9.2) (3.0.1)\n",
      "Requirement already satisfied: pooch>=1.0 in /home/karu/.local/lib/python3.10/site-packages (from librosa==0.9.2) (1.8.2)\n",
      "Requirement already satisfied: joblib>=0.14 in /usr/local/lib/python3.10/dist-packages (from librosa==0.9.2) (1.4.2)\n",
      "Requirement already satisfied: numba>=0.45.1 in /home/karu/.local/lib/python3.10/site-packages (from librosa==0.9.2) (0.60.0)\n",
      "Requirement already satisfied: soundfile>=0.10.2 in /home/karu/.local/lib/python3.10/site-packages (from librosa==0.9.2) (0.12.1)\n",
      "Requirement already satisfied: resampy>=0.2.2 in /home/karu/.local/lib/python3.10/site-packages (from librosa==0.9.2) (0.4.3)\n",
      "Requirement already satisfied: packaging>=20.0 in /home/karu/.local/lib/python3.10/site-packages (from librosa==0.9.2) (24.0)\n",
      "Requirement already satisfied: scipy>=1.2.0 in /home/karu/.local/lib/python3.10/site-packages (from librosa==0.9.2) (1.14.0)\n",
      "Requirement already satisfied: llvmlite<0.44,>=0.43.0dev0 in /home/karu/.local/lib/python3.10/site-packages (from numba>=0.45.1->librosa==0.9.2) (0.43.0)\n",
      "Requirement already satisfied: requests>=2.19.0 in /usr/lib/python3/dist-packages (from pooch>=1.0->librosa==0.9.2) (2.25.1)\n",
      "Requirement already satisfied: platformdirs>=2.5.0 in /home/karu/.local/lib/python3.10/site-packages (from pooch>=1.0->librosa==0.9.2) (4.2.1)\n",
      "Requirement already satisfied: threadpoolctl>=3.1.0 in /home/karu/.local/lib/python3.10/site-packages (from scikit-learn>=0.19.1->librosa==0.9.2) (3.5.0)\n",
      "Requirement already satisfied: cffi>=1.0 in /home/karu/.local/lib/python3.10/site-packages (from soundfile>=0.10.2->librosa==0.9.2) (1.16.0)\n",
      "Requirement already satisfied: pycparser in /home/karu/.local/lib/python3.10/site-packages (from cffi>=1.0->soundfile>=0.10.2->librosa==0.9.2) (2.22)\n",
      "Defaulting to user installation because normal site-packages is not writeable\n",
      "Requirement already satisfied: numpy in /usr/local/lib/python3.10/dist-packages (1.26.4)\n"
     ]
    }
   ],
   "source": [
    "!pip install librosa==0.9.2 \n",
    "!pip install numpy\n",
    "!pip install IPython\n",
    "!pip install --upgrade setuptools\n",
    "!pip install pandas\n",
    "!pip install matplotlib\n",
    "!pip install rtree\n",
    "!pip install faiss-cpu"
   ]
  },
  {
   "cell_type": "markdown",
   "metadata": {},
   "source": [
    "**Importación de librerías**:"
   ]
  },
  {
   "cell_type": "code",
   "execution_count": 11,
   "metadata": {},
   "outputs": [],
   "source": [
    "import librosa\n",
    "import IPython.display as ipd\n",
    "import os\n",
    "import numpy as np\n",
    "import pandas as pd\n",
    "import heapq\n",
    "import time\n",
    "import matplotlib.pyplot as plt\n",
    "import concurrent.futures\n",
    "import rtree\n",
    "import faiss"
   ]
  },
  {
   "cell_type": "markdown",
   "metadata": {},
   "source": [
    "**Definición de funciones**:"
   ]
  },
  {
   "cell_type": "code",
   "execution_count": 12,
   "metadata": {},
   "outputs": [],
   "source": [
    "# Funciones de extraccion de caracteristicas\n",
    "def get_audios(n):\n",
    "    audios = []\n",
    "    for i in range(1, 156):\n",
    "        num = \"\"\n",
    "        if i < 10:\n",
    "            num = \"00\" + str(i)\n",
    "        elif i < 100:\n",
    "            num = \"0\" + str(i)\n",
    "        else:\n",
    "            num = str(i)\n",
    "\n",
    "        for file in os.listdir('fma_medium/' + num):\n",
    "            if file.endswith('.mp3'):\n",
    "                audios.append('fma_medium/' + num + '/' + file)\n",
    "            if len(audios) == n:\n",
    "                return audios\n",
    "\n",
    "def features_extraction(file_path, dimensions):\n",
    "    #load the audio file\n",
    "    x, sample_rate = librosa.load(file_path, res_type='kaiser_fast')\n",
    "    #extract features from the audio file\n",
    "    mfcc = np.mean(librosa.feature.mfcc(y=x, sr=sample_rate, n_mfcc=dimensions).T, axis=0) # axis = 1\n",
    "    \n",
    "    return mfcc\n",
    "\n",
    "def extract_n_features(n, dimensions, threads):\n",
    "    audios = get_audios(n)\n",
    "    features = []\n",
    "    results = {}\n",
    "\n",
    "    with concurrent.futures.ThreadPoolExecutor(max_workers=threads) as executor:\n",
    "        future_to_data = {executor.submit(features_extraction, item, dimensions): item for item in audios }\n",
    "        for future in concurrent.futures.as_completed(future_to_data):\n",
    "            data_item = future_to_data[future]\n",
    "            try:\n",
    "                result = future.result()\n",
    "                # Assign the result to the input string in the dictionary\n",
    "                results[data_item] = result\n",
    "            except Exception as exc:\n",
    "                print(f'{data_item} generated an exception: {exc}')\n",
    "    return results\n",
    "\n",
    "# Funciones de KNN Range priority queue\n",
    "def euclidean_distances(query, data):\n",
    "    return np.sqrt(((data - query) ** 2).sum(axis=1))\n",
    "\n",
    "def KNNPriorityQueue(query, K, chars):\n",
    "    data = np.loadtxt(chars, delimiter=',')\n",
    "    \n",
    "    if len(data) < K:\n",
    "        raise ValueError(\"El número de datos es menor que K\")\n",
    "    \n",
    "    distances = euclidean_distances(query, data)\n",
    "    pq = []\n",
    "    \n",
    "    # Insertamos los primeros K elementos de la base de datos en la cola de prioridad\n",
    "    for i in range(K):\n",
    "        heapq.heappush(pq, (-distances[i], i))  # Distancia negativa para simular una cola de prioridad máxima\n",
    "\n",
    "    for i in range(K, len(data)):\n",
    "        # Si la distancia entre el objeto de consulta y el objeto i es menor que la mayor distancia en la cola de prioridad\n",
    "        if -pq[0][0] > distances[i]: # Eliminamos el objeto en la cola de prioridad con mayor distancia\n",
    "            heapq.heappop(pq)\n",
    "            heapq.heappush(pq, (-distances[i], i))\n",
    "            \n",
    "    return [(data[i], -distance) for distance, i in sorted(pq, reverse=True)]\n",
    "\n",
    "def knnSearch(collection, query, k):\n",
    "    heap = [] # heap vacio\n",
    "    ED = lambda P, Q: np.sqrt((P-Q)**2)\n",
    "\n",
    "    for i in range(len(collection)):\n",
    "        dist = np.sqrt((ED(collection[i], query) ** 2).sum()) # porque es una serie de pandas y no un array de numpy\n",
    "        # Use negative distance because heapq is a min heap\n",
    "        if len(heap) < k:\n",
    "            heapq.heappush(heap, (-dist, i)) # si no se ha llenado el heap, se inserta\n",
    "        else:\n",
    "            heapq.heappushpop(heap, (-dist, i)) # si ya se lleno el heap, se inserta y se elimina el menor\n",
    "\n",
    "    # Return indices and distances, reversing the order so that the closest is first\n",
    "    indices_and_distances = [(i, -d) for d, i in sorted(heap, reverse=True)]\n",
    "    return indices_and_distances\n",
    " \n",
    "# Funciones para KNN Range radio\n",
    "def genDistancias(data, N):\n",
    "    ED = lambda P, Q: np.sqrt(sum((P-Q)**2))\n",
    "    v = np.zeros(N)\n",
    "    for i in range(N):\n",
    "        ind = np.random.choice(data.shape[0], size=2, replace=False)\n",
    "        P = data[ind[0], :]\n",
    "        Q = data[ind[1], :]\n",
    "        #v[i] = distance.euclidean(P, Q)\n",
    "        v[i] = np.sqrt((ED(P, Q) ** 2).sum())\n",
    "    return v\n",
    "\n",
    "def rangeSearch(collection, query, r, query_index):\n",
    "    ED = lambda P, Q: np.sqrt(sum((P-Q)**2))\n",
    "    result = []\n",
    "    heap = []\n",
    "    for i in range(len(collection)):\n",
    "        dist = np.sqrt((ED(collection[i], query) ** 2).sum())\n",
    "        if (dist < r).all():  # Check if all elements in the Series are less than r\n",
    "            result.append(i)\n",
    "            #sort by distance to r\n",
    "            heapq.heappush(heap, (dist, i))\n",
    "    sorted_result = [index for _, index in heapq.nsmallest(len(heap), heap)]\n",
    "    return sorted_result # result\n",
    "\n",
    "# Funciones para KNN Rtree\n",
    "def knn_rtree(collection, query, k, dimensions):\n",
    "    # Create a new RTree index\n",
    "    prop = rtree.index.Property()\n",
    "    prop.dimension = dimensions   # dimension del vector caracteristico\n",
    "    #prop.buffering_capacity = 8    # Cantidad maxima de MBRs en un nodo \n",
    "    ind = rtree.index.Index(properties = prop)\n",
    "\n",
    "    # insertar los puntos                \n",
    "    for i in range(collection.shape[0]):\n",
    "        ind.insert(i, collection[i].tolist() + collection[i].tolist())     \n",
    "\n",
    "    # Promedio\n",
    "    avg = 0\n",
    "    # aplicar la consulta indexada (correr 10 veces y tomar el promedio)\n",
    "    for i in range(10):\n",
    "        start_time = time.time()\n",
    "        ind.nearest(query, num_results=k) # cambiar a k+1 porque se cuenta a si mismo\n",
    "        avg += time.time() - start_time\n",
    "\n",
    "    avg = avg/10\n",
    "    # Obtener los k vecinos más cercanos (k+1 para excluir el punto de consulta si está presente)\n",
    "    k_nearest = list(ind.nearest(query.tolist() + query.tolist(), num_results=k))\n",
    "    ind.close()\n",
    "    \n",
    "    neighbors = collection[k_nearest]\n",
    "\n",
    "    # Calcular distancias y ordenar\n",
    "    distances = []\n",
    "    for idx in k_nearest:\n",
    "        dist = np.linalg.norm(collection[idx] - query)\n",
    "        distances.append((dist, idx))\n",
    "            \n",
    "    distances.sort(key=lambda x: x[0])  # Ordenar por distancia\n",
    "    \n",
    "    # Extraer índices ordenados\n",
    "    sorted_indices = [idx for _, idx in distances]\n",
    "\n",
    "    print(f'La consulta tomó en promedio {avg} segundos')\n",
    "    #print(f'Los k={k} más cercanos a la consulta son:{neighbors_without_query}')\n",
    "    print(f'Las k:{k} canciones más cercanas a la consulta son (contar la query): {sorted_indices}')\n",
    "    #print(f'Las k:{k} canciones más cercanas a la consulta son (sin contar la query): {nearest_songs}')\n",
    "\n",
    "# Funciones para HighD\n",
    "def knn_faiss(data, query, k, num_trials=10):\n",
    "    total_time = 0  # Acumulador para el tiempo total\n",
    "    for _ in range(num_trials):\n",
    "        start_time = time.time()  # Inicio del temporizador\n",
    "        d = len(data[0])  # Dimensionality of the feature vectors\n",
    "        index = faiss.IndexFlatL2(d)  # L2 distance\n",
    "        index.add(np.array(data, dtype='float32'))  # Add data to the index\n",
    "        D, I = index.search(np.array([query], dtype='float32'), k)  # Perform the search k+1 para no contar la query\n",
    "        end_time = time.time()  # Fin del temporizador\n",
    "        total_time += end_time - start_time  # Acumular el tiempo de ejecución\n",
    "    average_time = total_time / num_trials  # Calcular el promedio\n",
    "    return I[0], D[0], average_time"
   ]
  },
  {
   "cell_type": "markdown",
   "metadata": {},
   "source": [
    "# Testbench 1k"
   ]
  },
  {
   "cell_type": "markdown",
   "metadata": {},
   "source": [
    "**Extracción de características**"
   ]
  },
  {
   "cell_type": "code",
   "execution_count": 13,
   "metadata": {},
   "outputs": [
    {
     "name": "stdout",
     "output_type": "stream",
     "text": [
      "Características guardadas en caracteristicas_1000.txt\n"
     ]
    }
   ],
   "source": [
    "features = extract_n_features(1000, 64, 8)\n",
    "\n",
    "# Guardar las características en un archivo CSV\n",
    "output_file = 'caracteristicas_1000.txt'\n",
    "with open(output_file, 'w') as f:\n",
    "    for audio_path, feature_vector in features.items():\n",
    "        feature_str = ','.join(map(str, feature_vector))\n",
    "        f.write(feature_str + '\\n')\n",
    "\n",
    "print(f'Características guardadas en {output_file}')\n",
    "\n",
    "# Variables para tests\n",
    "datatrain = pd.read_csv('caracteristicas_1000.txt', delimiter=',',header=None)\n",
    "k = 8\n",
    "ind_q = 5"
   ]
  },
  {
   "cell_type": "markdown",
   "metadata": {},
   "source": [
    "**Range KNN Priority queue**"
   ]
  },
  {
   "cell_type": "code",
   "execution_count": 14,
   "metadata": {},
   "outputs": [
    {
     "name": "stdout",
     "output_type": "stream",
     "text": [
      "Resultado para k=8: [(5, 0.0), (33, 21.27868951349949), (10, 26.562299151551848), (202, 34.62912923822806), (631, 46.58289851191702), (720, 51.487770242024624), (43, 51.938023758369816), (22, 52.98509342871366)]\n",
      "Tiempo promedio: 3.2795703411102295 segundos\n"
     ]
    }
   ],
   "source": [
    "query = datatrain.iloc[ind_q]\n",
    "#dataT = datatrain.drop([ind_q], axis=0, inplace=False)\n",
    "dataT = datatrain\n",
    "result = knnSearch(dataT.values, query, k)\n",
    "# Promedio de tiempo\n",
    "total_time = 0\n",
    "for _ in range(10):\n",
    "    start_time = time.time()\n",
    "    result = knnSearch(dataT.values, query, k)\n",
    "    end_time = time.time()\n",
    "    total_time += end_time - start_time\n",
    "average_time = total_time\n",
    "\n",
    "print(f'Resultado para k={k}: {result}')\n",
    "print(f'Tiempo promedio: {average_time} segundos') "
   ]
  },
  {
   "cell_type": "markdown",
   "metadata": {},
   "source": [
    "**Range KNN Radio**"
   ]
  },
  {
   "cell_type": "code",
   "execution_count": 15,
   "metadata": {},
   "outputs": [
    {
     "name": "stdout",
     "output_type": "stream",
     "text": [
      "Resultado para radio=58.15379315967679: [5, 33, 10, 202, 631, 720, 43, 22, 177, 241, 145, 162, 127, 587, 658]\n",
      "Tiempo promedio: 0.17390449047088624 segundos\n",
      "Resultado para radio=72.75107689270303: [5, 33, 10, 202, 631, 720, 43, 22, 177, 241, 145, 162, 127, 587, 658, 373, 119, 68, 394, 14, 478, 826, 161, 524, 212, 309, 188, 200, 38, 183, 881, 491, 727, 88, 146, 704, 89, 777, 740, 332, 904, 66, 59, 861, 764, 45, 18, 630, 143, 385, 468, 951, 488, 962, 500, 138, 301]\n",
      "Tiempo promedio: 0.1724404811859131 segundos\n",
      "Resultado para radio=86.82332392370189: [5, 33, 10, 202, 631, 720, 43, 22, 177, 241, 145, 162, 127, 587, 658, 373, 119, 68, 394, 14, 478, 826, 161, 524, 212, 309, 188, 200, 38, 183, 881, 491, 727, 88, 146, 704, 89, 777, 740, 332, 904, 66, 59, 861, 764, 45, 18, 630, 143, 385, 468, 951, 488, 962, 500, 138, 301, 187, 749, 813, 12, 82, 585, 656, 746, 971, 150, 382, 513, 148, 555, 281, 698, 275, 600, 537, 64, 380, 62, 870, 687, 110, 794, 773, 474, 593, 884, 49, 325, 55, 80, 959, 318, 988, 117, 471, 128, 457, 364, 454, 485, 817, 268, 34, 168, 650, 914, 157, 65, 216, 601, 622, 574, 397, 231, 101, 883, 133, 417, 77, 139, 348, 751, 743, 456, 243, 144, 105, 113, 663, 647, 299, 929, 522, 829, 617, 957, 276, 821, 651, 53, 824, 163, 483, 885, 190, 184, 561, 527, 443, 305, 121, 302, 672, 322, 976, 37, 779, 349, 93, 153, 551, 330, 578, 124, 418]\n",
      "Tiempo promedio: 0.17425811290740967 segundos\n"
     ]
    }
   ],
   "source": [
    "D = genDistancias(datatrain.values, 5000)\n",
    "\n",
    "# Calcular percentiles para elegir r1, r2, y r3\n",
    "percentiles = np.percentile(D, [10, 20, 30]) # tmb puede ser [25, 50, 75]\n",
    "r1, r2, r3 = percentiles[0], percentiles[1], percentiles[2]\n",
    "\n",
    "# calcular la busqueda por rango\n",
    "radios_obtenidos = [r1, r2, r3]\n",
    "\n",
    "for radio in radios_obtenidos:\n",
    "    query = datatrain.iloc[ind_q]\n",
    "    dataT = datatrain\n",
    "    # Promedio\n",
    "    total_time = 0\n",
    "    for _ in range(10):\n",
    "        start_time = time.time()\n",
    "        result = rangeSearch(dataT.values, query, radio, ind_q)\n",
    "        end_time = time.time()\n",
    "        total_time += end_time - start_time\n",
    "    average_time = total_time / 10\n",
    "\n",
    "    print(f'Resultado para radio={radio}: {result}')\n",
    "    print(f'Tiempo promedio: {average_time} segundos')"
   ]
  },
  {
   "cell_type": "markdown",
   "metadata": {},
   "source": [
    "**RTree KNN**"
   ]
  },
  {
   "cell_type": "code",
   "execution_count": 16,
   "metadata": {},
   "outputs": [
    {
     "name": "stdout",
     "output_type": "stream",
     "text": [
      "La consulta tomó en promedio 0.00041570663452148435 segundos\n",
      "Las k:8 canciones más cercanas a la consulta son (contar la query): [5, 33, 10, 202, 631, 720, 43, 22]\n"
     ]
    }
   ],
   "source": [
    "D = len(datatrain.columns)  \n",
    "\n",
    "# Create a new RTree index\n",
    "prop = rtree.index.Property()\n",
    "prop.dimension = D    # dimension del vector caracteristico\n",
    "prop.buffering_capacity = 8    # Cantidad maxima de MBRs en un nodo \n",
    "ind = rtree.index.Index(properties = prop)\n",
    "\n",
    "#Generar los datos    \n",
    "data = datatrain.values\n",
    "query = data[ind_q]\n",
    "\n",
    "# insertar los puntos                \n",
    "for i in range(data.shape[0]):\n",
    "    ind.insert(i, data[i])    \n",
    "\n",
    "knn_rtree(data, query, k, 64)"
   ]
  },
  {
   "cell_type": "markdown",
   "metadata": {},
   "source": [
    "**HighD**"
   ]
  },
  {
   "cell_type": "code",
   "execution_count": 17,
   "metadata": {},
   "outputs": [
    {
     "name": "stdout",
     "output_type": "stream",
     "text": [
      "Tiempo de ejecución promedio de knn_faiss: 0.00039606094360351564 segundos\n",
      "Los k=8 más cercanos a la consulta son:[  5  33  10 202 631 720  43  22]\n",
      "Las distancias a los k=8 vecinos más cercanos son:[   0.       452.78265  705.5557  1199.1769  2169.966   2650.9902\n",
      " 2697.558   2807.42   ]\n"
     ]
    }
   ],
   "source": [
    "#Generar los datos    \n",
    "data = datatrain.values\n",
    "query = data[5]\n",
    "\n",
    "faiss_knn_results, faiss_knn_distances, average_time = knn_faiss(data, query, k=8)\n",
    "\n",
    "print(f\"Tiempo de ejecución promedio de knn_faiss: {average_time} segundos\")\n",
    "print(f'Los k={k} más cercanos a la consulta son:{faiss_knn_results}') # faiss_knn_results[1:]\n",
    "print(f'Las distancias a los k={k} vecinos más cercanos son:{faiss_knn_distances}') # faiss_knn_results[1:]"
   ]
  },
  {
   "cell_type": "markdown",
   "metadata": {},
   "source": [
    "# Testbench 2k"
   ]
  },
  {
   "cell_type": "markdown",
   "metadata": {},
   "source": [
    "**Extracción de características**"
   ]
  },
  {
   "cell_type": "code",
   "execution_count": 18,
   "metadata": {},
   "outputs": [
    {
     "name": "stderr",
     "output_type": "stream",
     "text": [
      "[src/libmpg123/layer3.c:INT123_do_layer3():1841] error: dequantization failed!\n"
     ]
    },
    {
     "name": "stdout",
     "output_type": "stream",
     "text": [
      "Características guardadas en caracteristicas_2000.txt\n"
     ]
    }
   ],
   "source": [
    "features = extract_n_features(2000, 64, 8)\n",
    "\n",
    "# Guardar las características en un archivo CSV\n",
    "output_file = 'caracteristicas_2000.txt'\n",
    "with open(output_file, 'w') as f:\n",
    "    for audio_path, feature_vector in features.items():\n",
    "        feature_str = ','.join(map(str, feature_vector))\n",
    "        f.write(feature_str + '\\n')\n",
    "\n",
    "print(f'Características guardadas en {output_file}')\n",
    "\n",
    "# Variables para tests\n",
    "datatrain = pd.read_csv('caracteristicas_2000.txt', delimiter=',',header=None)\n",
    "k = 8\n",
    "ind_q = 5"
   ]
  },
  {
   "cell_type": "markdown",
   "metadata": {},
   "source": [
    "**Range KNN Priority queue**"
   ]
  },
  {
   "cell_type": "code",
   "execution_count": 19,
   "metadata": {},
   "outputs": [
    {
     "name": "stdout",
     "output_type": "stream",
     "text": [
      "Resultado para k=8: [(5, 0.0), (578, 42.18969438056244), (1955, 44.73881159385126), (475, 44.92502947385553), (4, 45.16398389591528), (929, 45.395156714320734), (505, 45.71342807329074), (96, 45.74680786205768)]\n",
      "Tiempo promedio: 6.101983547210693 segundos\n"
     ]
    }
   ],
   "source": [
    "query = datatrain.iloc[ind_q]\n",
    "#dataT = datatrain.drop([ind_q], axis=0, inplace=False)\n",
    "dataT = datatrain\n",
    "result = knnSearch(dataT.values, query, k)\n",
    "# Promedio de tiempo\n",
    "total_time = 0\n",
    "for _ in range(10):\n",
    "    start_time = time.time()\n",
    "    result = knnSearch(dataT.values, query, k)\n",
    "    end_time = time.time()\n",
    "    total_time += end_time - start_time\n",
    "average_time = total_time\n",
    "\n",
    "print(f'Resultado para k={k}: {result}')\n",
    "print(f'Tiempo promedio: {average_time} segundos') "
   ]
  },
  {
   "cell_type": "markdown",
   "metadata": {},
   "source": [
    "**Range KNN Radio**"
   ]
  },
  {
   "cell_type": "code",
   "execution_count": 20,
   "metadata": {},
   "outputs": [
    {
     "name": "stdout",
     "output_type": "stream",
     "text": [
      "Resultado para radio=60.40488682964991: [5, 578, 1955, 475, 4, 929, 505, 96, 1920, 493, 1857, 548, 85, 255, 1091, 482, 407, 692, 1496, 461, 789, 428, 362, 945, 662, 447, 559, 788, 1238, 628, 156, 1164, 456, 1521, 487, 529, 552, 491, 919, 439, 315, 829, 1052, 1124, 611, 1942, 1772, 308, 304, 815, 556, 397, 28, 182, 195, 329, 236, 566, 858, 438, 1717, 402, 1965, 717, 874, 897, 335, 921, 1706, 1611, 1738, 276, 1928, 1956, 298, 1637, 1922, 1497, 535, 863, 1064, 1987, 374, 616, 896, 991, 1211, 949, 927, 1061, 151, 1683, 431, 806, 440, 627, 1914, 401, 1791, 131, 1483, 1730, 361, 1189, 905]\n",
      "Tiempo promedio: 0.3452352285385132 segundos\n",
      "Resultado para radio=76.06264876876502: [5, 578, 1955, 475, 4, 929, 505, 96, 1920, 493, 1857, 548, 85, 255, 1091, 482, 407, 692, 1496, 461, 789, 428, 362, 945, 662, 447, 559, 788, 1238, 628, 156, 1164, 456, 1521, 487, 529, 552, 491, 919, 439, 315, 829, 1052, 1124, 611, 1942, 1772, 308, 304, 815, 556, 397, 28, 182, 195, 329, 236, 566, 858, 438, 1717, 402, 1965, 717, 874, 897, 335, 921, 1706, 1611, 1738, 276, 1928, 1956, 298, 1637, 1922, 1497, 535, 863, 1064, 1987, 374, 616, 896, 991, 1211, 949, 927, 1061, 151, 1683, 431, 806, 440, 627, 1914, 401, 1791, 131, 1483, 1730, 361, 1189, 905, 1946, 1874, 324, 254, 750, 1892, 814, 233, 567, 1028, 1779, 1929, 228, 317, 1973, 1411, 1606, 1417, 1658, 1026, 102, 1938, 729, 223, 1453, 67, 225, 1762, 889, 459, 247, 1525, 285, 476, 1796, 322, 826, 1808, 651, 582, 421, 1084, 1479, 1961, 836, 603, 1018, 1950, 1280, 387, 1461, 547, 676, 571, 570, 624, 21, 850, 873, 1679, 87, 1879, 580, 1607, 827, 390, 654, 1635, 1139, 1978, 1121, 809, 562, 1082, 388, 1721, 1130, 301, 537, 40, 1745, 1999, 1860, 1975, 1299, 918, 435, 1819, 237, 426, 880, 1771, 550, 1551, 770, 688, 959, 1880, 466, 1086, 1997, 17, 1075, 860, 323, 1861, 1385, 1934, 1433, 1937, 404, 1307, 1949, 1380, 232, 1735, 1769, 937, 1985, 846, 149, 504, 1060, 837, 213, 1567, 1328, 249, 531, 1448, 968, 150, 1754, 1568, 1169, 1909, 1918, 1562, 951, 575, 199, 935, 604, 1887, 31, 1812, 1904, 417, 164, 400, 1763, 821, 893, 1845, 904, 328, 7, 1868, 1613, 1577, 468, 1514, 1603, 1694, 1271, 134, 1833, 1097, 1041, 804, 1947, 256, 1049, 146, 445, 586, 34, 753, 270, 848, 1345, 312, 1743, 701, 894, 1665, 1737, 1125, 1023, 1198, 1527, 1894, 1556, 876, 599, 797, 1653, 1926, 1642, 1529, 345, 801, 355, 45, 832, 1219, 496, 740, 1793, 1705, 1441, 410, 286, 1976, 1230, 1756, 1939, 792, 1908, 399, 1886, 449, 1923, 900, 629, 839, 291, 296, 327, 1982, 1733, 741, 524, 1399, 360, 560, 810, 359, 263, 1723, 1945, 1878, 1541, 1844, 1253, 1782, 295, 845, 344, 813, 781, 1992, 220, 1131, 1825, 924, 1025]\n",
      "Tiempo promedio: 0.33952066898345945 segundos\n",
      "Resultado para radio=91.70262677345778: [5, 578, 1955, 475, 4, 929, 505, 96, 1920, 493, 1857, 548, 85, 255, 1091, 482, 407, 692, 1496, 461, 789, 428, 362, 945, 662, 447, 559, 788, 1238, 628, 156, 1164, 456, 1521, 487, 529, 552, 491, 919, 439, 315, 829, 1052, 1124, 611, 1942, 1772, 308, 304, 815, 556, 397, 28, 182, 195, 329, 236, 566, 858, 438, 1717, 402, 1965, 717, 874, 897, 335, 921, 1706, 1611, 1738, 276, 1928, 1956, 298, 1637, 1922, 1497, 535, 863, 1064, 1987, 374, 616, 896, 991, 1211, 949, 927, 1061, 151, 1683, 431, 806, 440, 627, 1914, 401, 1791, 131, 1483, 1730, 361, 1189, 905, 1946, 1874, 324, 254, 750, 1892, 814, 233, 567, 1028, 1779, 1929, 228, 317, 1973, 1411, 1606, 1417, 1658, 1026, 102, 1938, 729, 223, 1453, 67, 225, 1762, 889, 459, 247, 1525, 285, 476, 1796, 322, 826, 1808, 651, 582, 421, 1084, 1479, 1961, 836, 603, 1018, 1950, 1280, 387, 1461, 547, 676, 571, 570, 624, 21, 850, 873, 1679, 87, 1879, 580, 1607, 827, 390, 654, 1635, 1139, 1978, 1121, 809, 562, 1082, 388, 1721, 1130, 301, 537, 40, 1745, 1999, 1860, 1975, 1299, 918, 435, 1819, 237, 426, 880, 1771, 550, 1551, 770, 688, 959, 1880, 466, 1086, 1997, 17, 1075, 860, 323, 1861, 1385, 1934, 1433, 1937, 404, 1307, 1949, 1380, 232, 1735, 1769, 937, 1985, 846, 149, 504, 1060, 837, 213, 1567, 1328, 249, 531, 1448, 968, 150, 1754, 1568, 1169, 1909, 1918, 1562, 951, 575, 199, 935, 604, 1887, 31, 1812, 1904, 417, 164, 400, 1763, 821, 893, 1845, 904, 328, 7, 1868, 1613, 1577, 468, 1514, 1603, 1694, 1271, 134, 1833, 1097, 1041, 804, 1947, 256, 1049, 146, 445, 586, 34, 753, 270, 848, 1345, 312, 1743, 701, 894, 1665, 1737, 1125, 1023, 1198, 1527, 1894, 1556, 876, 599, 797, 1653, 1926, 1642, 1529, 345, 801, 355, 45, 832, 1219, 496, 740, 1793, 1705, 1441, 410, 286, 1976, 1230, 1756, 1939, 792, 1908, 399, 1886, 449, 1923, 900, 629, 839, 291, 296, 327, 1982, 1733, 741, 524, 1399, 360, 560, 810, 359, 263, 1723, 1945, 1878, 1541, 1844, 1253, 1782, 295, 845, 344, 813, 781, 1992, 220, 1131, 1825, 924, 1025, 709, 1195, 1798, 412, 1401, 981, 425, 444, 944, 1823, 340, 113, 1608, 793, 1560, 318, 840, 818, 1406, 802, 226, 594, 1698, 851, 1697, 403, 509, 1094, 1159, 1174, 1691, 1729, 865, 698, 1722, 319, 51, 1625, 798, 1727, 1734, 1275, 1781, 803, 984, 1490, 1871, 1852, 1281, 867, 612, 1935, 136, 888, 637, 78, 252, 1827, 1454, 1353, 595, 94, 946, 891, 569, 1196, 1243, 1830, 259, 1, 1612, 292, 1664, 660, 2, 916, 103, 591, 787, 1784, 1339, 581, 1666, 914, 473, 887, 1308, 369, 1751, 1400, 325, 939, 265, 1100, 992, 819, 1020, 500, 833, 1162, 290, 1725, 920, 1818, 248, 86, 723, 1631, 54, 283, 1284, 18, 606, 1510, 1872, 685, 1919, 1686, 396, 234, 934, 877, 316, 373, 1107, 484, 961, 862, 890, 1073, 221, 1716, 807, 687, 262, 43, 1210, 1957, 1190, 700, 271, 413, 1840, 663, 1807, 1528, 820, 1952, 917, 1153, 1746, 395, 1297, 508, 1565, 1917, 765, 405, 1901, 812, 518, 77, 1085, 1970, 1057, 1890, 169, 955, 533, 1794, 1120, 253, 120, 41, 1644, 842, 284, 759, 1459, 1816, 618, 179, 416, 1017, 1848, 1115, 1355, 1523, 155, 280, 682, 587, 1557, 452, 1503, 1542, 1279, 1260, 712, 181, 1750, 1801, 1803, 170, 429, 1821, 1693, 828, 160, 3, 50, 539, 1573, 1595, 1765, 1862, 843, 953, 1104, 137, 1971, 1544, 30, 1776, 1405, 314, 289, 761, 1814, 364, 857, 1055, 565, 370, 1670, 834, 1984, 584, 1979, 1138, 1720, 849, 596, 1455, 892, 93, 1988, 895, 1989, 543, 1081, 175, 287, 122, 643, 623, 1578, 1998, 583, 358, 1495, 681, 931, 854, 1867, 1948, 1660, 1895, 499, 331, 1685, 288, 1726, 251, 898, 907, 1930, 1489, 613, 1941, 1991, 463, 1347, 1430, 1990, 1334, 235, 525, 158, 1090, 610, 1709, 343, 1773, 1333, 800, 644, 1437, 424, 1943, 1181, 1383, 633, 1185, 1378, 641, 1659, 1753, 1056, 1015, 1518, 670, 178, 1036, 386, 564, 1507, 366, 985, 306, 823, 1237, 81, 1467, 1974, 614, 542, 1044, 527, 714, 757, 1835, 1863, 1916, 1273, 1231, 1532, 1008, 649]\n",
      "Tiempo promedio: 0.3536070346832275 segundos\n"
     ]
    }
   ],
   "source": [
    "D = genDistancias(datatrain.values, 8000)\n",
    "\n",
    "# Calcular percentiles para elegir r1, r2, y r3\n",
    "percentiles = np.percentile(D, [10, 20, 30]) # tmb puede ser [25, 50, 75]\n",
    "r1, r2, r3 = percentiles[0], percentiles[1], percentiles[2]\n",
    "\n",
    "# calcular la busqueda por rango\n",
    "radios_obtenidos = [r1, r2, r3]\n",
    "\n",
    "for radio in radios_obtenidos:\n",
    "    query = datatrain.iloc[ind_q]\n",
    "    dataT = datatrain\n",
    "    # Promedio\n",
    "    total_time = 0\n",
    "    for _ in range(10):\n",
    "        start_time = time.time()\n",
    "        result = rangeSearch(dataT.values, query, radio, ind_q)\n",
    "        end_time = time.time()\n",
    "        total_time += end_time - start_time\n",
    "    average_time = total_time / 10\n",
    "\n",
    "    print(f'Resultado para radio={radio}: {result}')\n",
    "    print(f'Tiempo promedio: {average_time} segundos')"
   ]
  },
  {
   "cell_type": "markdown",
   "metadata": {},
   "source": [
    "**RTree KNN**"
   ]
  },
  {
   "cell_type": "code",
   "execution_count": 21,
   "metadata": {},
   "outputs": [
    {
     "name": "stdout",
     "output_type": "stream",
     "text": [
      "La consulta tomó en promedio 0.0011132717132568359 segundos\n",
      "Las k:8 canciones más cercanas a la consulta son (contar la query): [5, 578, 1955, 475, 4, 929, 505, 96]\n"
     ]
    }
   ],
   "source": [
    "D = len(datatrain.columns)  \n",
    "\n",
    "# Create a new RTree index\n",
    "prop = rtree.index.Property()\n",
    "prop.dimension = D    # dimension del vector caracteristico\n",
    "prop.buffering_capacity = 8    # Cantidad maxima de MBRs en un nodo \n",
    "ind = rtree.index.Index(properties = prop)\n",
    "\n",
    "#Generar los datos    \n",
    "data = datatrain.values\n",
    "query = data[ind_q]\n",
    "\n",
    "# insertar los puntos                \n",
    "for i in range(data.shape[0]):\n",
    "    ind.insert(i, data[i])    \n",
    "\n",
    "knn_rtree(data, query, k, 64)"
   ]
  },
  {
   "cell_type": "markdown",
   "metadata": {},
   "source": [
    "**HighD**"
   ]
  },
  {
   "cell_type": "code",
   "execution_count": 22,
   "metadata": {},
   "outputs": [
    {
     "name": "stdout",
     "output_type": "stream",
     "text": [
      "Tiempo de ejecución promedio de knn_faiss: 0.0007781505584716797 segundos\n",
      "Los k=8 más cercanos a la consulta son:[   5  578 1955  475    4  929  505   96]\n",
      "Las distancias a los k=8 vecinos más cercanos son:[   0.     1779.9702 2001.5612 2018.2582 2039.7855 2060.7205 2089.7178\n",
      " 2092.7705]\n"
     ]
    }
   ],
   "source": [
    "#Generar los datos    \n",
    "data = datatrain.values\n",
    "query = data[5]\n",
    "\n",
    "faiss_knn_results, faiss_knn_distances, average_time = knn_faiss(data, query, k=8)\n",
    "\n",
    "print(f\"Tiempo de ejecución promedio de knn_faiss: {average_time} segundos\")\n",
    "print(f'Los k={k} más cercanos a la consulta son:{faiss_knn_results}') # faiss_knn_results[1:]\n",
    "print(f'Las distancias a los k={k} vecinos más cercanos son:{faiss_knn_distances}') # faiss_knn_results[1:]"
   ]
  },
  {
   "cell_type": "markdown",
   "metadata": {},
   "source": [
    "# Testbench 4k"
   ]
  },
  {
   "cell_type": "markdown",
   "metadata": {},
   "source": [
    "**Extracción de características**"
   ]
  },
  {
   "cell_type": "code",
   "execution_count": 23,
   "metadata": {},
   "outputs": [
    {
     "name": "stderr",
     "output_type": "stream",
     "text": [
      "[src/libmpg123/layer3.c:INT123_do_layer3():1841] error: dequantization failed!\n",
      "[src/libmpg123/layer3.c:INT123_do_layer3():1771] error: part2_3_length (3264) too large for available bit count (3224)\n",
      "[src/libmpg123/layer3.c:INT123_do_layer3():1801] error: dequantization failed!\n"
     ]
    },
    {
     "name": "stdout",
     "output_type": "stream",
     "text": [
      "Características guardadas en caracteristicas_4000.txt\n"
     ]
    }
   ],
   "source": [
    "features = extract_n_features(4000, 64, 8)\n",
    "\n",
    "# Guardar las características en un archivo CSV\n",
    "output_file = 'caracteristicas_4000.txt'\n",
    "with open(output_file, 'w') as f:\n",
    "    for audio_path, feature_vector in features.items():\n",
    "        feature_str = ','.join(map(str, feature_vector))\n",
    "        f.write(feature_str + '\\n')\n",
    "\n",
    "print(f'Características guardadas en {output_file}')\n",
    "\n",
    "# Variables para tests\n",
    "datatrain = pd.read_csv('caracteristicas_4000.txt', delimiter=',',header=None)\n",
    "k = 8\n",
    "ind_q = 5"
   ]
  },
  {
   "cell_type": "markdown",
   "metadata": {},
   "source": [
    "**Range KNN Priority queue**"
   ]
  },
  {
   "cell_type": "code",
   "execution_count": 24,
   "metadata": {},
   "outputs": [
    {
     "name": "stdout",
     "output_type": "stream",
     "text": [
      "Resultado para k=8: [(5, 0.0), (930, 36.72489783893421), (578, 40.403514219396385), (3421, 41.562003368466094), (3024, 44.8618206449251), (0, 45.16398389591528), (1125, 45.244057322367745), (184, 45.43412030859485)]\n",
      "Tiempo promedio: 12.977379083633423 segundos\n"
     ]
    }
   ],
   "source": [
    "query = datatrain.iloc[ind_q]\n",
    "#dataT = datatrain.drop([ind_q], axis=0, inplace=False)\n",
    "dataT = datatrain\n",
    "result = knnSearch(dataT.values, query, k)\n",
    "# Promedio de tiempo\n",
    "total_time = 0\n",
    "for _ in range(10):\n",
    "    start_time = time.time()\n",
    "    result = knnSearch(dataT.values, query, k)\n",
    "    end_time = time.time()\n",
    "    total_time += end_time - start_time\n",
    "average_time = total_time\n",
    "\n",
    "print(f'Resultado para k={k}: {result}')\n",
    "print(f'Tiempo promedio: {average_time} segundos') "
   ]
  },
  {
   "cell_type": "markdown",
   "metadata": {},
   "source": [
    "**Range KNN Radio**"
   ]
  },
  {
   "cell_type": "code",
   "execution_count": 25,
   "metadata": {},
   "outputs": [
    {
     "name": "stdout",
     "output_type": "stream",
     "text": [
      "Resultado para radio=63.426783318861716: [5, 930, 578, 3421, 3024, 0, 1125, 184, 1954, 3566, 1496, 693, 83, 2054, 2999, 492, 3905, 3528, 922, 2818, 89, 3877, 1919, 3870, 1523, 454, 2852, 3412, 817, 1060, 2900, 450, 3973, 581, 2415, 3181, 529, 827, 3758, 1166, 2400, 950, 3676, 1186, 3894, 28, 473, 2035, 3942, 2941, 1093, 3409, 3434, 2569, 894, 948, 789, 1241, 477, 310, 663, 68, 1925, 788, 3729, 1705, 546, 3091, 1520, 837, 2008, 249, 610, 575, 506, 2031, 360, 1857, 3931, 460, 858, 3456, 547, 861, 320, 720, 3068, 1413, 2128, 2440, 3748, 920, 924, 2591, 2411, 314, 195, 37, 3873, 3823, 3696, 2321, 1904, 428, 811, 2433, 2195, 274, 1938, 751, 155, 1613, 2055, 2300, 2892, 1746, 301, 3826, 3952, 329, 2387, 3242, 550, 1327, 3087, 3186, 3807, 3718, 3733, 2665, 895, 1922, 3974, 407, 3187, 3398, 1939, 340, 3911, 1482, 2731, 1858, 3726, 807, 3090, 1078, 1873, 397, 1063, 2409, 1686, 2737, 1894, 1951, 801, 3179, 1639, 2018, 3944, 466, 1774, 439, 3472, 1094, 1717]\n",
      "Tiempo promedio: 0.6834704875946045 segundos\n",
      "Resultado para radio=79.89283894317886: [5, 930, 578, 3421, 3024, 0, 1125, 184, 1954, 3566, 1496, 693, 83, 2054, 2999, 492, 3905, 3528, 922, 2818, 89, 3877, 1919, 3870, 1523, 454, 2852, 3412, 817, 1060, 2900, 450, 3973, 581, 2415, 3181, 529, 827, 3758, 1166, 2400, 950, 3676, 1186, 3894, 28, 473, 2035, 3942, 2941, 1093, 3409, 3434, 2569, 894, 948, 789, 1241, 477, 310, 663, 68, 1925, 788, 3729, 1705, 546, 3091, 1520, 837, 2008, 249, 610, 575, 506, 2031, 360, 1857, 3931, 460, 858, 3456, 547, 861, 320, 720, 3068, 1413, 2128, 2440, 3748, 920, 924, 2591, 2411, 314, 195, 37, 3873, 3823, 3696, 2321, 1904, 428, 811, 2433, 2195, 274, 1938, 751, 155, 1613, 2055, 2300, 2892, 1746, 301, 3826, 3952, 329, 2387, 3242, 550, 1327, 3087, 3186, 3807, 3718, 3733, 2665, 895, 1922, 3974, 407, 3187, 3398, 1939, 340, 3911, 1482, 2731, 1858, 3726, 807, 3090, 1078, 1873, 397, 1063, 2409, 1686, 2737, 1894, 1951, 801, 3179, 1639, 2018, 3944, 466, 1774, 439, 3472, 1094, 1717, 3703, 2051, 2945, 335, 1861, 1853, 627, 3302, 3670, 2297, 3319, 3793, 2413, 100, 3088, 555, 3591, 626, 1479, 2794, 2796, 402, 872, 2877, 1130, 3396, 1930, 841, 3839, 223, 1867, 3408, 618, 2736, 566, 1728, 2237, 571, 568, 3757, 2524, 560, 3145, 2499, 625, 1765, 1742, 891, 2754, 1665, 230, 318, 436, 2707, 991, 3771, 255, 1913, 3634, 1124, 3034, 3645, 3407, 2623, 3773, 2069, 3112, 459, 3235, 1966, 3050, 847, 1879, 480, 1957, 1811, 3353, 3802, 3817, 1988, 361, 2827, 1297, 3450, 3461, 1611, 2851, 1976, 3829, 2670, 2996, 3142, 2755, 45, 1886, 2538, 2, 2496, 489, 2595, 2810, 2304, 3563, 1433, 3716, 488, 783, 1796, 688, 2752, 3983, 3190, 154, 1281, 2452, 951, 3243, 1527, 899, 2763, 3427, 3558, 1028, 1560, 3074, 2453, 3834, 1566, 1790, 3311, 3577, 2514, 2697, 536, 906, 859, 830, 1041, 3138, 1908, 1014, 2070, 583, 606, 237, 1083, 400, 305, 3777, 1453, 1843, 3030, 430, 98, 2019, 1052, 2138, 1050, 2308, 19, 246, 2442, 875, 1617, 1625, 21, 1498, 1418, 420, 2533, 316, 299, 570, 602, 2768, 2451, 1139, 3468, 2162, 3712, 1441, 2119, 1454, 651, 2113, 3531, 3920, 3116, 1924, 3827, 1025, 3553, 3399, 1739, 3429, 2159, 426, 3697, 957, 1877, 1657, 1812, 2068, 3508, 222, 2146, 132, 3705, 1959, 2626, 2074, 2463, 3945, 727, 1777, 441, 2067, 3981, 1936, 2011, 1107, 2103, 1907, 552, 3781, 1307, 1578, 1738, 832, 2010, 2479, 3910, 849, 3881, 2647, 3896, 2850, 2918, 939, 224, 2546, 2939, 2445, 812, 2963, 1982, 2940, 3940, 1569, 2144, 3655, 2660, 714, 3154, 2878, 3178, 3280, 435, 1972, 3500, 1132, 1058, 254, 852, 1299, 1979, 3180, 2762, 1946, 234, 2666, 1734, 286, 505, 1722, 247, 3533, 2319, 2683, 323, 1723, 797, 1947, 2081, 3644, 2565, 1948, 3368, 3806, 3711, 563, 389, 1099, 1526, 2239, 1340, 1165, 1887, 2689, 3723, 1461, 530, 3808, 2219, 3259, 1086, 3327, 2430, 345, 2052, 2016, 444, 3874, 3766, 2661, 383, 3734, 1999, 3875, 3624, 2457, 590, 2962, 3362, 3824, 2478, 741, 1844, 232, 2243, 2393, 112, 603, 3366, 3943, 919, 2634, 3066, 754, 650, 324, 2469, 499, 1832, 3846, 3469, 121, 3238, 3631, 2429, 524, 1551, 2001, 3999, 1729, 1923, 327, 1558, 376, 818, 1985, 85, 3105, 3522, 3100, 3765, 1218, 3842, 1703, 3684, 1604, 346, 1080, 3083, 3713, 678, 1668, 2227, 199, 390, 3662, 3013, 963, 896, 2084, 829, 284, 2057, 2422, 888, 3094, 2250, 2082, 1693, 2257, 213, 1163, 2890, 2920, 2820, 429, 3147, 1771, 149, 2136, 414, 1023, 3549, 1761, 1754, 2817, 398, 936, 1160, 1271, 1652, 2775, 1736, 238, 1384, 2383, 1689, 3307, 2245, 2179, 2023, 820, 2722, 2043, 3892, 3128, 1406, 447, 700, 1084, 737, 1933, 2880, 1797, 1758, 1514, 1891, 3144, 2366, 2233, 3096, 1880, 2682, 3606, 3418, 2208, 2995, 3895, 1769, 1212, 2361, 2989, 415, 2481, 3862, 1671, 1820, 535, 1679, 3779, 2441, 3949, 137, 2580, 833, 3767, 3810, 3681, 2311, 328, 846, 468, 1699, 356, 532, 2904, 685, 1279, 2680, 3639, 1577, 1606, 3946, 3104, 3957, 134, 2370, 1123, 518, 3955, 3052, 2513, 1538, 3636, 1795]\n",
      "Tiempo promedio: 0.6994601488113403 segundos\n",
      "Resultado para radio=96.13749536438566: [5, 930, 578, 3421, 3024, 0, 1125, 184, 1954, 3566, 1496, 693, 83, 2054, 2999, 492, 3905, 3528, 922, 2818, 89, 3877, 1919, 3870, 1523, 454, 2852, 3412, 817, 1060, 2900, 450, 3973, 581, 2415, 3181, 529, 827, 3758, 1166, 2400, 950, 3676, 1186, 3894, 28, 473, 2035, 3942, 2941, 1093, 3409, 3434, 2569, 894, 948, 789, 1241, 477, 310, 663, 68, 1925, 788, 3729, 1705, 546, 3091, 1520, 837, 2008, 249, 610, 575, 506, 2031, 360, 1857, 3931, 460, 858, 3456, 547, 861, 320, 720, 3068, 1413, 2128, 2440, 3748, 920, 924, 2591, 2411, 314, 195, 37, 3873, 3823, 3696, 2321, 1904, 428, 811, 2433, 2195, 274, 1938, 751, 155, 1613, 2055, 2300, 2892, 1746, 301, 3826, 3952, 329, 2387, 3242, 550, 1327, 3087, 3186, 3807, 3718, 3733, 2665, 895, 1922, 3974, 407, 3187, 3398, 1939, 340, 3911, 1482, 2731, 1858, 3726, 807, 3090, 1078, 1873, 397, 1063, 2409, 1686, 2737, 1894, 1951, 801, 3179, 1639, 2018, 3944, 466, 1774, 439, 3472, 1094, 1717, 3703, 2051, 2945, 335, 1861, 1853, 627, 3302, 3670, 2297, 3319, 3793, 2413, 100, 3088, 555, 3591, 626, 1479, 2794, 2796, 402, 872, 2877, 1130, 3396, 1930, 841, 3839, 223, 1867, 3408, 618, 2736, 566, 1728, 2237, 571, 568, 3757, 2524, 560, 3145, 2499, 625, 1765, 1742, 891, 2754, 1665, 230, 318, 436, 2707, 991, 3771, 255, 1913, 3634, 1124, 3034, 3645, 3407, 2623, 3773, 2069, 3112, 459, 3235, 1966, 3050, 847, 1879, 480, 1957, 1811, 3353, 3802, 3817, 1988, 361, 2827, 1297, 3450, 3461, 1611, 2851, 1976, 3829, 2670, 2996, 3142, 2755, 45, 1886, 2538, 2, 2496, 489, 2595, 2810, 2304, 3563, 1433, 3716, 488, 783, 1796, 688, 2752, 3983, 3190, 154, 1281, 2452, 951, 3243, 1527, 899, 2763, 3427, 3558, 1028, 1560, 3074, 2453, 3834, 1566, 1790, 3311, 3577, 2514, 2697, 536, 906, 859, 830, 1041, 3138, 1908, 1014, 2070, 583, 606, 237, 1083, 400, 305, 3777, 1453, 1843, 3030, 430, 98, 2019, 1052, 2138, 1050, 2308, 19, 246, 2442, 875, 1617, 1625, 21, 1498, 1418, 420, 2533, 316, 299, 570, 602, 2768, 2451, 1139, 3468, 2162, 3712, 1441, 2119, 1454, 651, 2113, 3531, 3920, 3116, 1924, 3827, 1025, 3553, 3399, 1739, 3429, 2159, 426, 3697, 957, 1877, 1657, 1812, 2068, 3508, 222, 2146, 132, 3705, 1959, 2626, 2074, 2463, 3945, 727, 1777, 441, 2067, 3981, 1936, 2011, 1107, 2103, 1907, 552, 3781, 1307, 1578, 1738, 832, 2010, 2479, 3910, 849, 3881, 2647, 3896, 2850, 2918, 939, 224, 2546, 2939, 2445, 812, 2963, 1982, 2940, 3940, 1569, 2144, 3655, 2660, 714, 3154, 2878, 3178, 3280, 435, 1972, 3500, 1132, 1058, 254, 852, 1299, 1979, 3180, 2762, 1946, 234, 2666, 1734, 286, 505, 1722, 247, 3533, 2319, 2683, 323, 1723, 797, 1947, 2081, 3644, 2565, 1948, 3368, 3806, 3711, 563, 389, 1099, 1526, 2239, 1340, 1165, 1887, 2689, 3723, 1461, 530, 3808, 2219, 3259, 1086, 3327, 2430, 345, 2052, 2016, 444, 3874, 3766, 2661, 383, 3734, 1999, 3875, 3624, 2457, 590, 2962, 3362, 3824, 2478, 741, 1844, 232, 2243, 2393, 112, 603, 3366, 3943, 919, 2634, 3066, 754, 650, 324, 2469, 499, 1832, 3846, 3469, 121, 3238, 3631, 2429, 524, 1551, 2001, 3999, 1729, 1923, 327, 1558, 376, 818, 1985, 85, 3105, 3522, 3100, 3765, 1218, 3842, 1703, 3684, 1604, 346, 1080, 3083, 3713, 678, 1668, 2227, 199, 390, 3662, 3013, 963, 896, 2084, 829, 284, 2057, 2422, 888, 3094, 2250, 2082, 1693, 2257, 213, 1163, 2890, 2920, 2820, 429, 3147, 1771, 149, 2136, 414, 1023, 3549, 1761, 1754, 2817, 398, 936, 1160, 1271, 1652, 2775, 1736, 238, 1384, 2383, 1689, 3307, 2245, 2179, 2023, 820, 2722, 2043, 3892, 3128, 1406, 447, 700, 1084, 737, 1933, 2880, 1797, 1758, 1514, 1891, 3144, 2366, 2233, 3096, 1880, 2682, 3606, 3418, 2208, 2995, 3895, 1769, 1212, 2361, 2989, 415, 2481, 3862, 1671, 1820, 535, 1679, 3779, 2441, 3949, 137, 2580, 833, 3767, 3810, 3681, 2311, 328, 846, 468, 1699, 356, 532, 2904, 685, 1279, 2680, 3639, 1577, 1606, 3946, 3104, 3957, 134, 2370, 1123, 518, 3955, 3052, 2513, 1538, 3636, 1795, 1871, 2286, 863, 2006, 290, 1345, 2053, 1635, 309, 1428, 3433, 1932, 1977, 1841, 569, 2913, 2170, 3682, 412, 3189, 3787, 2216, 1747, 1253, 3685, 150, 3772, 404, 1750, 794, 708, 3081, 2214, 1720, 2405, 3677, 325, 3017, 2261, 2508, 1565, 2197, 3903, 2050, 1405, 257, 267, 2105, 3811, 2657, 2428, 3735, 823, 961, 3961, 1195, 3762, 3177, 1019, 826, 3790, 917, 918, 770, 612, 1261, 1784, 272, 592, 2825, 3736, 2633, 1311, 2564, 3669, 2435, 880, 161, 1398, 2846, 1822, 1379, 804, 427, 2842, 1829, 2038, 31, 1992, 559, 1818, 2270, 3932, 2060, 2582, 2333, 1726, 2426, 3422, 3053, 3584, 359, 2404, 54, 3642, 3722, 251, 2694, 2449, 1607, 1733, 844, 1401, 605, 2709, 3164, 2461, 3043, 2985, 2077, 252, 3470, 1833, 1344, 2516, 978, 838, 1095, 834, 1196, 2617, 102, 2958, 2673, 3989, 1978, 3835, 1400, 1975, 3689, 264, 3587, 686, 800, 443, 3354, 1718, 916, 3664, 2444, 1303, 1981, 2953, 3292, 3127, 3348, 3394, 1782, 1066, 3331, 1970, 3085, 144, 1816, 3361, 2172, 2957, 1700, 2654, 1641, 1557, 2079, 2655, 173, 616, 2363, 2416, 1958, 845, 1353, 2695, 2417, 2357, 317, 295, 2486, 1229, 3356, 887, 1069, 485, 3966, 2443, 3992, 2719, 2455, 809, 1044, 889, 865, 2535, 722, 1200, 2218, 660, 3579, 698, 730, 940, 839, 699, 2492, 3279, 3402, 2607, 1532, 614, 2397, 2412, 3954, 416, 103, 2668, 2046, 927, 1449, 34, 3928, 764, 3207, 3018, 2047, 1918, 2681, 2780, 2615, 1275, 2194, 78, 1512, 1286, 3728, 362, 798, 1870, 2454, 3529, 943, 2459, 2086, 2723, 3543, 2632, 2924, 2771, 3610, 3865, 2059, 2746, 3428, 1210, 1799, 1232, 1156, 2841, 6, 983, 403, 1192, 2671, 2256, 3166, 3971, 3959, 1383, 2431, 2477, 2679, 519, 3727, 2359, 897, 904, 2181, 3649, 261, 2071, 1920, 3021, 658, 1817, 3149, 1805, 3058, 3926, 1660, 2563, 2281, 3673, 696, 2131, 638, 4, 508, 992, 413, 3885, 2774, 2579, 1940, 1100, 2091, 2106, 2223, 645, 3986, 2788, 2353, 2947, 1029, 2107, 228, 946, 3173, 933, 2447, 2687, 803, 1488, 2406, 802, 511, 632, 1862, 1953, 319, 3095, 3962, 623, 123, 1732, 1752, 2271, 2358, 3866, 3481, 1381, 1917, 3274, 1136, 3743, 3403, 893, 2045, 3536, 3597, 18, 589, 792, 3560, 3937, 270, 2860, 2943, 1332, 3938, 2609, 1334, 1691, 2674, 1417, 297, 876, 2765, 2217, 2638, 1018, 2642, 77, 3856, 877, 56, 1614, 3198, 1868, 955, 1825, 135, 2589, 405, 539, 683, 3471, 2676, 915, 757, 3067, 1751, 2260, 1944, 292, 3069, 2209, 1009, 2372, 784, 1663, 595, 934, 3647, 1895, 3060, 892, 3387, 2826, 401, 593, 2728, 1176, 1331, 41, 160, 2929, 2814, 1283, 3871, 905, 890, 746, 1238, 1056, 1270, 3077, 3887, 2012, 260, 1325, 2039, 394, 642, 2064, 233, 1528, 724, 2029, 3072, 3512, 1683, 1085, 1459, 3816, 3, 364, 3124, 3930, 3759, 1748, 245, 1888, 3909, 2232, 2711, 1365, 2905, 3172, 2350, 2161, 365, 1120, 152, 813, 3404, 271, 1804, 3922, 3822, 2795, 1792, 816, 763, 985, 289, 253, 2313, 2368, 2730, 806, 2291, 681, 2906, 3849, 3108, 2806, 2872, 3349, 752, 2030, 768, 280, 1530, 765, 1964, 2132, 676, 350, 1377, 1032, 3980, 1856, 2571, 29, 1556, 1852, 1997, 565, 2203, 1837, 867, 94, 180, 2173, 2599, 1643, 567, 1494, 2264, 1706, 1814, 1437, 760, 1508, 344, 2574, 2701, 236, 475, 367, 455, 291, 1164, 1521, 3256, 217, 622, 2177, 500, 288, 3495, 3876, 1091, 671, 1057, 854, 1456, 814, 669, 497, 306, 2324, 2151, 1800, 79, 1882, 964, 646, 1971, 853, 1598, 1544, 2650, 44, 179, 2391, 713, 315, 283, 1054, 697, 588, 580, 347, 1505, 285, 2386, 2473, 1949, 1553, 3947, 3447, 613, 3621, 1781, 221, 734, 2163, 527, 1990, 385, 418, 3384, 2390, 2584, 266, 3744, 2619, 215, 706, 1991, 1466, 3615, 2292, 855, 374, 1984, 2460, 1849, 1776, 1476, 2849, 1630, 1911, 2907, 1764, 3761, 1794, 3745, 2354, 2467, 1865, 3367, 1385, 1463, 3690, 1016, 1065]\n",
      "Tiempo promedio: 0.6689604043960571 segundos\n"
     ]
    }
   ],
   "source": [
    "D = genDistancias(datatrain.values, 12000)\n",
    "\n",
    "# Calcular percentiles para elegir r1, r2, y r3\n",
    "percentiles = np.percentile(D, [10, 20, 30]) # tmb puede ser [25, 50, 75]\n",
    "r1, r2, r3 = percentiles[0], percentiles[1], percentiles[2]\n",
    "\n",
    "# calcular la busqueda por rango\n",
    "radios_obtenidos = [r1, r2, r3]\n",
    "\n",
    "for radio in radios_obtenidos:\n",
    "    query = datatrain.iloc[ind_q]\n",
    "    dataT = datatrain\n",
    "    # Promedio\n",
    "    total_time = 0\n",
    "    for _ in range(10):\n",
    "        start_time = time.time()\n",
    "        result = rangeSearch(dataT.values, query, radio, ind_q)\n",
    "        end_time = time.time()\n",
    "        total_time += end_time - start_time\n",
    "    average_time = total_time / 10\n",
    "\n",
    "    print(f'Resultado para radio={radio}: {result}')\n",
    "    print(f'Tiempo promedio: {average_time} segundos')"
   ]
  },
  {
   "cell_type": "markdown",
   "metadata": {},
   "source": [
    "**RTree KNN**"
   ]
  },
  {
   "cell_type": "code",
   "execution_count": 26,
   "metadata": {},
   "outputs": [
    {
     "name": "stdout",
     "output_type": "stream",
     "text": [
      "La consulta tomó en promedio 0.005534076690673828 segundos\n",
      "Las k:8 canciones más cercanas a la consulta son (contar la query): [5, 930, 578, 3421, 3024, 0, 1125, 184]\n"
     ]
    }
   ],
   "source": [
    "D = len(datatrain.columns)  \n",
    "\n",
    "# Create a new RTree index\n",
    "prop = rtree.index.Property()\n",
    "prop.dimension = D    # dimension del vector caracteristico\n",
    "prop.buffering_capacity = 8    # Cantidad maxima de MBRs en un nodo \n",
    "ind = rtree.index.Index(properties = prop)\n",
    "\n",
    "#Generar los datos    \n",
    "data = datatrain.values\n",
    "query = data[ind_q]\n",
    "\n",
    "# insertar los puntos                \n",
    "for i in range(data.shape[0]):\n",
    "    ind.insert(i, data[i])    \n",
    "\n",
    "knn_rtree(data, query, k, 64)"
   ]
  },
  {
   "cell_type": "markdown",
   "metadata": {},
   "source": [
    "**HighD**"
   ]
  },
  {
   "cell_type": "code",
   "execution_count": 27,
   "metadata": {},
   "outputs": [
    {
     "name": "stdout",
     "output_type": "stream",
     "text": [
      "Tiempo de ejecución promedio de knn_faiss: 0.0010005712509155273 segundos\n",
      "Los k=8 más cercanos a la consulta son:[   5  930  578 3421 3024    0 1125  184]\n",
      "Las distancias a los k=8 vecinos más cercanos son:[   0.     1348.7183 1632.444  1727.4    2012.583  2039.7855 2047.0249\n",
      " 2064.2593]\n"
     ]
    }
   ],
   "source": [
    "#Generar los datos    \n",
    "data = datatrain.values\n",
    "query = data[5]\n",
    "\n",
    "faiss_knn_results, faiss_knn_distances, average_time = knn_faiss(data, query, k=8)\n",
    "\n",
    "print(f\"Tiempo de ejecución promedio de knn_faiss: {average_time} segundos\")\n",
    "print(f'Los k={k} más cercanos a la consulta son:{faiss_knn_results}') # faiss_knn_results[1:]\n",
    "print(f'Las distancias a los k={k} vecinos más cercanos son:{faiss_knn_distances}') # faiss_knn_results[1:]"
   ]
  },
  {
   "cell_type": "markdown",
   "metadata": {},
   "source": [
    "# Testbench 8k"
   ]
  },
  {
   "cell_type": "markdown",
   "metadata": {},
   "source": [
    "**Extracción de características**"
   ]
  },
  {
   "cell_type": "code",
   "execution_count": 28,
   "metadata": {},
   "outputs": [
    {
     "name": "stderr",
     "output_type": "stream",
     "text": [
      "[src/libmpg123/layer3.c:INT123_do_layer3():1841] error: dequantization failed!\n",
      "[src/libmpg123/layer3.c:INT123_do_layer3():1771] error: part2_3_length (3264) too large for available bit count (3224)\n",
      "[src/libmpg123/layer3.c:INT123_do_layer3():1801] error: dequantization failed!\n",
      "[src/libmpg123/layer3.c:INT123_do_layer3():1801] error: dequantization failed!\n",
      "[src/libmpg123/layer3.c:INT123_do_layer3():1801] error: dequantization failed!\n",
      "[src/libmpg123/layer3.c:INT123_do_layer3():1801] error: dequantization failed!\n",
      "[src/libmpg123/layer3.c:INT123_do_layer3():1801] error: dequantization failed!\n"
     ]
    },
    {
     "name": "stdout",
     "output_type": "stream",
     "text": [
      "Características guardadas en caracteristicas_8000.txt\n"
     ]
    }
   ],
   "source": [
    "features = extract_n_features(8000, 64, 8)\n",
    "\n",
    "# Guardar las características en un archivo CSV\n",
    "output_file = 'caracteristicas_8000.txt'\n",
    "with open(output_file, 'w') as f:\n",
    "    for audio_path, feature_vector in features.items():\n",
    "        feature_str = ','.join(map(str, feature_vector))\n",
    "        f.write(feature_str + '\\n')\n",
    "\n",
    "print(f'Características guardadas en {output_file}')\n",
    "\n",
    "# Variables para tests\n",
    "datatrain = pd.read_csv('caracteristicas_8000.txt', delimiter=',',header=None)\n",
    "k = 8\n",
    "ind_q = 5"
   ]
  },
  {
   "cell_type": "markdown",
   "metadata": {},
   "source": [
    "**Range KNN Priority queue**"
   ]
  },
  {
   "cell_type": "code",
   "execution_count": 29,
   "metadata": {},
   "outputs": [
    {
     "name": "stdout",
     "output_type": "stream",
     "text": [
      "Resultado para k=8: [(5, 0.0), (784, 29.24923060155461), (980, 29.42602781609264), (639, 30.116354291957794), (765, 30.265184933752206), (544, 31.792580509416787), (1014, 32.51851985615925), (6861, 32.93304487231995)]\n",
      "Tiempo promedio: 25.526981830596924 segundos\n"
     ]
    }
   ],
   "source": [
    "query = datatrain.iloc[ind_q]\n",
    "#dataT = datatrain.drop([ind_q], axis=0, inplace=False)\n",
    "dataT = datatrain\n",
    "result = knnSearch(dataT.values, query, k)\n",
    "# Promedio de tiempo\n",
    "total_time = 0\n",
    "for _ in range(10):\n",
    "    start_time = time.time()\n",
    "    result = knnSearch(dataT.values, query, k)\n",
    "    end_time = time.time()\n",
    "    total_time += end_time - start_time\n",
    "average_time = total_time\n",
    "\n",
    "print(f'Resultado para k={k}: {result}')\n",
    "print(f'Tiempo promedio: {average_time} segundos') "
   ]
  },
  {
   "cell_type": "markdown",
   "metadata": {},
   "source": [
    "**Range KNN Radio**"
   ]
  },
  {
   "cell_type": "code",
   "execution_count": 30,
   "metadata": {},
   "outputs": [
    {
     "name": "stdout",
     "output_type": "stream",
     "text": [
      "Resultado para radio=63.86916065497923: [5, 784, 980, 639, 765, 544, 1014, 6861, 105, 1006, 6315, 6850, 73, 7022, 5255, 1232, 761, 3047, 1157, 6115, 1574, 215, 4548, 206, 6274, 3066, 1201, 227, 2612, 7349, 5167, 312, 2716, 5284, 1221, 151, 7650, 2393, 1150, 2532, 6959, 209, 6541, 1184, 1143, 1472, 6549, 12, 5175, 1167, 7278, 2956, 1187, 6897, 2742, 6004, 168, 1411, 356, 6143, 6758, 1176, 3238, 7612, 5198, 4060, 54, 1612, 5950, 1142, 1214, 7132, 3658, 113, 220, 3717, 35, 1145, 6858, 1170, 6477, 5057, 7872, 3321, 3561, 7662, 678, 7621, 2280, 5271, 6943, 3477, 3551, 3473, 6757, 7618, 1092, 1656, 6916, 868, 190, 39, 4544, 6836, 3497, 6822, 1128, 841, 7240, 2150, 6823, 107, 79, 6410, 4922, 4450, 4138, 4122, 7016, 174, 6333, 4992, 3503, 7704, 1205, 1491, 1228, 3195, 5251, 3727, 4989, 5020, 1695, 5383, 5393, 3856, 6940, 1394, 1072, 1514, 2771, 2240, 1778, 1869, 4164, 5350, 3178, 48, 3393, 453, 6863, 5033, 5079, 6835, 6036, 6226, 7341, 6326, 4793, 1829, 6473, 4649, 6781, 4966, 13, 484, 2114, 186, 6397, 6210, 4874, 1133, 882, 6497, 3973, 6871, 2873, 2268, 7697, 7677, 7318, 1651, 6864, 1848, 2315, 6237, 3610, 6354, 6729, 6838, 3509, 1255, 6740, 4901, 3625, 1251, 6096, 3462, 2691, 1115, 5505, 3560, 7701, 6782, 443, 2868, 6428, 2798, 6482, 3030, 104, 2687, 3615, 7338, 2723, 299, 2714, 4705, 794, 6196, 3604, 114, 7635, 1204, 3638, 4505, 4967, 2806, 6293, 5183, 3676, 3686, 2696, 1555, 877, 2109, 3588, 3582, 5226, 6030, 3589, 1144, 6436, 1227, 3174, 6536, 167, 1409, 6641, 4264, 6356, 2203, 2084, 4919, 6542, 2130, 3429, 2340, 695, 5091, 63, 6507, 911, 208, 6279, 152, 5081, 6338, 125, 3570, 1288, 14, 4250, 1478, 2126, 6306, 1158, 4907, 6492, 2546, 1266, 4525, 1899, 2542, 4535, 6518, 2982, 7619, 3569, 6856, 883, 347, 2211, 2871, 7627, 4928, 1256, 6251, 6983, 409, 2294, 6820, 6825, 5686, 7036, 4480, 6327, 5232, 6776, 83, 6256, 5021, 6827, 2987, 1580, 1532, 130, 4287, 7633, 6426, 4707, 3500, 2593, 2284, 6102, 3160, 3519, 4506, 1853, 6357, 530, 76, 6366, 1356, 4082, 7593, 5406, 156, 5095, 2479, 6504, 3568, 6462, 4930, 7309, 3777, 131, 3521, 6693, 7968, 6100, 1449, 6566, 2823, 5016, 602, 4109, 5458, 5059, 6178, 5260, 109, 5797, 1416, 1148, 5989, 3375, 7654, 3678, 5405, 5018, 6616, 7648, 2551, 5083, 7713, 745, 7732, 6476, 4808, 2507, 4645, 3523, 4985, 1388, 165, 6323, 655, 598, 572, 6402]\n",
      "Tiempo promedio: 1.370993685722351 segundos\n",
      "Resultado para radio=79.52515834817648: [5, 784, 980, 639, 765, 544, 1014, 6861, 105, 1006, 6315, 6850, 73, 7022, 5255, 1232, 761, 3047, 1157, 6115, 1574, 215, 4548, 206, 6274, 3066, 1201, 227, 2612, 7349, 5167, 312, 2716, 5284, 1221, 151, 7650, 2393, 1150, 2532, 6959, 209, 6541, 1184, 1143, 1472, 6549, 12, 5175, 1167, 7278, 2956, 1187, 6897, 2742, 6004, 168, 1411, 356, 6143, 6758, 1176, 3238, 7612, 5198, 4060, 54, 1612, 5950, 1142, 1214, 7132, 3658, 113, 220, 3717, 35, 1145, 6858, 1170, 6477, 5057, 7872, 3321, 3561, 7662, 678, 7621, 2280, 5271, 6943, 3477, 3551, 3473, 6757, 7618, 1092, 1656, 6916, 868, 190, 39, 4544, 6836, 3497, 6822, 1128, 841, 7240, 2150, 6823, 107, 79, 6410, 4922, 4450, 4138, 4122, 7016, 174, 6333, 4992, 3503, 7704, 1205, 1491, 1228, 3195, 5251, 3727, 4989, 5020, 1695, 5383, 5393, 3856, 6940, 1394, 1072, 1514, 2771, 2240, 1778, 1869, 4164, 5350, 3178, 48, 3393, 453, 6863, 5033, 5079, 6835, 6036, 6226, 7341, 6326, 4793, 1829, 6473, 4649, 6781, 4966, 13, 484, 2114, 186, 6397, 6210, 4874, 1133, 882, 6497, 3973, 6871, 2873, 2268, 7697, 7677, 7318, 1651, 6864, 1848, 2315, 6237, 3610, 6354, 6729, 6838, 3509, 1255, 6740, 4901, 3625, 1251, 6096, 3462, 2691, 1115, 5505, 3560, 7701, 6782, 443, 2868, 6428, 2798, 6482, 3030, 104, 2687, 3615, 7338, 2723, 299, 2714, 4705, 794, 6196, 3604, 114, 7635, 1204, 3638, 4505, 4967, 2806, 6293, 5183, 3676, 3686, 2696, 1555, 877, 2109, 3588, 3582, 5226, 6030, 3589, 1144, 6436, 1227, 3174, 6536, 167, 1409, 6641, 4264, 6356, 2203, 2084, 4919, 6542, 2130, 3429, 2340, 695, 5091, 63, 6507, 911, 208, 6279, 152, 5081, 6338, 125, 3570, 1288, 14, 4250, 1478, 2126, 6306, 1158, 4907, 6492, 2546, 1266, 4525, 1899, 2542, 4535, 6518, 2982, 7619, 3569, 6856, 883, 347, 2211, 2871, 7627, 4928, 1256, 6251, 6983, 409, 2294, 6820, 6825, 5686, 7036, 4480, 6327, 5232, 6776, 83, 6256, 5021, 6827, 2987, 1580, 1532, 130, 4287, 7633, 6426, 4707, 3500, 2593, 2284, 6102, 3160, 3519, 4506, 1853, 6357, 530, 76, 6366, 1356, 4082, 7593, 5406, 156, 5095, 2479, 6504, 3568, 6462, 4930, 7309, 3777, 131, 3521, 6693, 7968, 6100, 1449, 6566, 2823, 5016, 602, 4109, 5458, 5059, 6178, 5260, 109, 5797, 1416, 1148, 5989, 3375, 7654, 3678, 5405, 5018, 6616, 7648, 2551, 5083, 7713, 745, 7732, 6476, 4808, 2507, 4645, 3523, 4985, 1388, 165, 6323, 655, 598, 572, 6402, 7257, 1122, 4756, 6929, 4145, 7270, 1037, 3587, 3611, 2309, 951, 7154, 4893, 7870, 5208, 5769, 1147, 2944, 1646, 119, 6519, 4293, 7397, 7614, 4954, 6925, 3011, 2845, 6808, 5017, 4187, 5122, 7009, 2010, 241, 7482, 2609, 6493, 1055, 5003, 5720, 3131, 1293, 1002, 3216, 7597, 1481, 5803, 1347, 6768, 4054, 2076, 1890, 75, 1592, 6551, 6422, 1198, 7325, 1194, 2051, 6311, 7335, 7893, 5188, 7636, 7997, 1362, 5173, 7530, 5416, 2539, 1171, 64, 3481, 4020, 2748, 2247, 5506, 5384, 1504, 912, 7331, 2004, 1468, 4194, 3663, 916, 7709, 6018, 3494, 3390, 5214, 815, 6876, 6430, 2066, 2205, 6791, 2969, 5557, 2334, 2185, 7688, 6121, 4712, 7293, 2246, 1259, 2286, 1009, 5820, 1442, 298, 2866, 145, 1178, 7376, 1760, 7055, 7895, 674, 6396, 959, 2182, 4849, 2518, 1173, 6907, 5419, 3614, 7161, 1653, 4828, 4824, 6523, 2288, 5043, 6755, 4978, 764, 3566, 4986, 1379, 211, 1089, 1326, 5103, 2155, 2407, 3887, 2201, 6714, 138, 7634, 7010, 7163, 4533, 7995, 908, 177, 4192, 1424, 3653, 6496, 7763, 6769, 6377, 34, 4343, 4531, 7645, 2732, 7545, 4946, 6512, 2147, 1414, 4119, 6434, 7974, 4829, 1140, 6759, 4656, 3640, 628, 2960, 129, 5369, 7556, 1203, 6442, 4876, 4507, 6725, 642, 4937, 7948, 2281, 2733, 6409, 2833, 6515, 5231, 3520, 7513, 1408, 6435, 5185, 2072, 1389, 871, 7202, 2316, 1742, 2768, 2344, 7505, 7433, 2180, 7655, 77, 1005, 6126, 6576, 872, 5094, 6406, 1113, 3372, 3482, 2423, 3409, 7806, 6344, 1659, 6478, 4016, 4725, 2224, 5958, 1440, 7729, 7330, 7170, 7837, 157, 7363, 4236, 3459, 6066, 4604, 7199, 1968, 6547, 2787, 7994, 1043, 415, 4819, 6437, 4752, 3356, 4593, 3418, 7843, 4913, 5163, 1455, 5761, 3725, 7712, 3256, 7165, 599, 2298, 1545, 6688, 1439, 6687, 4621, 773, 199, 1289, 1531, 3617, 4753, 175, 210, 5984, 68, 6382, 6765, 3781, 5250, 4521, 2867, 1892, 2021, 5937, 5052, 3377, 5106, 4663, 7919, 4152, 4523, 7894, 1078, 5128, 6658, 3327, 5969, 434, 5664, 41, 587, 7476, 6418, 4749, 7040, 106, 1307]\n",
      "Tiempo promedio: 1.3428697824478149 segundos\n",
      "Resultado para radio=94.79784135475947: [5, 784, 980, 639, 765, 544, 1014, 6861, 105, 1006, 6315, 6850, 73, 7022, 5255, 1232, 761, 3047, 1157, 6115, 1574, 215, 4548, 206, 6274, 3066, 1201, 227, 2612, 7349, 5167, 312, 2716, 5284, 1221, 151, 7650, 2393, 1150, 2532, 6959, 209, 6541, 1184, 1143, 1472, 6549, 12, 5175, 1167, 7278, 2956, 1187, 6897, 2742, 6004, 168, 1411, 356, 6143, 6758, 1176, 3238, 7612, 5198, 4060, 54, 1612, 5950, 1142, 1214, 7132, 3658, 113, 220, 3717, 35, 1145, 6858, 1170, 6477, 5057, 7872, 3321, 3561, 7662, 678, 7621, 2280, 5271, 6943, 3477, 3551, 3473, 6757, 7618, 1092, 1656, 6916, 868, 190, 39, 4544, 6836, 3497, 6822, 1128, 841, 7240, 2150, 6823, 107, 79, 6410, 4922, 4450, 4138, 4122, 7016, 174, 6333, 4992, 3503, 7704, 1205, 1491, 1228, 3195, 5251, 3727, 4989, 5020, 1695, 5383, 5393, 3856, 6940, 1394, 1072, 1514, 2771, 2240, 1778, 1869, 4164, 5350, 3178, 48, 3393, 453, 6863, 5033, 5079, 6835, 6036, 6226, 7341, 6326, 4793, 1829, 6473, 4649, 6781, 4966, 13, 484, 2114, 186, 6397, 6210, 4874, 1133, 882, 6497, 3973, 6871, 2873, 2268, 7697, 7677, 7318, 1651, 6864, 1848, 2315, 6237, 3610, 6354, 6729, 6838, 3509, 1255, 6740, 4901, 3625, 1251, 6096, 3462, 2691, 1115, 5505, 3560, 7701, 6782, 443, 2868, 6428, 2798, 6482, 3030, 104, 2687, 3615, 7338, 2723, 299, 2714, 4705, 794, 6196, 3604, 114, 7635, 1204, 3638, 4505, 4967, 2806, 6293, 5183, 3676, 3686, 2696, 1555, 877, 2109, 3588, 3582, 5226, 6030, 3589, 1144, 6436, 1227, 3174, 6536, 167, 1409, 6641, 4264, 6356, 2203, 2084, 4919, 6542, 2130, 3429, 2340, 695, 5091, 63, 6507, 911, 208, 6279, 152, 5081, 6338, 125, 3570, 1288, 14, 4250, 1478, 2126, 6306, 1158, 4907, 6492, 2546, 1266, 4525, 1899, 2542, 4535, 6518, 2982, 7619, 3569, 6856, 883, 347, 2211, 2871, 7627, 4928, 1256, 6251, 6983, 409, 2294, 6820, 6825, 5686, 7036, 4480, 6327, 5232, 6776, 83, 6256, 5021, 6827, 2987, 1580, 1532, 130, 4287, 7633, 6426, 4707, 3500, 2593, 2284, 6102, 3160, 3519, 4506, 1853, 6357, 530, 76, 6366, 1356, 4082, 7593, 5406, 156, 5095, 2479, 6504, 3568, 6462, 4930, 7309, 3777, 131, 3521, 6693, 7968, 6100, 1449, 6566, 2823, 5016, 602, 4109, 5458, 5059, 6178, 5260, 109, 5797, 1416, 1148, 5989, 3375, 7654, 3678, 5405, 5018, 6616, 7648, 2551, 5083, 7713, 745, 7732, 6476, 4808, 2507, 4645, 3523, 4985, 1388, 165, 6323, 655, 598, 572, 6402, 7257, 1122, 4756, 6929, 4145, 7270, 1037, 3587, 3611, 2309, 951, 7154, 4893, 7870, 5208, 5769, 1147, 2944, 1646, 119, 6519, 4293, 7397, 7614, 4954, 6925, 3011, 2845, 6808, 5017, 4187, 5122, 7009, 2010, 241, 7482, 2609, 6493, 1055, 5003, 5720, 3131, 1293, 1002, 3216, 7597, 1481, 5803, 1347, 6768, 4054, 2076, 1890, 75, 1592, 6551, 6422, 1198, 7325, 1194, 2051, 6311, 7335, 7893, 5188, 7636, 7997, 1362, 5173, 7530, 5416, 2539, 1171, 64, 3481, 4020, 2748, 2247, 5506, 5384, 1504, 912, 7331, 2004, 1468, 4194, 3663, 916, 7709, 6018, 3494, 3390, 5214, 815, 6876, 6430, 2066, 2205, 6791, 2969, 5557, 2334, 2185, 7688, 6121, 4712, 7293, 2246, 1259, 2286, 1009, 5820, 1442, 298, 2866, 145, 1178, 7376, 1760, 7055, 7895, 674, 6396, 959, 2182, 4849, 2518, 1173, 6907, 5419, 3614, 7161, 1653, 4828, 4824, 6523, 2288, 5043, 6755, 4978, 764, 3566, 4986, 1379, 211, 1089, 1326, 5103, 2155, 2407, 3887, 2201, 6714, 138, 7634, 7010, 7163, 4533, 7995, 908, 177, 4192, 1424, 3653, 6496, 7763, 6769, 6377, 34, 4343, 4531, 7645, 2732, 7545, 4946, 6512, 2147, 1414, 4119, 6434, 7974, 4829, 1140, 6759, 4656, 3640, 628, 2960, 129, 5369, 7556, 1203, 6442, 4876, 4507, 6725, 642, 4937, 7948, 2281, 2733, 6409, 2833, 6515, 5231, 3520, 7513, 1408, 6435, 5185, 2072, 1389, 871, 7202, 2316, 1742, 2768, 2344, 7505, 7433, 2180, 7655, 77, 1005, 6126, 6576, 872, 5094, 6406, 1113, 3372, 3482, 2423, 3409, 7806, 6344, 1659, 6478, 4016, 4725, 2224, 5958, 1440, 7729, 7330, 7170, 7837, 157, 7363, 4236, 3459, 6066, 4604, 7199, 1968, 6547, 2787, 7994, 1043, 415, 4819, 6437, 4752, 3356, 4593, 3418, 7843, 4913, 5163, 1455, 5761, 3725, 7712, 3256, 7165, 599, 2298, 1545, 6688, 1439, 6687, 4621, 773, 199, 1289, 1531, 3617, 4753, 175, 210, 5984, 68, 6382, 6765, 3781, 5250, 4521, 2867, 1892, 2021, 5937, 5052, 3377, 5106, 4663, 7919, 4152, 4523, 7894, 1078, 5128, 6658, 3327, 5969, 434, 5664, 41, 587, 7476, 6418, 4749, 7040, 106, 1307, 6857, 4625, 6244, 96, 7360, 7026, 5744, 4662, 4392, 6924, 1226, 1486, 1353, 4528, 2107, 7050, 1111, 3498, 296, 6780, 1716, 141, 1207, 3575, 6063, 6284, 2808, 277, 1736, 781, 5054, 1741, 7148, 7311, 7663, 6726, 2026, 6732, 61, 2836, 5218, 6175, 4883, 7294, 1406, 5145, 7757, 2231, 470, 502, 6292, 3036, 1132, 2179, 3392, 188, 903, 2348, 2276, 2874, 7787, 7724, 3053, 3463, 5178, 1554, 7623, 6345, 5066, 6348, 7038, 5809, 4952, 3281, 5377, 1897, 7242, 7356, 7264, 2804, 6304, 6811, 2320, 5055, 3755, 7737, 69, 90, 3750, 396, 7373, 6819, 1296, 950, 5120, 2064, 6288, 117, 2314, 1454, 4547, 5146, 4791, 7070, 4509, 2818, 5117, 4496, 3627, 5221, 748, 3731, 7965, 3009, 6451, 7256, 5061, 4690, 778, 6613, 687, 6130, 6332, 4981, 5045, 5239, 3603, 2329, 1429, 2327, 1470, 2000, 5032, 3756, 4113, 7018, 1031, 7352, 269, 3331, 1860, 7931, 1260, 3729, 4761, 5774, 7972, 3865, 726, 6263, 4974, 7986, 1843, 4209, 3606, 5694, 7669, 7825, 6894, 1151, 2342, 58, 4369, 6803, 5134, 5009, 3055, 5795, 7591, 5850, 6628, 3079, 5022, 4745, 1026, 6750, 7466, 4740, 388, 5923, 3677, 1713, 4381, 7268, 2847, 3636, 6059, 3442, 1309, 5942, 1177, 5310, 1503, 2899, 2903, 7590, 88, 2198, 2606, 2034, 4822, 5331, 7189, 3040, 6056, 2911, 5916, 5493, 2266, 1159, 5738, 3501, 1109, 3265, 6594, 1257, 7989, 4351, 7728, 1516, 3652, 1511, 902, 5408, 3624, 4342, 6982, 6833, 4781, 3137, 1916, 6264, 4592, 873, 4726, 11, 4923, 5151, 4475, 6828, 6124, 6553, 2812, 5866, 1952, 804, 1520, 7210, 4995, 4524, 6040, 4568, 1169, 184, 3074, 7964, 6429, 7947, 5102, 7838, 5387, 3061, 3218, 7550, 7418, 3486, 6951, 2380, 6834, 812, 1301, 3811, 1877, 1118, 6208, 552, 3664, 1811, 2790, 7540, 6427, 4385, 5931, 5035, 3823, 4408, 7333, 38, 3672, 7025, 6964, 4585, 304, 7774, 7058, 4763, 5893, 589, 6177, 6932, 5000, 5576, 4102, 2118, 1073, 1101, 3683, 2318, 3723, 1661, 4477, 5085, 5555, 3785, 3851, 5796, 6381, 1067, 2140, 4685, 2908, 4810, 7471, 4447, 5853, 5058, 5070, 391, 3193, 4853, 4339, 7962, 121, 2765, 3618, 1631, 120, 4765, 5838, 5786, 6322, 2857, 5002, 7054, 6682, 3626, 242, 2396, 4747, 6019, 5918, 5031, 3849, 5430, 6157, 3113, 6457, 7577, 4784, 5677, 6466, 29, 1928, 4816, 4817, 3261, 5578, 1360, 5212, 7112, 2299, 5121, 1183, 965, 1303, 5150, 6741, 4129, 1195, 4464, 2202, 1754, 5037, 5042, 1649, 3707, 2870, 5932, 1666, 2829, 4599, 2333, 3209, 382, 4827, 1172, 6220, 1833]\n",
      "Tiempo promedio: 1.3909619569778442 segundos\n"
     ]
    }
   ],
   "source": [
    "D = genDistancias(datatrain.values, 15000)\n",
    "\n",
    "# Calcular percentiles para elegir r1, r2, y r3\n",
    "percentiles = np.percentile(D, [10, 20, 30]) # tmb puede ser [25, 50, 75]\n",
    "r1, r2, r3 = percentiles[0], percentiles[1], percentiles[2]\n",
    "\n",
    "# calcular la busqueda por rango\n",
    "radios_obtenidos = [r1, r2, r3]\n",
    "\n",
    "for radio in radios_obtenidos:\n",
    "    query = datatrain.iloc[ind_q]\n",
    "    dataT = datatrain\n",
    "    # Promedio\n",
    "    total_time = 0\n",
    "    for _ in range(10):\n",
    "        start_time = time.time()\n",
    "        result = rangeSearch(dataT.values, query, radio, ind_q)\n",
    "        end_time = time.time()\n",
    "        total_time += end_time - start_time\n",
    "    average_time = total_time / 10\n",
    "\n",
    "    print(f'Resultado para radio={radio}: {result}')\n",
    "    print(f'Tiempo promedio: {average_time} segundos')"
   ]
  },
  {
   "cell_type": "markdown",
   "metadata": {},
   "source": [
    "**RTree KNN**"
   ]
  },
  {
   "cell_type": "code",
   "execution_count": 31,
   "metadata": {},
   "outputs": [
    {
     "name": "stdout",
     "output_type": "stream",
     "text": [
      "La consulta tomó en promedio 0.0014316558837890625 segundos\n",
      "Las k:8 canciones más cercanas a la consulta son (contar la query): [5, 784, 980, 639, 765, 544, 1014, 6861]\n"
     ]
    }
   ],
   "source": [
    "D = len(datatrain.columns)  \n",
    "\n",
    "# Create a new RTree index\n",
    "prop = rtree.index.Property()\n",
    "prop.dimension = D    # dimension del vector caracteristico\n",
    "prop.buffering_capacity = 8    # Cantidad maxima de MBRs en un nodo \n",
    "ind = rtree.index.Index(properties = prop)\n",
    "\n",
    "#Generar los datos    \n",
    "data = datatrain.values\n",
    "query = data[ind_q]\n",
    "\n",
    "# insertar los puntos                \n",
    "for i in range(data.shape[0]):\n",
    "    ind.insert(i, data[i])    \n",
    "\n",
    "knn_rtree(data, query, k, 64)"
   ]
  },
  {
   "cell_type": "markdown",
   "metadata": {},
   "source": [
    "**HighD**"
   ]
  },
  {
   "cell_type": "code",
   "execution_count": 32,
   "metadata": {},
   "outputs": [
    {
     "name": "stdout",
     "output_type": "stream",
     "text": [
      "Tiempo de ejecución promedio de knn_faiss: 0.0022679805755615235 segundos\n",
      "Los k=8 más cercanos a la consulta son:[   5  784  980  639  765  544 1014 6861]\n",
      "Las distancias a los k=8 vecinos más cercanos son:[   0.       855.5176   865.8911   906.99475  915.9813  1010.76825\n",
      " 1057.4541  1084.5854 ]\n"
     ]
    }
   ],
   "source": [
    "#Generar los datos    \n",
    "data = datatrain.values\n",
    "query = data[5]\n",
    "\n",
    "faiss_knn_results, faiss_knn_distances, average_time = knn_faiss(data, query, k=8)\n",
    "\n",
    "print(f\"Tiempo de ejecución promedio de knn_faiss: {average_time} segundos\")\n",
    "print(f'Los k={k} más cercanos a la consulta son:{faiss_knn_results}') # faiss_knn_results[1:]\n",
    "print(f'Las distancias a los k={k} vecinos más cercanos son:{faiss_knn_distances}') # faiss_knn_results[1:]"
   ]
  },
  {
   "cell_type": "markdown",
   "metadata": {},
   "source": [
    "# Testbench 16k"
   ]
  },
  {
   "cell_type": "markdown",
   "metadata": {},
   "source": [
    "**Extracción de características**"
   ]
  },
  {
   "cell_type": "code",
   "execution_count": 33,
   "metadata": {},
   "outputs": [
    {
     "name": "stderr",
     "output_type": "stream",
     "text": [
      "[src/libmpg123/layer3.c:INT123_do_layer3():1841] error: dequantization failed!\n",
      "[src/libmpg123/layer3.c:INT123_do_layer3():1771] error: part2_3_length (3264) too large for available bit count (3224)\n",
      "[src/libmpg123/layer3.c:INT123_do_layer3():1801] error: dequantization failed!\n",
      "[src/libmpg123/layer3.c:INT123_do_layer3():1801] error: dequantization failed!\n",
      "[src/libmpg123/layer3.c:INT123_do_layer3():1801] error: dequantization failed!\n",
      "[src/libmpg123/layer3.c:INT123_do_layer3():1801] error: dequantization failed!\n",
      "[src/libmpg123/layer3.c:INT123_do_layer3():1801] error: dequantization failed!\n",
      "[src/libmpg123/layer3.c:INT123_do_layer3():1771] error: part2_3_length (3328) too large for available bit count (3240)\n",
      "[src/libmpg123/layer3.c:INT123_do_layer3():1771] error: part2_3_length (3360) too large for available bit count (3240)\n",
      "[src/libmpg123/layer3.c:INT123_do_layer3():1801] error: dequantization failed!\n",
      "[src/libmpg123/layer3.c:INT123_do_layer3():1801] error: dequantization failed!\n",
      "[src/libmpg123/parse.c:do_readahead():1099] warning: Cannot read next header, a one-frame stream? Duh...\n",
      "/home/karu/.local/lib/python3.10/site-packages/librosa/util/decorators.py:88: UserWarning: PySoundFile failed. Trying audioread instead.\n",
      "  return f(*args, **kwargs)\n"
     ]
    },
    {
     "name": "stdout",
     "output_type": "stream",
     "text": [
      "fma_medium/065/065753.mp3 generated an exception: \n"
     ]
    },
    {
     "name": "stderr",
     "output_type": "stream",
     "text": [
      "[src/libmpg123/layer3.c:INT123_do_layer3():1841] error: dequantization failed!\n",
      "[src/libmpg123/parse.c:do_readahead():1099] warning: Cannot read next header, a one-frame stream? Duh...\n"
     ]
    },
    {
     "name": "stdout",
     "output_type": "stream",
     "text": [
      "fma_medium/080/080391.mp3 generated an exception: \n"
     ]
    },
    {
     "name": "stderr",
     "output_type": "stream",
     "text": [
      "[src/libmpg123/parse.c:do_readahead():1099] warning: Cannot read next header, a one-frame stream? Duh...\n"
     ]
    },
    {
     "name": "stdout",
     "output_type": "stream",
     "text": [
      "fma_medium/098/098558.mp3 generated an exception: \n"
     ]
    },
    {
     "name": "stderr",
     "output_type": "stream",
     "text": [
      "[src/libmpg123/layer3.c:INT123_do_layer3():1801] error: dequantization failed!\n",
      "Note: Illegal Audio-MPEG-Header 0x00000000 at offset 63168.\n",
      "Note: Trying to resync...\n",
      "Note: Skipped 1024 bytes in input.\n",
      "[src/libmpg123/parse.c:wetwork():1365] error: Giving up resync after 1024 bytes - your stream is not nice... (maybe increasing resync limit could help).\n",
      "Note: Illegal Audio-MPEG-Header 0x00000000 at offset 33361.\n",
      "Note: Trying to resync...\n",
      "Note: Skipped 1024 bytes in input.\n",
      "[src/libmpg123/parse.c:wetwork():1365] error: Giving up resync after 1024 bytes - your stream is not nice... (maybe increasing resync limit could help).\n",
      "[src/libmpg123/parse.c:do_readahead():1099] warning: Cannot read next header, a one-frame stream? Duh...\n"
     ]
    },
    {
     "name": "stdout",
     "output_type": "stream",
     "text": [
      "fma_medium/098/098571.mp3 generated an exception: \n"
     ]
    },
    {
     "name": "stderr",
     "output_type": "stream",
     "text": [
      "Note: Illegal Audio-MPEG-Header 0x00000000 at offset 106439.\n",
      "Note: Trying to resync...\n",
      "Note: Skipped 1024 bytes in input.\n",
      "[src/libmpg123/parse.c:wetwork():1365] error: Giving up resync after 1024 bytes - your stream is not nice... (maybe increasing resync limit could help).\n"
     ]
    },
    {
     "name": "stdout",
     "output_type": "stream",
     "text": [
      "fma_medium/098/098568.mp3 generated an exception: \n"
     ]
    },
    {
     "name": "stderr",
     "output_type": "stream",
     "text": [
      "Note: Illegal Audio-MPEG-Header 0x00000000 at offset 187493.\n",
      "Note: Trying to resync...\n",
      "Note: Skipped 1024 bytes in input.\n",
      "[src/libmpg123/parse.c:wetwork():1365] error: Giving up resync after 1024 bytes - your stream is not nice... (maybe increasing resync limit could help).\n",
      "[src/libmpg123/parse.c:do_readahead():1099] warning: Cannot read next header, a one-frame stream? Duh...\n"
     ]
    },
    {
     "name": "stdout",
     "output_type": "stream",
     "text": [
      "fma_medium/098/098559.mp3 generated an exception: \n"
     ]
    },
    {
     "name": "stderr",
     "output_type": "stream",
     "text": [
      "Note: Illegal Audio-MPEG-Header 0x00000000 at offset 22401.\n",
      "Note: Trying to resync...\n",
      "Note: Skipped 1024 bytes in input.\n",
      "[src/libmpg123/parse.c:wetwork():1365] error: Giving up resync after 1024 bytes - your stream is not nice... (maybe increasing resync limit could help).\n",
      "[src/libmpg123/parse.c:do_readahead():1099] warning: Cannot read next header, a one-frame stream? Duh...\n"
     ]
    },
    {
     "name": "stdout",
     "output_type": "stream",
     "text": [
      "fma_medium/098/098560.mp3 generated an exception: \n"
     ]
    },
    {
     "name": "stderr",
     "output_type": "stream",
     "text": [
      "[src/libmpg123/parse.c:do_readahead():1099] warning: Cannot read next header, a one-frame stream? Duh...\n"
     ]
    },
    {
     "name": "stdout",
     "output_type": "stream",
     "text": [
      "fma_medium/099/099134.mp3 generated an exception: \n",
      "Características guardadas en caracteristicas_16000.txt\n"
     ]
    }
   ],
   "source": [
    "features = extract_n_features(16000, 64, 8)\n",
    "\n",
    "# Guardar las características en un archivo CSV\n",
    "output_file = 'caracteristicas_16000.txt'\n",
    "with open(output_file, 'w') as f:\n",
    "    for audio_path, feature_vector in features.items():\n",
    "        feature_str = ','.join(map(str, feature_vector))\n",
    "        f.write(feature_str + '\\n')\n",
    "\n",
    "print(f'Características guardadas en {output_file}')\n",
    "\n",
    "# Variables para tests\n",
    "datatrain = pd.read_csv('caracteristicas_16000.txt', delimiter=',',header=None)\n",
    "k = 8\n",
    "ind_q = 5"
   ]
  },
  {
   "cell_type": "markdown",
   "metadata": {},
   "source": [
    "**Range KNN Priority queue**"
   ]
  },
  {
   "cell_type": "code",
   "execution_count": 34,
   "metadata": {},
   "outputs": [
    {
     "name": "stdout",
     "output_type": "stream",
     "text": [
      "Resultado para k=8: [(5, 0.0), (5127, 40.70284258279437), (9424, 41.13096139850029), (13180, 41.59691419033624), (576, 42.18969438056244), (6648, 44.35453305583134), (9973, 44.45156853851012), (1956, 44.73881159385126)]\n",
      "Tiempo promedio: 49.964767932891846 segundos\n"
     ]
    }
   ],
   "source": [
    "query = datatrain.iloc[ind_q]\n",
    "#dataT = datatrain.drop([ind_q], axis=0, inplace=False)\n",
    "dataT = datatrain\n",
    "result = knnSearch(dataT.values, query, k)\n",
    "# Promedio de tiempo\n",
    "total_time = 0\n",
    "for _ in range(10):\n",
    "    start_time = time.time()\n",
    "    result = knnSearch(dataT.values, query, k)\n",
    "    end_time = time.time()\n",
    "    total_time += end_time - start_time\n",
    "average_time = total_time\n",
    "\n",
    "print(f'Resultado para k={k}: {result}')\n",
    "print(f'Tiempo promedio: {average_time} segundos') "
   ]
  },
  {
   "cell_type": "markdown",
   "metadata": {},
   "source": [
    "**Range KNN Radio**"
   ]
  },
  {
   "cell_type": "code",
   "execution_count": 35,
   "metadata": {},
   "outputs": [
    {
     "name": "stdout",
     "output_type": "stream",
     "text": [
      "Resultado para radio=62.45545408578145: [5, 5127, 9424, 13180, 576, 6648, 9973, 1956, 472, 10824, 6, 14542, 929, 505, 93, 6362, 10265, 1918, 3904, 493, 3877, 12069, 14468, 3000, 5806, 13606, 1856, 550, 3181, 5910, 3821, 5977, 10529, 85, 2038, 3676, 3876, 6029, 3024, 9922, 8940, 252, 5908, 13720, 4035, 9476, 4550, 8970, 3944, 2902, 2853, 11550, 1093, 2570, 480, 8841, 6486, 7317, 6685, 407, 11312, 3093, 2007, 2440, 3758, 8929, 11462, 693, 9988, 10812, 1496, 11234, 9131, 461, 2892, 789, 7201, 5547, 3806, 427, 9892, 362, 8263, 5930, 10507, 10360, 8968, 5092, 4498, 948, 11776, 6588, 15966, 664, 14361, 7488, 5640, 12058, 15835, 3070, 445, 6484, 14782, 13896, 8835, 15432, 10594, 5948, 13678, 8784, 10250, 2303, 3185, 14319, 560, 787, 6573, 13174, 4616, 11429, 1238, 9900, 11506, 628, 2433, 156, 3180, 1163, 10281, 12314, 452, 7325, 1524, 486, 5756, 9819, 9099, 526, 3187, 5025, 552, 2398, 492, 14235, 7601, 15239, 922, 439, 315, 3419, 2817, 2054, 828, 1052, 6592, 12006, 13580, 13875, 3733, 7829, 2735, 11210, 1123, 9111, 3090, 611, 10585, 8905, 2501, 1940, 9434, 3892, 11084, 3727, 1772, 6189, 10389, 8827, 14703, 9405, 306, 10368, 11278, 8148, 303, 13159, 6727, 3433, 9555, 816, 2663, 555, 8928, 9054, 4895, 395, 7009, 3826, 4194, 3085, 14674, 13760, 12911, 7173, 9213, 14254, 7637, 10171, 8449, 5597, 31, 10291, 8204, 3454, 6587, 2322, 183, 2030, 13997, 6387, 196, 10954, 3747, 13135, 328, 237, 7624, 8979, 7565, 565, 5473, 861, 3868, 3145, 7822, 9273, 7361, 5323, 12117, 15869, 438, 4954, 12236, 8971, 10920, 2796, 12120, 14115, 7399, 1714, 2946, 7168, 402, 10711, 10854, 1968, 10681, 6990, 6888, 12544, 13591, 14452, 14262, 12298, 8769, 10145, 2413, 9197, 7643, 2386, 5727, 15008, 6971, 8659, 8367, 9458, 14994, 10762, 6391, 13542, 715, 872, 14435, 14615, 14330, 9724, 8855, 900, 15271, 4135, 15185, 3193, 6151, 334, 15894, 15876, 3593, 9349, 2409, 6365, 7885, 13088, 5242, 5121, 921, 11987, 2497, 8525, 9206, 7748, 5270, 1705, 8699, 1612, 13294, 9005, 1738, 4879, 10641, 7981, 5104, 15537, 12477, 5087, 12732, 15039, 9796, 8020, 14346, 275, 8962, 10352, 10631, 2055, 9091, 12071, 7402, 1925, 10819, 13099, 5544, 9284, 8409, 5845, 6001, 3646, 4207, 9757, 8884, 1955, 297, 14074, 4165, 11198, 15337, 5131, 11334, 8099, 14491, 5090, 6261, 2731, 11346, 5871, 9291, 10797, 14755, 14188, 1639, 5858, 1924, 15341, 9452, 1500, 9014, 3410, 15653, 10151, 13633, 536, 13724, 862, 1063, 1990, 9141, 6735, 9033, 7724, 375, 10931, 617, 15494, 14716, 891, 9957, 6510, 5643, 9789, 992, 1210, 11663, 7712, 2942, 11270, 10804, 8982, 13982, 8444, 13071, 9888, 5538, 3089, 951, 9893, 927, 1060, 155, 14714, 1686, 432, 2070, 7955, 8138, 3242, 13091, 12075, 4729, 2590, 806, 9466, 3946, 11003, 442, 10542, 11140, 12840, 14705, 2753, 12331, 3141, 10007, 14475, 5654, 7683, 6443, 627, 9287, 11573, 7512, 15907, 6960, 12526, 2018, 7834, 1913, 10615, 8071, 10361, 400, 13594, 1792, 10572, 130, 7824, 6920, 10724, 8943, 4665, 1482, 6614, 14891, 13952, 1729, 361, 11365, 1185, 904, 15986, 12517, 9930, 8896, 1948, 5722, 4983, 13090, 6466, 7158, 9691, 15286, 10566, 2940, 1869, 4013, 12580, 9758, 3952, 15378, 324, 14267, 13904, 6385, 12527, 2159, 3415, 8116, 14179, 3912, 3703, 5893, 10755, 14700, 9401, 13538, 4000, 253, 3838, 7819, 750, 3035, 14413, 2526, 1893, 10684, 14636, 813, 4706, 6958, 233, 6554, 13929, 9439, 12724, 13564, 10761, 3932, 6247, 14889, 10633, 570, 7133, 3105, 7974, 4232, 1027, 13458, 3118, 10957, 1774, 13081, 13143, 4115, 15455, 4561, 10874, 1930, 5688, 3829, 9907, 8164, 8426, 13371, 5679, 227, 6600, 319, 7883, 9805, 2700, 9862, 2051, 15413, 6586, 2120, 4791, 4999, 6680, 14680, 8158, 11938, 1969, 7322, 3682, 15545, 2752, 1415, 9101, 6111, 8068, 8698, 11207, 8843, 6400, 7157, 13906, 3113, 14014, 1611, 5176, 2795, 12144, 11956, 1416, 4699, 1657, 1026, 9626, 3973, 13964, 10984, 3566, 2621, 10491, 9694, 102, 1938, 3312, 728, 14768]\n",
      "Tiempo promedio: 2.648953986167908 segundos\n",
      "Resultado para radio=77.86980967727975: [5, 5127, 9424, 13180, 576, 6648, 9973, 1956, 472, 10824, 6, 14542, 929, 505, 93, 6362, 10265, 1918, 3904, 493, 3877, 12069, 14468, 3000, 5806, 13606, 1856, 550, 3181, 5910, 3821, 5977, 10529, 85, 2038, 3676, 3876, 6029, 3024, 9922, 8940, 252, 5908, 13720, 4035, 9476, 4550, 8970, 3944, 2902, 2853, 11550, 1093, 2570, 480, 8841, 6486, 7317, 6685, 407, 11312, 3093, 2007, 2440, 3758, 8929, 11462, 693, 9988, 10812, 1496, 11234, 9131, 461, 2892, 789, 7201, 5547, 3806, 427, 9892, 362, 8263, 5930, 10507, 10360, 8968, 5092, 4498, 948, 11776, 6588, 15966, 664, 14361, 7488, 5640, 12058, 15835, 3070, 445, 6484, 14782, 13896, 8835, 15432, 10594, 5948, 13678, 8784, 10250, 2303, 3185, 14319, 560, 787, 6573, 13174, 4616, 11429, 1238, 9900, 11506, 628, 2433, 156, 3180, 1163, 10281, 12314, 452, 7325, 1524, 486, 5756, 9819, 9099, 526, 3187, 5025, 552, 2398, 492, 14235, 7601, 15239, 922, 439, 315, 3419, 2817, 2054, 828, 1052, 6592, 12006, 13580, 13875, 3733, 7829, 2735, 11210, 1123, 9111, 3090, 611, 10585, 8905, 2501, 1940, 9434, 3892, 11084, 3727, 1772, 6189, 10389, 8827, 14703, 9405, 306, 10368, 11278, 8148, 303, 13159, 6727, 3433, 9555, 816, 2663, 555, 8928, 9054, 4895, 395, 7009, 3826, 4194, 3085, 14674, 13760, 12911, 7173, 9213, 14254, 7637, 10171, 8449, 5597, 31, 10291, 8204, 3454, 6587, 2322, 183, 2030, 13997, 6387, 196, 10954, 3747, 13135, 328, 237, 7624, 8979, 7565, 565, 5473, 861, 3868, 3145, 7822, 9273, 7361, 5323, 12117, 15869, 438, 4954, 12236, 8971, 10920, 2796, 12120, 14115, 7399, 1714, 2946, 7168, 402, 10711, 10854, 1968, 10681, 6990, 6888, 12544, 13591, 14452, 14262, 12298, 8769, 10145, 2413, 9197, 7643, 2386, 5727, 15008, 6971, 8659, 8367, 9458, 14994, 10762, 6391, 13542, 715, 872, 14435, 14615, 14330, 9724, 8855, 900, 15271, 4135, 15185, 3193, 6151, 334, 15894, 15876, 3593, 9349, 2409, 6365, 7885, 13088, 5242, 5121, 921, 11987, 2497, 8525, 9206, 7748, 5270, 1705, 8699, 1612, 13294, 9005, 1738, 4879, 10641, 7981, 5104, 15537, 12477, 5087, 12732, 15039, 9796, 8020, 14346, 275, 8962, 10352, 10631, 2055, 9091, 12071, 7402, 1925, 10819, 13099, 5544, 9284, 8409, 5845, 6001, 3646, 4207, 9757, 8884, 1955, 297, 14074, 4165, 11198, 15337, 5131, 11334, 8099, 14491, 5090, 6261, 2731, 11346, 5871, 9291, 10797, 14755, 14188, 1639, 5858, 1924, 15341, 9452, 1500, 9014, 3410, 15653, 10151, 13633, 536, 13724, 862, 1063, 1990, 9141, 6735, 9033, 7724, 375, 10931, 617, 15494, 14716, 891, 9957, 6510, 5643, 9789, 992, 1210, 11663, 7712, 2942, 11270, 10804, 8982, 13982, 8444, 13071, 9888, 5538, 3089, 951, 9893, 927, 1060, 155, 14714, 1686, 432, 2070, 7955, 8138, 3242, 13091, 12075, 4729, 2590, 806, 9466, 3946, 11003, 442, 10542, 11140, 12840, 14705, 2753, 12331, 3141, 10007, 14475, 5654, 7683, 6443, 627, 9287, 11573, 7512, 15907, 6960, 12526, 2018, 7834, 1913, 10615, 8071, 10361, 400, 13594, 1792, 10572, 130, 7824, 6920, 10724, 8943, 4665, 1482, 6614, 14891, 13952, 1729, 361, 11365, 1185, 904, 15986, 12517, 9930, 8896, 1948, 5722, 4983, 13090, 6466, 7158, 9691, 15286, 10566, 2940, 1869, 4013, 12580, 9758, 3952, 15378, 324, 14267, 13904, 6385, 12527, 2159, 3415, 8116, 14179, 3912, 3703, 5893, 10755, 14700, 9401, 13538, 4000, 253, 3838, 7819, 750, 3035, 14413, 2526, 1893, 10684, 14636, 813, 4706, 6958, 233, 6554, 13929, 9439, 12724, 13564, 10761, 3932, 6247, 14889, 10633, 570, 7133, 3105, 7974, 4232, 1027, 13458, 3118, 10957, 1774, 13081, 13143, 4115, 15455, 4561, 10874, 1930, 5688, 3829, 9907, 8164, 8426, 13371, 5679, 227, 6600, 319, 7883, 9805, 2700, 9862, 2051, 15413, 6586, 2120, 4791, 4999, 6680, 14680, 8158, 11938, 1969, 7322, 3682, 15545, 2752, 1415, 9101, 6111, 8068, 8698, 11207, 8843, 6400, 7157, 13906, 3113, 14014, 1611, 5176, 2795, 12144, 11956, 1416, 4699, 1657, 1026, 9626, 3973, 13964, 10984, 3566, 2621, 10491, 9694, 102, 1938, 3312, 728, 14768, 3982, 4244, 11620, 223, 7338, 4460, 2829, 13307, 10627, 15539, 4261, 3078, 10882, 8092, 1452, 10060, 7108, 2019, 3558, 4154, 13083, 15111, 66, 10172, 4486, 15377, 11918, 12039, 11623, 12710, 12823, 12542, 9735, 9655, 5890, 12653, 224, 14922, 1764, 5867, 12462, 889, 6591, 4296, 12348, 14650, 458, 248, 5542, 10046, 12738, 1523, 285, 2671, 3395, 7595, 5842, 477, 2410, 1797, 321, 12559, 4288, 12752, 6772, 14992, 4011, 3051, 4581, 830, 12352, 14533, 5607, 1811, 5975, 5008, 4169, 653, 13657, 8983, 583, 12268, 7723, 6985, 3399, 421, 9612, 3364, 10789, 1083, 6281, 6274, 10905, 3174, 8751, 14622, 1477, 5957, 3527, 10944, 4504, 3100, 15431, 1960, 4651, 836, 6132, 2452, 599, 14711, 6922, 5190, 3697, 1017, 3017, 6249, 1950, 2740, 7416, 12425, 15451, 1281, 387, 3940, 10320, 3921, 6275, 15179, 9770, 3657, 12912, 11924, 12942, 13535, 11022, 15394, 6911, 1463, 546, 8059, 15964, 2305, 676, 8133, 571, 13582, 4137, 6980, 9750, 9927, 4031, 569, 10751, 7528, 4657, 2824, 10736, 14828, 2965, 8299, 9225, 6015, 13828, 7676, 5582, 14469, 11586, 4076, 12535, 5605, 13528, 9695, 9714, 9673, 2879, 624, 5854, 22, 11547, 10727, 6376, 5765, 850, 15083, 9472, 6368, 10488, 2442, 3027, 875, 2919, 12904, 15822, 7596, 2241, 5275, 14580, 11249, 12936, 5771, 3796, 14493, 13689, 13546, 2993, 2219, 1680, 8726, 10040, 3179, 87, 3666, 14765, 8281, 14896, 1877, 11073, 13297, 3469, 581, 13230, 1606, 2129, 826, 3804, 10444, 3103, 2529, 3236, 12916, 13434, 9016, 5620, 7221, 11169, 9824, 390, 12187, 10126, 15429, 12966, 13516, 5914, 12093, 4888, 11080, 10122, 9746, 650, 12931, 8613, 9928, 14788, 4638, 2685, 11983, 1635, 11552, 1140, 11873, 1978, 1125, 13333, 13950, 2415, 6721, 809, 11123, 3066, 12324, 5354, 5785, 562, 13331, 8900, 6965, 1080, 15309, 3801, 9591, 388, 10679, 7758, 1721, 7996, 15210, 14598, 15260, 4400, 8957, 5701, 7242, 12177, 1130, 3351, 302, 534, 8708, 3875, 5082, 14166, 14882, 2383, 10574, 12191, 2428, 11155, 4946, 3943, 5196, 6854, 39, 14830, 2458, 10557, 10929, 10998, 10184, 2938, 2056, 14749, 12979, 2197, 12474, 1747, 10707, 1998, 11239, 5244, 12231, 5870, 13368, 6599, 8329, 1863, 14178, 10277, 11911, 14404, 12957, 3846, 12443, 6521, 1974, 10714, 4200, 1298, 6844, 916, 436, 4570, 9975, 4436, 9314, 6389, 13242, 14944, 14443, 12727, 1819, 11331, 3695, 236, 12412, 2080, 428, 2682, 6930, 14536, 7857, 12885, 4251, 4148, 7599, 2013, 12501, 6499, 881, 11975, 6754, 3426, 1770, 2023, 13705, 14618, 7232, 10017, 547, 4139, 1552, 9653, 769, 3771, 13237, 14185, 5897, 8617, 12270, 9620, 4702, 689, 10567, 3263, 10774, 8220, 11565, 12022, 6489, 954, 12473, 7208, 13394, 10008, 8904, 3718, 11199, 9230, 10739, 5869, 1879, 11788, 5427, 6781, 11644, 9946, 5830, 9413, 2762, 6831, 10635, 10195, 6104, 11448, 2622, 3705, 469, 15443, 8466, 12341, 13576, 8997, 6904, 5941, 9654, 12096, 5124, 13323, 11953, 4676, 1087, 8377, 7919, 11642, 7013, 10958, 11595, 1999, 17, 2851, 2566, 15881, 3717, 1081, 11171, 6840, 858, 13581, 11955, 9601, 10943, 2661, 323, 4537, 14826, 11221, 15400, 9423, 11551, 13110, 10292, 9763, 15301, 6231, 15333, 3096, 12265, 4414, 1858, 6515, 10417, 1384, 5900, 9999, 2580, 15908, 10204, 14789, 13987, 13397, 10828, 4607, 1933, 1434, 3818, 8963, 15090, 1935, 7816, 403, 7564, 9964, 9767, 1307, 1945, 10089, 10564, 13943, 1378, 232, 15184, 8125, 4654, 1733, 9144, 11630, 3553, 5891, 8486, 12359, 14907, 5237, 13433, 1773, 11672, 12275, 7479, 6825, 4538, 13054, 2691, 8094, 938, 10650, 8091, 1983, 9023, 7776, 3903, 10413, 5265, 845, 10777, 3763, 7992, 12995, 3136, 149, 12560, 2511, 14336, 9109, 6437, 10896, 504, 10362, 1058, 5631, 4292, 11990, 12375, 15609, 10925, 3463, 2216, 2455, 4162, 2662, 833, 14221, 11685, 11027, 3529, 214, 6584, 1568, 13050, 1327, 3709, 15320, 4521, 10651, 11305, 7833, 2538, 15889, 11163, 2764, 247, 9256, 15932, 14820, 535, 1448, 14851, 7217, 8435, 4268, 5141, 5225, 2847, 3498, 4595, 8043, 10813, 8397, 2144, 13095, 7066, 15244, 964, 150, 11044, 9912, 7080, 7267, 1754, 4103, 1566, 3279, 14600, 2733, 13712, 9962, 13782, 6708, 15862, 10522, 5907, 11121, 5730, 4747, 14484, 2316, 3765, 13379, 1165, 2011, 4394, 4608, 10632, 1909, 6895, 1923, 6957, 12709, 8853, 4736, 1562, 950, 4862, 7757, 6210, 2635, 13524, 13612, 577, 2506, 9238, 2050, 10811, 200, 15756, 8314, 3471, 14758, 8783, 12276, 936, 6282, 14310, 7983, 5407, 11654, 10897, 15043, 13711, 9710, 13956, 15626, 607, 3874, 4278, 6229, 9199, 10657, 14620, 1887, 13153, 10513, 9896, 8084, 3787, 8430, 29, 14152, 14597, 13115, 13219, 2020, 7943, 1812, 15020, 9879, 3685, 11979, 9263, 3634, 12249, 7702, 1905, 9918, 5672, 4632, 14258, 15915, 14339, 15094, 11074, 2962, 414, 9662, 11439, 12209, 9647, 13845, 3083, 7699, 6183, 9688, 4233, 13974, 4050, 4009, 160, 2809, 13184, 2036, 399, 9811, 3721, 7304, 7314, 6968, 10025, 10409, 7115, 2755, 10895, 9828, 1761, 6734, 3776, 8782, 15713, 2102, 12381, 10593, 11244, 5306, 818, 4271, 7990, 3640, 4067, 9567, 7815, 3999, 12956, 6892, 8034, 12409, 6963, 7592, 2450, 2195, 896, 2422, 2842, 7395, 13418, 1843, 6530, 12530, 9136, 12553, 2514, 13910, 2238, 8183, 10546, 15283, 11366, 5450, 14302, 10460, 13349, 905, 10099, 8321, 3050, 11553, 6047, 11813, 7667, 2224, 15327, 4214, 2849, 8407, 5508, 7530, 14722, 329, 10796, 8533, 8315, 14077, 9389, 6493, 3018, 12476, 15063, 2308, 3756, 9692, 11443, 2083, 9754, 10780, 7321, 4694, 7809, 10548, 2441, 6126, 5671, 0, 10637, 5782, 4172, 7740, 9428, 3629, 1866, 3981, 9128, 8394, 1615, 4315, 5715, 1578, 14109, 3429, 12318, 4329, 3713, 4093, 9080, 13241, 14671, 11797, 3280, 7830, 471, 15297, 14016, 11624, 4636, 10526, 13739, 2761, 4069, 3143, 12969, 6402, 5826, 3303, 1515, 10605, 5525, 3607, 14454, 7585, 4392, 7031, 12285, 1605, 11096, 9134, 8474, 8887, 1695, 4755, 14531, 11451, 9106, 1270, 4404, 11260, 8295, 6618, 2086, 5685, 4759, 7143, 133, 3239, 6537, 4085, 7119, 14953, 1829, 5181, 8141, 3074, 13313, 9872, 13923, 7250, 1097, 8837, 4667, 7060, 8207, 2918, 1041, 13684, 3974, 8230, 14902, 3580, 9733, 10869, 11269, 9913, 14391, 13318, 8778, 804, 1946, 3273, 10569, 14222, 8000, 5469, 2145, 12132, 6925, 10111, 258, 3320, 2890, 1051, 144, 5159, 6967, 11546, 15019, 12893, 2476, 9200, 2161, 4156, 12158, 13710, 11903, 11402, 14155, 4684, 8279, 15830, 6894, 446, 7001, 589, 11010, 12974, 34, 11052, 11296, 13395, 7011, 5929, 2431, 3467, 12082, 7095, 4622, 14174, 3729, 9671, 13695, 11533, 9289, 5209, 13190, 8012, 9090, 5247, 3865, 758, 12925, 5563, 15250, 11211, 272, 10090, 9929, 14604, 6661, 10765, 10795, 8935, 7692, 13206, 6152, 848, 12872, 7690, 1346, 10683, 6935, 310, 10080, 4762, 14710, 1741, 9352, 11307, 11865, 7844, 702, 10364, 12976, 13696, 894, 4890, 8642, 5236, 3524, 7780, 1666, 15718, 1739, 6318, 13158, 7339, 15617, 3823, 4898, 14973, 1124, 2960, 7963, 4479, 1019, 7645, 4681, 3783, 6670, 1201, 1525, 13409, 7215, 8682, 5446, 1894, 1557, 7097, 7597, 876, 603, 797, 15479, 12754, 15262, 1652, 5204, 5518, 15883, 10817, 5729, 3163, 11554, 13335, 1922, 4398, 13144, 13058, 1643, 13495, 8705, 5452, 7299, 10092, 6449, 2137, 6900, 9376, 12720, 8760, 3734, 1528, 10733, 6171, 5832, 4175, 5578, 10891, 5608, 347, 3549, 8067, 3151, 3681, 802, 355, 2596, 7312, 2232, 45, 10039, 9779, 9717, 835, 6654, 9543, 7107, 10203, 15138, 15692, 4707, 12252, 11619, 14857, 15962, 5526, 1218, 15343, 15700, 9034, 15026, 12411, 2139, 14059, 6371, 2705, 3477, 495, 11354, 3668, 11339, 7980, 8946, 7786, 7355, 2545, 7305, 2448, 7282, 11621, 2364, 15974, 736, 10372, 4273, 9772, 6602, 2460, 12602, 3043, 14814, 2049, 10520, 3128, 4641, 10732, 9336, 13507, 7608, 4055, 8161, 5705, 2430, 9407, 10429, 6258, 10455, 8813, 1795, 11008, 9383, 13628, 8307, 4672, 5285, 3762, 14546, 13296, 9079, 2781, 15850, 10189, 10035, 4990, 9632, 7982, 7281, 11814, 1704, 3665, 3345, 3960, 7694, 8354, 15827, 1445, 11486, 411, 9139, 13983, 289, 1976, 10541, 6425, 3531, 1235, 5686, 13044, 2881, 8297, 5332, 10465, 13195, 2462, 10175, 5440, 1758, 10600, 7375, 4359, 1939, 793, 2912, 1908, 401, 4527, 14276, 2281, 5241, 8945, 5972, 14191, 3330, 15280, 9420, 2435, 11075, 1886, 11302, 9960, 9752, 4378, 15145, 11729, 14625, 6799, 6803, 11840, 3941, 3766, 450, 14999, 1920, 4766, 13006, 15548, 9743, 10439, 898, 2679, 14799, 630, 10501, 6306, 14111, 4420, 13648, 5380, 2239, 3809, 12083, 12959, 14556, 7453, 12609, 5428, 15310, 15728, 5207, 8406, 2612, 14792, 6746, 6501, 839, 4484, 2456, 291, 12293, 7450, 12296, 296, 13167, 14399, 15549, 12692, 6316, 327, 11007, 7421, 10482, 5326, 8362, 4350, 4221, 11878, 4642, 6203, 8085, 9025, 12704, 6809, 4874, 15236, 11730, 4820, 2248, 1984, 6370, 10518, 12873, 3911, 14326, 14528, 5361, 1734, 5421, 10558, 7064, 14702, 5238, 7027, 5759, 5906, 4227, 742, 3366, 525, 1400, 2052, 13642, 2404, 15346, 6416, 359, 5791, 2481, 7224, 8897, 559, 5269, 14476, 10750, 13187, 4574, 10560, 3807, 810, 10272, 8383, 10911, 4310, 11183, 7611, 11583, 15005, 360, 8293, 7939, 2654, 12435, 262, 5272, 15044, 2042, 1720, 10530, 13277, 6404, 1943, 1880, 9576, 7403, 6983, 2293, 7489, 5385, 2681, 5954, 11036, 7344, 4531, 1540, 1844, 11114, 6881, 12469, 1253, 15877, 2066, 13729, 4860, 3420, 12169, 1782, 298, 12955, 7401, 15195, 7612, 10185, 15607, 7721, 7053, 2467, 846, 8310, 11351, 11135, 13762, 13125, 345, 15452, 8986, 5138, 7288, 812, 5752, 13000, 14920, 782, 2105, 14071, 2257, 1988, 14067, 7494, 222, 8969, 5376, 5877, 1132, 5564, 3774, 14169, 8736, 1825, 2059, 2393, 7329, 11498, 14278, 12184, 6255, 4340, 8294, 7218, 4854, 15163, 9603, 5261, 10070, 6617, 5923, 7182, 4549, 15225, 3398, 10308, 8331, 2877, 2416, 924, 9853, 8821, 2068, 6747, 11836, 9462, 2646, 6607, 9924, 15292, 6987, 12631, 1028, 7993, 11818, 6019, 9940, 15335, 11689, 708, 6575, 7360, 9506, 11659, 3478, 9132, 3710, 1195, 7533, 2710, 10935, 10668, 11290, 5703, 4722, 1796, 412, 15929, 8463, 10899, 1401, 13080, 3987, 4910, 10728, 7367, 11268, 981, 3082, 14819, 9898, 3891, 12717, 426, 6319, 444, 13224, 14094, 942, 15503, 2359, 1822, 11542, 5414, 8236, 12972, 9281, 9431, 12109, 8610, 11124, 4792, 13029, 341, 11747, 2657, 13265, 2269, 111, 5952, 10255, 10428, 14993, 2172, 4526, 8157, 1609, 790, 10236, 11224, 4647, 13590, 8953, 5879, 10673, 9172, 15762, 14113, 1560, 4799, 320, 2666, 7741, 12578, 2906, 10011, 6483, 4349, 10887, 6398, 6561, 5208, 9009, 2256, 8677, 9262, 5231, 842, 14642, 14752, 9983, 7603, 3954, 12985, 2984, 2250, 12243, 14694, 11767, 2063, 9170, 14610, 4203, 9868, 819, 13141, 5106, 1408, 10041, 8124, 801, 11796, 8467, 8747, 14701, 7647, 4710, 226, 594, 4243, 3175, 11670, 11917, 2445, 3737, 6714, 10082, 1702, 3688, 9700, 14293, 11112, 8103, 2075, 6874, 9563, 7582, 853, 15977, 15268, 3772, 1700, 11141, 3830, 6412, 404, 8075, 5850, 511, 10980, 3435, 4868, 1095, 7651, 4338, 2678, 10290, 8701, 4071, 3896, 2904, 1161, 10183, 3360, 9268, 5969, 4493, 12432, 13308, 6887, 8021, 11981, 1176, 10259, 13149, 10876, 4670, 7297, 13087, 8001, 9737, 7432, 4044, 15375, 8608, 5327, 2311, 7037, 11899, 13284, 8330, 7961, 11591, 14605, 6815, 9678, 8246, 9679, 3405, 1689, 13055, 7229, 9317, 2726, 4344, 1735, 10301, 14540, 10559, 9315, 8080, 14337, 10105, 11212, 5065, 5835, 12136, 11687, 13549, 9540, 11060, 8016, 864, 12915, 15227, 11271, 13671, 3367, 14583, 7923, 9214, 8812, 8128, 11984, 8052, 9482, 5123, 698, 11000, 9723, 5066, 1723, 13754]\n",
      "Tiempo promedio: 2.6441360235214235 segundos\n",
      "Resultado para radio=92.00568852106468: [5, 5127, 9424, 13180, 576, 6648, 9973, 1956, 472, 10824, 6, 14542, 929, 505, 93, 6362, 10265, 1918, 3904, 493, 3877, 12069, 14468, 3000, 5806, 13606, 1856, 550, 3181, 5910, 3821, 5977, 10529, 85, 2038, 3676, 3876, 6029, 3024, 9922, 8940, 252, 5908, 13720, 4035, 9476, 4550, 8970, 3944, 2902, 2853, 11550, 1093, 2570, 480, 8841, 6486, 7317, 6685, 407, 11312, 3093, 2007, 2440, 3758, 8929, 11462, 693, 9988, 10812, 1496, 11234, 9131, 461, 2892, 789, 7201, 5547, 3806, 427, 9892, 362, 8263, 5930, 10507, 10360, 8968, 5092, 4498, 948, 11776, 6588, 15966, 664, 14361, 7488, 5640, 12058, 15835, 3070, 445, 6484, 14782, 13896, 8835, 15432, 10594, 5948, 13678, 8784, 10250, 2303, 3185, 14319, 560, 787, 6573, 13174, 4616, 11429, 1238, 9900, 11506, 628, 2433, 156, 3180, 1163, 10281, 12314, 452, 7325, 1524, 486, 5756, 9819, 9099, 526, 3187, 5025, 552, 2398, 492, 14235, 7601, 15239, 922, 439, 315, 3419, 2817, 2054, 828, 1052, 6592, 12006, 13580, 13875, 3733, 7829, 2735, 11210, 1123, 9111, 3090, 611, 10585, 8905, 2501, 1940, 9434, 3892, 11084, 3727, 1772, 6189, 10389, 8827, 14703, 9405, 306, 10368, 11278, 8148, 303, 13159, 6727, 3433, 9555, 816, 2663, 555, 8928, 9054, 4895, 395, 7009, 3826, 4194, 3085, 14674, 13760, 12911, 7173, 9213, 14254, 7637, 10171, 8449, 5597, 31, 10291, 8204, 3454, 6587, 2322, 183, 2030, 13997, 6387, 196, 10954, 3747, 13135, 328, 237, 7624, 8979, 7565, 565, 5473, 861, 3868, 3145, 7822, 9273, 7361, 5323, 12117, 15869, 438, 4954, 12236, 8971, 10920, 2796, 12120, 14115, 7399, 1714, 2946, 7168, 402, 10711, 10854, 1968, 10681, 6990, 6888, 12544, 13591, 14452, 14262, 12298, 8769, 10145, 2413, 9197, 7643, 2386, 5727, 15008, 6971, 8659, 8367, 9458, 14994, 10762, 6391, 13542, 715, 872, 14435, 14615, 14330, 9724, 8855, 900, 15271, 4135, 15185, 3193, 6151, 334, 15894, 15876, 3593, 9349, 2409, 6365, 7885, 13088, 5242, 5121, 921, 11987, 2497, 8525, 9206, 7748, 5270, 1705, 8699, 1612, 13294, 9005, 1738, 4879, 10641, 7981, 5104, 15537, 12477, 5087, 12732, 15039, 9796, 8020, 14346, 275, 8962, 10352, 10631, 2055, 9091, 12071, 7402, 1925, 10819, 13099, 5544, 9284, 8409, 5845, 6001, 3646, 4207, 9757, 8884, 1955, 297, 14074, 4165, 11198, 15337, 5131, 11334, 8099, 14491, 5090, 6261, 2731, 11346, 5871, 9291, 10797, 14755, 14188, 1639, 5858, 1924, 15341, 9452, 1500, 9014, 3410, 15653, 10151, 13633, 536, 13724, 862, 1063, 1990, 9141, 6735, 9033, 7724, 375, 10931, 617, 15494, 14716, 891, 9957, 6510, 5643, 9789, 992, 1210, 11663, 7712, 2942, 11270, 10804, 8982, 13982, 8444, 13071, 9888, 5538, 3089, 951, 9893, 927, 1060, 155, 14714, 1686, 432, 2070, 7955, 8138, 3242, 13091, 12075, 4729, 2590, 806, 9466, 3946, 11003, 442, 10542, 11140, 12840, 14705, 2753, 12331, 3141, 10007, 14475, 5654, 7683, 6443, 627, 9287, 11573, 7512, 15907, 6960, 12526, 2018, 7834, 1913, 10615, 8071, 10361, 400, 13594, 1792, 10572, 130, 7824, 6920, 10724, 8943, 4665, 1482, 6614, 14891, 13952, 1729, 361, 11365, 1185, 904, 15986, 12517, 9930, 8896, 1948, 5722, 4983, 13090, 6466, 7158, 9691, 15286, 10566, 2940, 1869, 4013, 12580, 9758, 3952, 15378, 324, 14267, 13904, 6385, 12527, 2159, 3415, 8116, 14179, 3912, 3703, 5893, 10755, 14700, 9401, 13538, 4000, 253, 3838, 7819, 750, 3035, 14413, 2526, 1893, 10684, 14636, 813, 4706, 6958, 233, 6554, 13929, 9439, 12724, 13564, 10761, 3932, 6247, 14889, 10633, 570, 7133, 3105, 7974, 4232, 1027, 13458, 3118, 10957, 1774, 13081, 13143, 4115, 15455, 4561, 10874, 1930, 5688, 3829, 9907, 8164, 8426, 13371, 5679, 227, 6600, 319, 7883, 9805, 2700, 9862, 2051, 15413, 6586, 2120, 4791, 4999, 6680, 14680, 8158, 11938, 1969, 7322, 3682, 15545, 2752, 1415, 9101, 6111, 8068, 8698, 11207, 8843, 6400, 7157, 13906, 3113, 14014, 1611, 5176, 2795, 12144, 11956, 1416, 4699, 1657, 1026, 9626, 3973, 13964, 10984, 3566, 2621, 10491, 9694, 102, 1938, 3312, 728, 14768, 3982, 4244, 11620, 223, 7338, 4460, 2829, 13307, 10627, 15539, 4261, 3078, 10882, 8092, 1452, 10060, 7108, 2019, 3558, 4154, 13083, 15111, 66, 10172, 4486, 15377, 11918, 12039, 11623, 12710, 12823, 12542, 9735, 9655, 5890, 12653, 224, 14922, 1764, 5867, 12462, 889, 6591, 4296, 12348, 14650, 458, 248, 5542, 10046, 12738, 1523, 285, 2671, 3395, 7595, 5842, 477, 2410, 1797, 321, 12559, 4288, 12752, 6772, 14992, 4011, 3051, 4581, 830, 12352, 14533, 5607, 1811, 5975, 5008, 4169, 653, 13657, 8983, 583, 12268, 7723, 6985, 3399, 421, 9612, 3364, 10789, 1083, 6281, 6274, 10905, 3174, 8751, 14622, 1477, 5957, 3527, 10944, 4504, 3100, 15431, 1960, 4651, 836, 6132, 2452, 599, 14711, 6922, 5190, 3697, 1017, 3017, 6249, 1950, 2740, 7416, 12425, 15451, 1281, 387, 3940, 10320, 3921, 6275, 15179, 9770, 3657, 12912, 11924, 12942, 13535, 11022, 15394, 6911, 1463, 546, 8059, 15964, 2305, 676, 8133, 571, 13582, 4137, 6980, 9750, 9927, 4031, 569, 10751, 7528, 4657, 2824, 10736, 14828, 2965, 8299, 9225, 6015, 13828, 7676, 5582, 14469, 11586, 4076, 12535, 5605, 13528, 9695, 9714, 9673, 2879, 624, 5854, 22, 11547, 10727, 6376, 5765, 850, 15083, 9472, 6368, 10488, 2442, 3027, 875, 2919, 12904, 15822, 7596, 2241, 5275, 14580, 11249, 12936, 5771, 3796, 14493, 13689, 13546, 2993, 2219, 1680, 8726, 10040, 3179, 87, 3666, 14765, 8281, 14896, 1877, 11073, 13297, 3469, 581, 13230, 1606, 2129, 826, 3804, 10444, 3103, 2529, 3236, 12916, 13434, 9016, 5620, 7221, 11169, 9824, 390, 12187, 10126, 15429, 12966, 13516, 5914, 12093, 4888, 11080, 10122, 9746, 650, 12931, 8613, 9928, 14788, 4638, 2685, 11983, 1635, 11552, 1140, 11873, 1978, 1125, 13333, 13950, 2415, 6721, 809, 11123, 3066, 12324, 5354, 5785, 562, 13331, 8900, 6965, 1080, 15309, 3801, 9591, 388, 10679, 7758, 1721, 7996, 15210, 14598, 15260, 4400, 8957, 5701, 7242, 12177, 1130, 3351, 302, 534, 8708, 3875, 5082, 14166, 14882, 2383, 10574, 12191, 2428, 11155, 4946, 3943, 5196, 6854, 39, 14830, 2458, 10557, 10929, 10998, 10184, 2938, 2056, 14749, 12979, 2197, 12474, 1747, 10707, 1998, 11239, 5244, 12231, 5870, 13368, 6599, 8329, 1863, 14178, 10277, 11911, 14404, 12957, 3846, 12443, 6521, 1974, 10714, 4200, 1298, 6844, 916, 436, 4570, 9975, 4436, 9314, 6389, 13242, 14944, 14443, 12727, 1819, 11331, 3695, 236, 12412, 2080, 428, 2682, 6930, 14536, 7857, 12885, 4251, 4148, 7599, 2013, 12501, 6499, 881, 11975, 6754, 3426, 1770, 2023, 13705, 14618, 7232, 10017, 547, 4139, 1552, 9653, 769, 3771, 13237, 14185, 5897, 8617, 12270, 9620, 4702, 689, 10567, 3263, 10774, 8220, 11565, 12022, 6489, 954, 12473, 7208, 13394, 10008, 8904, 3718, 11199, 9230, 10739, 5869, 1879, 11788, 5427, 6781, 11644, 9946, 5830, 9413, 2762, 6831, 10635, 10195, 6104, 11448, 2622, 3705, 469, 15443, 8466, 12341, 13576, 8997, 6904, 5941, 9654, 12096, 5124, 13323, 11953, 4676, 1087, 8377, 7919, 11642, 7013, 10958, 11595, 1999, 17, 2851, 2566, 15881, 3717, 1081, 11171, 6840, 858, 13581, 11955, 9601, 10943, 2661, 323, 4537, 14826, 11221, 15400, 9423, 11551, 13110, 10292, 9763, 15301, 6231, 15333, 3096, 12265, 4414, 1858, 6515, 10417, 1384, 5900, 9999, 2580, 15908, 10204, 14789, 13987, 13397, 10828, 4607, 1933, 1434, 3818, 8963, 15090, 1935, 7816, 403, 7564, 9964, 9767, 1307, 1945, 10089, 10564, 13943, 1378, 232, 15184, 8125, 4654, 1733, 9144, 11630, 3553, 5891, 8486, 12359, 14907, 5237, 13433, 1773, 11672, 12275, 7479, 6825, 4538, 13054, 2691, 8094, 938, 10650, 8091, 1983, 9023, 7776, 3903, 10413, 5265, 845, 10777, 3763, 7992, 12995, 3136, 149, 12560, 2511, 14336, 9109, 6437, 10896, 504, 10362, 1058, 5631, 4292, 11990, 12375, 15609, 10925, 3463, 2216, 2455, 4162, 2662, 833, 14221, 11685, 11027, 3529, 214, 6584, 1568, 13050, 1327, 3709, 15320, 4521, 10651, 11305, 7833, 2538, 15889, 11163, 2764, 247, 9256, 15932, 14820, 535, 1448, 14851, 7217, 8435, 4268, 5141, 5225, 2847, 3498, 4595, 8043, 10813, 8397, 2144, 13095, 7066, 15244, 964, 150, 11044, 9912, 7080, 7267, 1754, 4103, 1566, 3279, 14600, 2733, 13712, 9962, 13782, 6708, 15862, 10522, 5907, 11121, 5730, 4747, 14484, 2316, 3765, 13379, 1165, 2011, 4394, 4608, 10632, 1909, 6895, 1923, 6957, 12709, 8853, 4736, 1562, 950, 4862, 7757, 6210, 2635, 13524, 13612, 577, 2506, 9238, 2050, 10811, 200, 15756, 8314, 3471, 14758, 8783, 12276, 936, 6282, 14310, 7983, 5407, 11654, 10897, 15043, 13711, 9710, 13956, 15626, 607, 3874, 4278, 6229, 9199, 10657, 14620, 1887, 13153, 10513, 9896, 8084, 3787, 8430, 29, 14152, 14597, 13115, 13219, 2020, 7943, 1812, 15020, 9879, 3685, 11979, 9263, 3634, 12249, 7702, 1905, 9918, 5672, 4632, 14258, 15915, 14339, 15094, 11074, 2962, 414, 9662, 11439, 12209, 9647, 13845, 3083, 7699, 6183, 9688, 4233, 13974, 4050, 4009, 160, 2809, 13184, 2036, 399, 9811, 3721, 7304, 7314, 6968, 10025, 10409, 7115, 2755, 10895, 9828, 1761, 6734, 3776, 8782, 15713, 2102, 12381, 10593, 11244, 5306, 818, 4271, 7990, 3640, 4067, 9567, 7815, 3999, 12956, 6892, 8034, 12409, 6963, 7592, 2450, 2195, 896, 2422, 2842, 7395, 13418, 1843, 6530, 12530, 9136, 12553, 2514, 13910, 2238, 8183, 10546, 15283, 11366, 5450, 14302, 10460, 13349, 905, 10099, 8321, 3050, 11553, 6047, 11813, 7667, 2224, 15327, 4214, 2849, 8407, 5508, 7530, 14722, 329, 10796, 8533, 8315, 14077, 9389, 6493, 3018, 12476, 15063, 2308, 3756, 9692, 11443, 2083, 9754, 10780, 7321, 4694, 7809, 10548, 2441, 6126, 5671, 0, 10637, 5782, 4172, 7740, 9428, 3629, 1866, 3981, 9128, 8394, 1615, 4315, 5715, 1578, 14109, 3429, 12318, 4329, 3713, 4093, 9080, 13241, 14671, 11797, 3280, 7830, 471, 15297, 14016, 11624, 4636, 10526, 13739, 2761, 4069, 3143, 12969, 6402, 5826, 3303, 1515, 10605, 5525, 3607, 14454, 7585, 4392, 7031, 12285, 1605, 11096, 9134, 8474, 8887, 1695, 4755, 14531, 11451, 9106, 1270, 4404, 11260, 8295, 6618, 2086, 5685, 4759, 7143, 133, 3239, 6537, 4085, 7119, 14953, 1829, 5181, 8141, 3074, 13313, 9872, 13923, 7250, 1097, 8837, 4667, 7060, 8207, 2918, 1041, 13684, 3974, 8230, 14902, 3580, 9733, 10869, 11269, 9913, 14391, 13318, 8778, 804, 1946, 3273, 10569, 14222, 8000, 5469, 2145, 12132, 6925, 10111, 258, 3320, 2890, 1051, 144, 5159, 6967, 11546, 15019, 12893, 2476, 9200, 2161, 4156, 12158, 13710, 11903, 11402, 14155, 4684, 8279, 15830, 6894, 446, 7001, 589, 11010, 12974, 34, 11052, 11296, 13395, 7011, 5929, 2431, 3467, 12082, 7095, 4622, 14174, 3729, 9671, 13695, 11533, 9289, 5209, 13190, 8012, 9090, 5247, 3865, 758, 12925, 5563, 15250, 11211, 272, 10090, 9929, 14604, 6661, 10765, 10795, 8935, 7692, 13206, 6152, 848, 12872, 7690, 1346, 10683, 6935, 310, 10080, 4762, 14710, 1741, 9352, 11307, 11865, 7844, 702, 10364, 12976, 13696, 894, 4890, 8642, 5236, 3524, 7780, 1666, 15718, 1739, 6318, 13158, 7339, 15617, 3823, 4898, 14973, 1124, 2960, 7963, 4479, 1019, 7645, 4681, 3783, 6670, 1201, 1525, 13409, 7215, 8682, 5446, 1894, 1557, 7097, 7597, 876, 603, 797, 15479, 12754, 15262, 1652, 5204, 5518, 15883, 10817, 5729, 3163, 11554, 13335, 1922, 4398, 13144, 13058, 1643, 13495, 8705, 5452, 7299, 10092, 6449, 2137, 6900, 9376, 12720, 8760, 3734, 1528, 10733, 6171, 5832, 4175, 5578, 10891, 5608, 347, 3549, 8067, 3151, 3681, 802, 355, 2596, 7312, 2232, 45, 10039, 9779, 9717, 835, 6654, 9543, 7107, 10203, 15138, 15692, 4707, 12252, 11619, 14857, 15962, 5526, 1218, 15343, 15700, 9034, 15026, 12411, 2139, 14059, 6371, 2705, 3477, 495, 11354, 3668, 11339, 7980, 8946, 7786, 7355, 2545, 7305, 2448, 7282, 11621, 2364, 15974, 736, 10372, 4273, 9772, 6602, 2460, 12602, 3043, 14814, 2049, 10520, 3128, 4641, 10732, 9336, 13507, 7608, 4055, 8161, 5705, 2430, 9407, 10429, 6258, 10455, 8813, 1795, 11008, 9383, 13628, 8307, 4672, 5285, 3762, 14546, 13296, 9079, 2781, 15850, 10189, 10035, 4990, 9632, 7982, 7281, 11814, 1704, 3665, 3345, 3960, 7694, 8354, 15827, 1445, 11486, 411, 9139, 13983, 289, 1976, 10541, 6425, 3531, 1235, 5686, 13044, 2881, 8297, 5332, 10465, 13195, 2462, 10175, 5440, 1758, 10600, 7375, 4359, 1939, 793, 2912, 1908, 401, 4527, 14276, 2281, 5241, 8945, 5972, 14191, 3330, 15280, 9420, 2435, 11075, 1886, 11302, 9960, 9752, 4378, 15145, 11729, 14625, 6799, 6803, 11840, 3941, 3766, 450, 14999, 1920, 4766, 13006, 15548, 9743, 10439, 898, 2679, 14799, 630, 10501, 6306, 14111, 4420, 13648, 5380, 2239, 3809, 12083, 12959, 14556, 7453, 12609, 5428, 15310, 15728, 5207, 8406, 2612, 14792, 6746, 6501, 839, 4484, 2456, 291, 12293, 7450, 12296, 296, 13167, 14399, 15549, 12692, 6316, 327, 11007, 7421, 10482, 5326, 8362, 4350, 4221, 11878, 4642, 6203, 8085, 9025, 12704, 6809, 4874, 15236, 11730, 4820, 2248, 1984, 6370, 10518, 12873, 3911, 14326, 14528, 5361, 1734, 5421, 10558, 7064, 14702, 5238, 7027, 5759, 5906, 4227, 742, 3366, 525, 1400, 2052, 13642, 2404, 15346, 6416, 359, 5791, 2481, 7224, 8897, 559, 5269, 14476, 10750, 13187, 4574, 10560, 3807, 810, 10272, 8383, 10911, 4310, 11183, 7611, 11583, 15005, 360, 8293, 7939, 2654, 12435, 262, 5272, 15044, 2042, 1720, 10530, 13277, 6404, 1943, 1880, 9576, 7403, 6983, 2293, 7489, 5385, 2681, 5954, 11036, 7344, 4531, 1540, 1844, 11114, 6881, 12469, 1253, 15877, 2066, 13729, 4860, 3420, 12169, 1782, 298, 12955, 7401, 15195, 7612, 10185, 15607, 7721, 7053, 2467, 846, 8310, 11351, 11135, 13762, 13125, 345, 15452, 8986, 5138, 7288, 812, 5752, 13000, 14920, 782, 2105, 14071, 2257, 1988, 14067, 7494, 222, 8969, 5376, 5877, 1132, 5564, 3774, 14169, 8736, 1825, 2059, 2393, 7329, 11498, 14278, 12184, 6255, 4340, 8294, 7218, 4854, 15163, 9603, 5261, 10070, 6617, 5923, 7182, 4549, 15225, 3398, 10308, 8331, 2877, 2416, 924, 9853, 8821, 2068, 6747, 11836, 9462, 2646, 6607, 9924, 15292, 6987, 12631, 1028, 7993, 11818, 6019, 9940, 15335, 11689, 708, 6575, 7360, 9506, 11659, 3478, 9132, 3710, 1195, 7533, 2710, 10935, 10668, 11290, 5703, 4722, 1796, 412, 15929, 8463, 10899, 1401, 13080, 3987, 4910, 10728, 7367, 11268, 981, 3082, 14819, 9898, 3891, 12717, 426, 6319, 444, 13224, 14094, 942, 15503, 2359, 1822, 11542, 5414, 8236, 12972, 9281, 9431, 12109, 8610, 11124, 4792, 13029, 341, 11747, 2657, 13265, 2269, 111, 5952, 10255, 10428, 14993, 2172, 4526, 8157, 1609, 790, 10236, 11224, 4647, 13590, 8953, 5879, 10673, 9172, 15762, 14113, 1560, 4799, 320, 2666, 7741, 12578, 2906, 10011, 6483, 4349, 10887, 6398, 6561, 5208, 9009, 2256, 8677, 9262, 5231, 842, 14642, 14752, 9983, 7603, 3954, 12985, 2984, 2250, 12243, 14694, 11767, 2063, 9170, 14610, 4203, 9868, 819, 13141, 5106, 1408, 10041, 8124, 801, 11796, 8467, 8747, 14701, 7647, 4710, 226, 594, 4243, 3175, 11670, 11917, 2445, 3737, 6714, 10082, 1702, 3688, 9700, 14293, 11112, 8103, 2075, 6874, 9563, 7582, 853, 15977, 15268, 3772, 1700, 11141, 3830, 6412, 404, 8075, 5850, 511, 10980, 3435, 4868, 1095, 7651, 4338, 2678, 10290, 8701, 4071, 3896, 2904, 1161, 10183, 3360, 9268, 5969, 4493, 12432, 13308, 6887, 8021, 11981, 1176, 10259, 13149, 10876, 4670, 7297, 13087, 8001, 9737, 7432, 4044, 15375, 8608, 5327, 2311, 7037, 11899, 13284, 8330, 7961, 11591, 14605, 6815, 9678, 8246, 9679, 3405, 1689, 13055, 7229, 9317, 2726, 4344, 1735, 10301, 14540, 10559, 9315, 8080, 14337, 10105, 11212, 5065, 5835, 12136, 11687, 13549, 9540, 11060, 8016, 864, 12915, 15227, 11271, 13671, 3367, 14583, 7923, 9214, 8812, 8128, 11984, 8052, 9482, 5123, 698, 11000, 9723, 5066, 1723, 13754, 10875, 9715, 10969, 15971, 5257, 14387, 2641, 10702, 3950, 318, 5653, 8704, 53, 10926, 3584, 4326, 2357, 1623, 6303, 13947, 6947, 12277, 796, 4908, 11420, 7913, 6908, 6198, 7931, 6329, 4229, 15010, 7947, 10206, 9916, 14687, 2012, 15705, 9911, 1727, 6133, 1732, 6121, 6287, 10545, 8401, 15199, 1277, 2694, 13436, 7911, 2512, 1781, 6792, 3726, 2459, 2160, 10726, 2774, 4687, 9827, 10823, 5498, 803, 7197, 14624, 983, 1489, 1870, 14683, 11806, 4052, 14719, 5535, 11833, 8730, 13053, 3013, 12708, 11861, 6560, 13157, 3532, 14193, 14635, 13246, 14485, 3094, 1851, 3126, 13809, 9205, 6101, 10419, 2223, 5529, 2695, 9860, 4444, 5474, 7117, 9738, 6372, 8715, 1279, 13593, 7043, 9816, 10516, 2417, 3927, 8860, 15945, 6123, 4650, 8746, 865, 3675, 14662, 12716, 6197, 15803, 6470, 3295, 7318, 12871, 4593, 9387, 7035, 13118, 11033, 9278, 14548, 612, 13493, 6471, 7092, 3647, 13568, 15136, 1934, 6699, 14092, 13625, 135, 14627, 11999, 888, 7540, 14713, 5434, 13169, 6188, 3894, 4032, 9949, 10107, 9792, 9598, 6174, 15266, 4231, 10822, 10975, 15073, 3843, 10699, 637, 2426, 2352, 5324, 73, 7605, 9915, 4089, 11039, 11773, 4094, 2922, 9156, 4245, 6438, 15157, 4614, 255, 11709, 13466, 11645, 6608, 4419, 2443, 9165, 10568, 2107, 14434, 14736, 6073, 7263, 13016, 5337, 3507, 1823, 7710, 11512, 1454, 4678, 1352, 15735, 14879, 3965, 12952, 4353, 12672, 9942, 595, 10194, 9272, 6790, 3961, 97, 3245, 947, 9125, 10782, 10881, 4335, 7654, 10721, 12859, 2578, 10617, 8395, 6495, 7693, 7777, 2673, 7984, 9564, 893, 8872, 8250, 7562, 15143, 567, 3563, 6267, 13725, 3935, 1196, 10776, 2286, 2194, 14645, 1240, 8795, 10373, 14456, 7700, 3087, 6253, 2218, 5424, 5492, 1830, 5773, 9344, 14518, 260, 13944, 12201, 15753, 4445, 3623, 5892, 7, 10398, 6634, 7200, 13259, 5189, 2669, 6343, 10674, 2822, 2454, 10334, 5289, 7789, 4238, 8828, 10961, 5201, 1614, 2718, 10686, 13056, 11791, 6791, 9464, 6867, 13084, 13519, 7264, 9123, 292, 4208, 9039, 4363, 11274, 9847, 1664, 4302, 9660, 12815, 5372, 3389, 9488, 2207, 5635, 12803, 12401, 5111, 11960, 660, 9198, 11206, 13949, 9726, 2367, 15263, 3, 2010, 6936, 9589, 10871, 6913, 10648, 917, 101, 3144, 6720, 591, 11871, 7779, 13372, 9061, 4998, 10967, 4309, 15482, 14784, 785, 6071, 14673, 2047, 12206, 5787, 8826, 6160, 7957, 7255, 4615, 2072, 1785, 1339, 5555, 3165, 6768, 580, 1663, 11103, 7150, 7430, 9781, 13301, 8540, 14658, 914, 5998, 13639, 10354, 2363, 12587, 11012, 9881, 8035, 4046, 474, 9977, 887, 9411, 10226, 11887, 10553, 5118, 13697, 5203, 4725, 15772, 5444, 10539, 10766, 10870, 2649, 7745, 1311, 13457, 11002, 8496, 12013, 12273, 4297, 12150, 368, 3789, 4514, 9852, 6970, 8716, 7230, 13532, 5885, 13319, 2765, 13699, 14192, 1749, 14778, 1399, 325, 12189, 12119, 10127, 9818, 8200, 6041, 937, 9774, 9846, 265, 7747, 13443, 1100, 3061, 8762, 4708, 15620, 8663, 10033, 14406, 2667, 991, 4153, 9021, 820, 5565, 9478, 8885, 14640, 14086, 1018, 2171, 7907, 2429, 5470, 498, 14347, 834, 9706, 14032, 8527, 6977, 4560, 4827, 1160, 5924, 2405, 3663, 12647, 8398, 15778, 14171, 6683, 15954, 290, 14643, 12975, 12042, 3926, 10246, 6012, 12909, 11952, 9516, 7581, 3556, 9747, 1726, 11680, 4396, 4161, 12830, 8199, 6638, 2407, 15699, 6539, 15947, 5753, 10688, 919, 3172, 6298, 11712, 14786, 11467, 7508, 14232, 2477, 15914, 10247, 8076, 7236, 10140, 11083, 11098, 4355, 9775, 12319, 11904, 12166, 3683, 11925, 13787, 11246, 1816, 5339, 4604, 10630, 11275, 5059, 5856, 7493, 4209, 10901, 3409, 13085, 15528, 10347, 10325, 3056, 249, 6912, 11515, 4072, 11174, 14244, 83, 725, 9635, 9866, 13179, 1631, 14050, 7733, 4695, 13013, 11786, 11755, 7626, 56, 282, 14646, 3352, 6783, 14480, 14652, 10363, 1287, 2349, 18, 605, 8696, 2924, 1512, 7666, 3542, 13776, 5007, 12245, 12677, 13669, 9722, 10659, 14242, 11628, 3328, 5638, 4567, 2217, 9012, 6876, 3986, 5993, 1872, 3837, 14754, 686, 4897, 5156, 13541, 6191, 2727, 13464, 6652, 5553, 1919, 14862, 6251, 1683, 11527, 11876, 13215, 11067, 15224, 14114, 3108, 7427, 396, 4195, 14908, 6436, 10019, 6100, 2771, 235, 10612, 14230, 7908, 934, 15276, 877, 13177, 5268, 4797, 10607, 14865, 8456, 13317, 316, 13659, 372, 12290, 5516, 2371, 2479, 9173, 8062, 13223, 2606, 14619, 2490, 4709, 6807, 4284, 11992, 2046, 13583, 14058, 12876, 10078, 12017, 14236, 15338, 13276, 1107, 13636, 15957, 484, 11677, 960, 10952, 5449, 3072, 863, 13509, 7238, 14815, 890, 14685, 11658, 2815, 10256, 1072, 11940, 14878, 9756, 2449, 2411, 2213, 219, 10717, 5191, 9433, 1718, 12353, 15934, 10982, 11099, 4491, 808, 15397, 13454, 8742, 6558, 6610, 685, 10806, 5881, 264, 10445, 14971, 15247, 15238, 8403, 9027, 12627, 9477, 6168, 3955, 5029, 11111, 44, 14858, 9438, 7717, 14298, 1212, 14516, 14780, 2955, 13704, 8866, 2672, 13121, 1958, 11092, 14829, 7227, 6871, 15814, 6472, 2230, 2581, 12682, 10646, 8520, 3828, 13236, 12346, 15130, 2472, 10044, 4899, 9304, 7159, 5981, 4224, 10187, 9684, 2060, 7675, 14164, 2588, 1193, 12556, 14300, 10075, 10597, 700, 5540, 4074, 11676, 9677, 7315, 2952, 14125, 12060, 6673, 15407, 8368, 6690, 10120, 4589, 7752, 270, 12795, 12654, 9969, 15923, 15798, 15241, 10756, 7880, 13361, 15598, 9843, 14023, 4144, 10264, 15575, 417, 6046, 1841, 13715, 4601, 4639, 661, 1807, 5079, 8284, 13551, 14250, 10554, 10989, 1529, 13545, 7804, 2778, 13630, 13624, 8069, 13746, 7988, 11523, 14251, 14383, 8745, 9427, 13386, 14745, 15910, 815, 9180, 8807, 11311, 4382, 12554, 9525, 13181, 4942, 1952, 8050, 918, 4374, 1152, 10262, 4972, 10642, 11944, 2182, 11055, 7449, 15109, 9910, 10544, 11143, 6955, 2372, 3357, 1751, 394, 2179, 3020, 10136, 7248, 10921, 5804, 5112, 3125, 6532, 10032, 14395, 1296, 14002, 15936, 6280, 12996, 8057, 2264, 8577, 6590, 3728, 4163, 3969, 3403, 15989, 4364, 11201, 11910, 14489, 12753, 507, 1561, 7615, 2484, 1917, 767, 12629, 12923, 4783, 4204, 10867, 2233, 9335, 406, 15129, 8386, 2026, 6528, 4987, 11332, 4064, 15078, 7353, 7594, 1899, 9057, 817, 10014, 6128, 4883, 14935, 9588, 516, 78, 1086, 11233, 5514, 4564, 1971, 10715, 10200, 14856, 6058, 14555, 7527, 6487, 10144, 12577, 15017, 4682, 14407, 7855, 8498, 6016, 9493, 13940, 11177, 3735, 8439, 4423, 1059, 10570, 3611, 12328, 8487, 1892, 4586, 8648, 4033, 5256, 9668, 6301, 8118, 9965, 10052, 14444, 10898, 4554, 9711, 170, 15177, 4511, 2469, 5494, 9045, 8327, 4680, 11470, 11019, 5200, 9475, 8257, 13412, 13531, 3586, 13666, 13251, 3452, 7820, 955, 533, 7254, 11288, 5545, 12343, 3149, 14047, 12486, 5697, 3599, 13447, 4455, 15477, 8109, 15748, 12973, 3633, 10692, 9280, 4685, 8189, 4388, 10621, 13448, 1794, 5953, 1121, 2446, 254, 7274, 121, 11020, 42, 8039, 11100, 11713, 7082, 5951, 11575, 1645, 14551, 12250, 3092, 2270, 6805, 12681, 11056, 14080, 14931, 841, 2632, 5501, 5717, 11996, 5627, 14817, 11063, 10893, 2572, 12997, 3639, 7113, 14720, 9905, 284, 11280, 15207, 10083, 759, 9346, 3945, 15093, 4140, 5100, 7016, 7869, 1461, 5777, 3067, 4475, 13638, 15458, 2947, 5026, 8083, 14373, 1817, 4612, 8484, 6796, 4126, 8693, 12868, 2521, 7892, 6215, 6939, 620, 2067, 7171, 7154, 6585, 7549, 11175, 9954, 10464, 179, 3977, 7125, 13025, 13916, 7803, 6488, 415, 10480, 13485, 1021, 12765, 7247, 5245, 13903, 11580, 15127, 4372, 6433, 2618, 2078, 10100, 15652, 2660, 12260, 5443, 12392, 4490, 6660, 9318, 8723, 1847, 1117, 8908, 1357, 11708, 10077, 10894, 3930, 6026, 1526, 15492, 5570, 4150, 6551, 154, 4327, 6709, 13263, 280, 14245, 5610, 682, 11491, 2721, 8721, 13972, 14963, 4634, 5431, 11943, 13346, 8434, 585, 15561, 8801, 6025, 3173, 10071, 11138, 14630, 5344, 11335, 2537, 8452, 12722, 1556, 12164, 13804, 8253, 12074, 6776, 11765, 9118, 2828, 2326, 454, 6169, 6703, 12991, 8188, 5499, 2560, 6636, 8376, 8064, 10238, 1506, 4559, 11560, 1543, 3908, 1280, 15366, 1260, 10719, 8424, 12940, 712, 6131, 13225, 176, 15596, 5246, 11460, 4980, 8591, 10586, 8918, 12299, 13614, 3882, 4206, 12894, 5155, 9991, 11537, 11170, 7942, 15328, 8952, 3680, 1750, 7520, 3929, 15208, 8422, 12660, 11810, 6384, 5827, 8786, 14072, 5633, 1800, 5911, 6311, 3962, 3189, 13196, 6572, 2076, 12178, 13481, 5725, 4431, 6625, 6110, 8144, 10590, 1801, 6424, 7900, 14097, 9017, 5171, 11079, 171, 4003, 10202, 5979, 13935, 15031, 6459, 4304, 14553, 4230, 431, 6355, 1818, 8477, 3644, 7460, 11038, 11900, 6304, 2174, 1693, 6620, 5811, 7801, 12015, 8405, 13529, 824, 10838, 5714, 11386, 13930, 15585, 159, 5295, 9058, 3816, 9188, 15812, 6613, 2688, 4, 7101, 15643, 6485, 49, 3948, 9932, 4124, 9252, 10611, 9375, 14609, 539, 15513, 8428, 15186, 7063, 9989, 1575, 14227, 4813, 5331, 5140, 5989, 11240, 13168, 11025, 9502, 15048, 2397, 1596, 5886, 6559, 15613, 2384, 9196, 2355, 10877, 9145, 5410, 2702, 15621, 10466, 3036, 11525, 9556, 13324, 7142, 3992, 5861, 6068, 1765, 5912, 3068, 7025, 11004, 15222, 12045, 14734, 1861, 14839, 10219, 6578, 12128, 7706, 847, 14616, 952, 1104, 7225, 2989, 2045, 6688, 13682, 5202, 11540, 12831, 6909, 2559, 6905, 4462, 13756, 10190, 2473, 9776, 3525, 4598, 11699, 12806, 2132, 9883, 14182, 15943, 139, 14464, 1973, 1542, 7098, 11538, 28, 9627, 12633, 1777, 13060, 1404, 11503, 4138, 11772, 12287, 5347, 10131, 10997, 313, 10883, 14365, 2058, 14965, 15949, 13601, 9854, 287, 4241, 15857, 5224, 7466, 12847, 2950, 11795, 8240, 13912, 11614, 4272, 4410, 10583, 11458, 763, 4084, 11522, 8364, 6454, 5600, 2116, 13415, 5719, 1815, 9771, 3650, 8839, 12386, 8412, 367, 2173, 14341, 8915, 13185, 10081, 6995, 857, 4255, 11109, 13562, 6847, 2900, 14576, 9342, 8626, 12532, 10953, 10790, 15293, 10414, 9147, 14900, 7912, 12262, 6848, 8565, 5004, 14523, 1054, 3866, 12954, 14936, 568, 5506, 11731, 11154, 5718, 9356, 370, 11768, 7046, 11695, 11516, 7167, 12798, 2089, 10505, 11071, 6315, 9889, 15253, 14880, 10740, 7817, 1669, 12939, 7383, 8757, 2361, 7366, 4677, 14189, 11255, 8385, 11501, 5860, 10737, 8717, 8218, 10930, 12179, 11370, 838, 1986, 4366, 14090, 10410, 582, 8171, 9124, 6252, 11094, 1980, 1138, 14362, 1722, 14184, 5619, 11231, 4846, 852, 13498, 14099, 9831, 598, 10636, 14653, 6938, 1455, 12183, 2106, 14271, 3744, 892, 2295, 11062, 4896, 4711, 11130, 94, 1979, 4610, 15792, 9708, 895, 12254, 14897, 13925, 14634, 1989, 6503, 6702, 5404, 7769, 9785, 545, 12434, 2814, 1077, 13152, 7749, 15574, 2619, 12961, 3869, 175, 288, 14845, 12760, 14295, 13553, 6707, 10349, 3690, 4839, 123, 15701, 13061, 8899, 5614, 5047, 9501, 13453, 643, 625, 14176, 4660, 9917, 10348, 5958, 13596, 13459, 1577, 3382, 6109, 1997, 2630, 10231, 14177, 5768, 7052, 584, 10067, 10074, 4788, 9333, 9422, 5946, 3287, 10350, 354, 8349, 6643, 11252, 11966, 1494, 11243, 11045, 7094, 9495, 13332, 15649, 14463, 15001, 13634, 5488, 9765, 681, 9725, 11168, 932, 10857, 14515, 2128, 3812, 4088, 13463, 6091, 4248, 2041, 2794, 11220, 13971, 7878, 10076, 2187, 2712, 2385, 5164, 11868, 10023, 15514, 10888, 11643, 9507, 855, 12024, 11108, 10682, 15642, 15345, 13352, 4588, 14535, 15352, 10433, 11754, 1868, 14632, 1949, 13096, 13290, 5747, 5357, 4112, 9874, 9509, 1659, 1895, 11882, 499, 7384, 5913, 335, 7917, 13460, 15788, 7841, 1684, 13927, 2749, 11258, 8117, 5279, 14252, 11222, 15217, 286, 9066, 12986, 13140, 15677, 1725, 11587, 6090, 251, 15330, 15511, 8798, 10588, 897, 11688, 5310, 9242, 6129, 12932, 8203, 15769, 5377, 11872, 15721, 8465, 15497, 6672, 908, 14617, 8652, 7222, 7657, 15680, 14130, 4461, 5039, 13946, 6407, 8836, 13986, 7916, 5276, 10890, 3886, 2289, 8423, 14549, 5232, 2587, 8110, 1928, 1485, 11733, 11236, 8632, 6113, 613, 7890, 3827, 11774, 12202, 15274, 1944, 1991, 10844, 10580, 464, 5439, 12167, 11297, 10159, 11743, 8832, 2655, 10821, 12585, 1345, 10781, 10587, 5963, 1429, 13315, 8270, 7156, 4802, 1993, 5154, 3662, 10388, 12808, 15108, 15052, 8036, 13426, 10547, 1334, 14918, 234, 10169, 524, 161, 3922, 10124, 10863, 2996, 1089, 12933, 9094, 5422, 13702, 6651, 11562, 6569, 8217, 14861, 3887, 7860, 7296, 11294, 610, 10748, 2152, 13068, 14451, 9517, 15903, 5205, 8840, 5423, 8459, 13936, 5698, 7112, 4301, 5713, 9952, 11085, 10552, 1711, 344, 15288, 10738, 9208, 10162, 1771, 2837, 14384, 10743, 2142, 4441, 9652, 1335, 15517, 10619, 7935, 6081, 13417, 800, 644, 8901, 6605, 4811, 15912, 12197, 5148, 7573, 13487, 2598, 4838, 1441, 10968, 13860, 8744, 422, 7485, 1942, 5745, 10062, 8066, 15815, 9337, 9095, 4716, 1180, 7641, 13694, 5749, 14804, 10671, 9885, 5767, 14651, 13461, 11505, 8093, 13840, 3197, 7195, 5481, 5919, 7842, 1383, 12775, 3870, 631, 2356, 5139, 12566, 5567, 10604, 6988, 10809, 4655, 12860, 10661, 1186, 13283, 13274, 5786, 12176, 14327, 12895, 10640, 10949, 7514, 2057, 12531, 11631, 2392, 6687, 13312, 2576, 6218, 13655, 8700, 11400, 12238, 12019, 1376, 5864, 10049, 15516, 10859, 5673, 9529, 14331, 4201, 7571, 2787, 640, 13082, 5533, 9651, 3277, 1660, 10712, 9490, 15658, 14927, 2133, 6170, 7073, 2889, 9100, 13552, 14724, 1752, 10599, 8791, 14527, 7840, 1055, 5322, 4803, 9864, 5485, 10793, 1013, 3385, 1518, 670, 7782, 14836, 3401, 7671, 7875, 6531, 5666, 9769, 4017, 12478, 178, 1035, 13222, 4873, 10294, 5606, 6338, 8073, 9899, 8638, 4063, 12981, 15122, 385, 10976, 8773, 10057, 8964, 10157, 7739, 6897, 15990, 8026, 9228, 7324, 6723, 564, 15255, 11926, 8665, 13789, 12307, 15976, 11597, 9135, 5177, 10779, 5737, 2163, 4683, 7791, 6241, 6579, 11617, 10064, 8219, 15952, 3365, 1508, 3780, 11724, 4997, 364, 3746, 10701, 8417, 15807, 987, 11215, 12289, 15754, 7550, 6239, 12561, 7203, 6757, 5163, 2246, 5462, 5457, 11009, 307, 9849, 14296, 12072, 2210, 5766, 823, 7586, 7272, 5426, 1239, 3994, 14006, 3470, 5011, 9953, 11809, 2852, 14849, 8421, 7541, 2313, 3643, 12223, 4170, 9373, 12224, 81, 5020, 6233, 6360, 11972, 1468, 12259, 7909, 11604, 2777, 13385, 8072, 9178, 1977, 615, 11265, 12518, 12108, 2390, 12433, 7753, 10908, 12274, 2554, 6705, 4816, 10729, 9787, 4867, 3760, 14522, 8429, 5895, 542, 5639, 5739, 2158, 6162, 2516, 12789, 4712, 1044, 7104, 13154, 4160, 528, 5151, 713, 4198, 6108, 5523, 7937, 7771, 11328, 3368, 10718, 15232, 10840, 10879, 4544, 15670, 13003, 755, 7456, 10207, 1837, 13855, 4772, 14838, 7091, 4924, 14943, 13133, 11737, 1862, 1915, 2017, 13139, 11696, 4270, 10420, 15698, 1272, 5078, 2677, 4323, 5102, 6949, 14322, 11204, 11381, 2806, 12615, 6216, 6206, 1231, 6377, 13613, 7136, 11107, 3329, 12624, 11936, 5364, 6837, 11471, 10369, 12414, 1530, 8418, 1009, 11323, 11892, 649, 3162, 13494, 4090, 11632, 9993, 2084, 12693, 5480, 9891, 2234, 9578, 15681, 4961, 2336, 12234, 10595, 13736, 5950, 3691, 5712, 1070, 12172, 13821, 6411, 2520, 8766, 435, 7445, 4701, 13052, 15697, 6051, 5510, 5467, 8105, 14811, 12869, 7464, 8541, 14852, 12905, 12266, 9834, 4714, 1092, 10799, 11894, 6007, 13245, 933, 5690]\n",
      "Tiempo promedio: 2.6570197105407716 segundos\n"
     ]
    }
   ],
   "source": [
    "D = genDistancias(datatrain.values, 24000)\n",
    "\n",
    "# Calcular percentiles para elegir r1, r2, y r3\n",
    "percentiles = np.percentile(D, [10, 20, 30]) # tmb puede ser [25, 50, 75]\n",
    "r1, r2, r3 = percentiles[0], percentiles[1], percentiles[2]\n",
    "\n",
    "# calcular la busqueda por rango\n",
    "radios_obtenidos = [r1, r2, r3]\n",
    "\n",
    "for radio in radios_obtenidos:\n",
    "    query = datatrain.iloc[ind_q]\n",
    "    dataT = datatrain\n",
    "    # Promedio\n",
    "    total_time = 0\n",
    "    for _ in range(10):\n",
    "        start_time = time.time()\n",
    "        result = rangeSearch(dataT.values, query, radio, ind_q)\n",
    "        end_time = time.time()\n",
    "        total_time += end_time - start_time\n",
    "    average_time = total_time / 10\n",
    "\n",
    "    print(f'Resultado para radio={radio}: {result}')\n",
    "    print(f'Tiempo promedio: {average_time} segundos')"
   ]
  },
  {
   "cell_type": "markdown",
   "metadata": {},
   "source": [
    "**RTree KNN**"
   ]
  },
  {
   "cell_type": "code",
   "execution_count": 36,
   "metadata": {},
   "outputs": [
    {
     "name": "stdout",
     "output_type": "stream",
     "text": [
      "La consulta tomó en promedio 0.023974895477294922 segundos\n",
      "Las k:8 canciones más cercanas a la consulta son (contar la query): [5, 5127, 9424, 13180, 576, 6648, 9973, 1956]\n"
     ]
    }
   ],
   "source": [
    "D = len(datatrain.columns)  \n",
    "\n",
    "# Create a new RTree index\n",
    "prop = rtree.index.Property()\n",
    "prop.dimension = D    # dimension del vector caracteristico\n",
    "prop.buffering_capacity = 8    # Cantidad maxima de MBRs en un nodo \n",
    "ind = rtree.index.Index(properties = prop)\n",
    "\n",
    "#Generar los datos    \n",
    "data = datatrain.values\n",
    "query = data[ind_q]\n",
    "\n",
    "# insertar los puntos                \n",
    "for i in range(data.shape[0]):\n",
    "    ind.insert(i, data[i])    \n",
    "\n",
    "knn_rtree(data, query, k, 64)"
   ]
  },
  {
   "cell_type": "markdown",
   "metadata": {},
   "source": [
    "**HighD**"
   ]
  },
  {
   "cell_type": "code",
   "execution_count": 37,
   "metadata": {},
   "outputs": [
    {
     "name": "stdout",
     "output_type": "stream",
     "text": [
      "Tiempo de ejecución promedio de knn_faiss: 0.004761791229248047 segundos\n",
      "Los k=8 más cercanos a la consulta son:[    5  5127  9424 13180   576  6648  9973  1956]\n",
      "Las distancias a los k=8 vecinos más cercanos son:[   0.     1656.7214 1691.756  1730.3032 1779.9702 1967.3242 1975.942\n",
      " 2001.5612]\n"
     ]
    }
   ],
   "source": [
    "#Generar los datos    \n",
    "data = datatrain.values\n",
    "query = data[5]\n",
    "\n",
    "faiss_knn_results, faiss_knn_distances, average_time = knn_faiss(data, query, k=8)\n",
    "\n",
    "print(f\"Tiempo de ejecución promedio de knn_faiss: {average_time} segundos\")\n",
    "print(f'Los k={k} más cercanos a la consulta son:{faiss_knn_results}') # faiss_knn_results[1:]\n",
    "print(f'Las distancias a los k={k} vecinos más cercanos son:{faiss_knn_distances}') # faiss_knn_results[1:]"
   ]
  },
  {
   "cell_type": "markdown",
   "metadata": {},
   "source": [
    "# Testbench 24k"
   ]
  },
  {
   "cell_type": "markdown",
   "metadata": {},
   "source": [
    "**Extracción de características**"
   ]
  },
  {
   "cell_type": "code",
   "execution_count": 38,
   "metadata": {},
   "outputs": [],
   "source": [
    "features = extract_n_features(24000, 64, 8)\n",
    "\n",
    "# Guardar las características en un archivo CSV\n",
    "output_file = 'caracteristicas_24000.txt'\n",
    "with open(output_file, 'w') as f:\n",
    "    for audio_path, feature_vector in features.items():\n",
    "        feature_str = ','.join(map(str, feature_vector))\n",
    "        f.write(feature_str + '\\n')\n",
    "\n",
    "print(f'Características guardadas en {output_file}')\n",
    "\n",
    "# Variables para tests\n",
    "datatrain = pd.read_csv('caracteristicas_24000.txt', delimiter=',',header=None)\n",
    "k = 8\n",
    "ind_q = 5"
   ]
  },
  {
   "cell_type": "markdown",
   "metadata": {},
   "source": [
    "**Range KNN Priority queue**"
   ]
  },
  {
   "cell_type": "code",
   "execution_count": null,
   "metadata": {},
   "outputs": [
    {
     "name": "stdout",
     "output_type": "stream",
     "text": [
      "Resultado para k=8: [(5, 0.0), (31, 21.27868951349949), (9, 26.562299151551848), (200, 34.62912923822806), (2993, 36.522520758226264), (631, 46.58289851191702), (2873, 47.80771715933784), (3059, 47.908723321964956)]\n",
      "Tiempo promedio: 12.864285469055176 segundos\n"
     ]
    }
   ],
   "source": [
    "query = datatrain.iloc[ind_q]\n",
    "#dataT = datatrain.drop([ind_q], axis=0, inplace=False)\n",
    "dataT = datatrain\n",
    "result = knnSearch(dataT.values, query, k)\n",
    "# Promedio de tiempo\n",
    "total_time = 0\n",
    "for _ in range(10):\n",
    "    start_time = time.time()\n",
    "    result = knnSearch(dataT.values, query, k)\n",
    "    end_time = time.time()\n",
    "    total_time += end_time - start_time\n",
    "average_time = total_time\n",
    "\n",
    "print(f'Resultado para k={k}: {result}')\n",
    "print(f'Tiempo promedio: {average_time} segundos') "
   ]
  },
  {
   "cell_type": "markdown",
   "metadata": {},
   "source": [
    "**Range KNN Radio**"
   ]
  },
  {
   "cell_type": "code",
   "execution_count": null,
   "metadata": {},
   "outputs": [
    {
     "name": "stdout",
     "output_type": "stream",
     "text": [
      "Resultado para radio=62.631407362456756: [5, 31, 9, 200, 2993, 631, 2873, 3059, 2277, 2707, 3681, 1274, 2036, 2180, 719, 1661, 43, 2621, 1307, 22, 2194, 1430, 3652, 3637, 174, 1023, 238, 3395, 145, 162, 128, 587, 1673, 3440, 1406, 1323, 2848, 658, 1114, 1766, 2487, 1967, 372, 1250, 3193, 2023, 3197, 3150, 3123, 3054, 3137, 119, 2365, 68, 3625, 1630, 2254, 2549, 3755, 3626, 2840, 1741, 393, 14, 1066, 1791]\n",
      "Tiempo promedio: 0.6736599922180175 segundos\n",
      "Resultado para radio=79.35393718762391: [5, 31, 9, 200, 2993, 631, 2873, 3059, 2277, 2707, 3681, 1274, 2036, 2180, 719, 1661, 43, 2621, 1307, 22, 2194, 1430, 3652, 3637, 174, 1023, 238, 3395, 145, 162, 128, 587, 1673, 3440, 1406, 1323, 2848, 658, 1114, 1766, 2487, 1967, 372, 1250, 3193, 2023, 3197, 3150, 3123, 3054, 3137, 119, 2365, 68, 3625, 1630, 2254, 2549, 3755, 3626, 2840, 1741, 393, 14, 1066, 1791, 2287, 478, 3276, 3678, 2702, 1105, 1382, 3222, 1537, 2540, 827, 3363, 159, 2567, 3697, 523, 2109, 3664, 212, 1301, 3501, 310, 1446, 1059, 3479, 3250, 2347, 1409, 2943, 3790, 187, 1115, 202, 1228, 1480, 2466, 3410, 3133, 3498, 2182, 3841, 37, 3116, 1554, 1937, 2748, 2553, 1876, 1222, 1951, 185, 882, 2864, 2177, 3856, 3575, 1110, 490, 2371, 3603, 3512, 2628, 2111, 1832, 726, 2229, 3706, 1499, 2609, 1294, 89, 142, 3443, 1170, 2518, 2253, 703, 2421, 1892, 1142, 3618, 88, 2225, 2435, 3798, 1063, 3676, 776, 1490, 1758, 2171, 2614, 1854, 1945, 3814, 1440, 3483, 1932, 737, 333, 1677, 3146, 2594, 1468, 901, 3741, 1154, 3484, 2298, 3523, 2867, 65, 58, 860, 2299, 3595, 2816, 1458, 3524, 1197, 2333, 1958, 1492, 1626, 767, 3162, 42, 1217, 2547, 2412, 18, 2401, 2381, 628, 2251, 144, 385, 2198, 1451, 3705, 1392, 1263, 465, 2315, 3335, 948, 486, 958, 3607, 2073, 1899, 3797, 3685, 1385, 502, 3624, 3341, 1239, 137, 299, 3588, 3571, 2319, 1120, 2783, 2868, 3660, 1518, 2050, 3855, 3441, 2325, 188, 3023, 2238, 1354, 2403, 1256, 3596, 749, 2200, 1261, 1053, 809, 11, 2422, 1122, 3325, 1450, 3564, 3724, 3582, 81, 1305, 2695, 584, 3476, 1207, 1545, 1877, 1229, 3721, 2721, 2393, 654, 2346, 2283, 2562, 1507, 3732, 1571, 3510, 2302, 2638, 1917, 2688, 746, 3960, 969, 1928, 1300, 1716, 3616, 2820, 1104, 2806, 154, 3693, 2710, 2494, 381, 3825, 517, 2207, 3393, 2274, 147, 2763, 556, 3419, 1126, 2366, 280, 696, 1158, 3985, 277, 3508, 2314, 1736, 3389, 599, 1389, 2632, 2278, 1510, 1472, 534, 1457, 3898, 1801, 2204, 3489, 66, 3594, 380, 63, 2320, 2329, 1363, 3408, 1823, 1474, 3049, 1903, 1756, 1255, 1560, 2823, 1688, 1226, 1601, 1842, 871, 687, 2077, 1402, 2197, 3009, 3168, 3377, 2789, 2332, 3813, 2130, 2802, 110, 796, 774, 3322, 2836, 2928, 475, 1348, 1072, 1194, 2011, 2410, 3977, 1488, 2712, 2997, 592, 3602, 3783, 1412, 1159, 3463, 1590, 1408, 3629, 884, 2399, 3701, 2715, 48, 1076, 2156, 3848, 3756, 2898, 2982, 321, 56, 3485, 1597, 1834, 3833, 1473, 2854, 2607, 79, 964, 1099, 3446, 318, 3311, 3731, 1621, 2768, 2175, 987]\n",
      "Tiempo promedio: 0.6875606536865234 segundos\n",
      "Resultado para radio=95.01689467881616: [5, 31, 9, 200, 2993, 631, 2873, 3059, 2277, 2707, 3681, 1274, 2036, 2180, 719, 1661, 43, 2621, 1307, 22, 2194, 1430, 3652, 3637, 174, 1023, 238, 3395, 145, 162, 128, 587, 1673, 3440, 1406, 1323, 2848, 658, 1114, 1766, 2487, 1967, 372, 1250, 3193, 2023, 3197, 3150, 3123, 3054, 3137, 119, 2365, 68, 3625, 1630, 2254, 2549, 3755, 3626, 2840, 1741, 393, 14, 1066, 1791, 2287, 478, 3276, 3678, 2702, 1105, 1382, 3222, 1537, 2540, 827, 3363, 159, 2567, 3697, 523, 2109, 3664, 212, 1301, 3501, 310, 1446, 1059, 3479, 3250, 2347, 1409, 2943, 3790, 187, 1115, 202, 1228, 1480, 2466, 3410, 3133, 3498, 2182, 3841, 37, 3116, 1554, 1937, 2748, 2553, 1876, 1222, 1951, 185, 882, 2864, 2177, 3856, 3575, 1110, 490, 2371, 3603, 3512, 2628, 2111, 1832, 726, 2229, 3706, 1499, 2609, 1294, 89, 142, 3443, 1170, 2518, 2253, 703, 2421, 1892, 1142, 3618, 88, 2225, 2435, 3798, 1063, 3676, 776, 1490, 1758, 2171, 2614, 1854, 1945, 3814, 1440, 3483, 1932, 737, 333, 1677, 3146, 2594, 1468, 901, 3741, 1154, 3484, 2298, 3523, 2867, 65, 58, 860, 2299, 3595, 2816, 1458, 3524, 1197, 2333, 1958, 1492, 1626, 767, 3162, 42, 1217, 2547, 2412, 18, 2401, 2381, 628, 2251, 144, 385, 2198, 1451, 3705, 1392, 1263, 465, 2315, 3335, 948, 486, 958, 3607, 2073, 1899, 3797, 3685, 1385, 502, 3624, 3341, 1239, 137, 299, 3588, 3571, 2319, 1120, 2783, 2868, 3660, 1518, 2050, 3855, 3441, 2325, 188, 3023, 2238, 1354, 2403, 1256, 3596, 749, 2200, 1261, 1053, 809, 11, 2422, 1122, 3325, 1450, 3564, 3724, 3582, 81, 1305, 2695, 584, 3476, 1207, 1545, 1877, 1229, 3721, 2721, 2393, 654, 2346, 2283, 2562, 1507, 3732, 1571, 3510, 2302, 2638, 1917, 2688, 746, 3960, 969, 1928, 1300, 1716, 3616, 2820, 1104, 2806, 154, 3693, 2710, 2494, 381, 3825, 517, 2207, 3393, 2274, 147, 2763, 556, 3419, 1126, 2366, 280, 696, 1158, 3985, 277, 3508, 2314, 1736, 3389, 599, 1389, 2632, 2278, 1510, 1472, 534, 1457, 3898, 1801, 2204, 3489, 66, 3594, 380, 63, 2320, 2329, 1363, 3408, 1823, 1474, 3049, 1903, 1756, 1255, 1560, 2823, 1688, 1226, 1601, 1842, 871, 687, 2077, 1402, 2197, 3009, 3168, 3377, 2789, 2332, 3813, 2130, 2802, 110, 796, 774, 3322, 2836, 2928, 475, 1348, 1072, 1194, 2011, 2410, 3977, 1488, 2712, 2997, 592, 3602, 3783, 1412, 1159, 3463, 1590, 1408, 3629, 884, 2399, 3701, 2715, 48, 1076, 2156, 3848, 3756, 2898, 2982, 321, 56, 3485, 1597, 1834, 3833, 1473, 2854, 2607, 79, 964, 1099, 3446, 318, 3311, 3731, 1621, 2768, 2175, 987, 2170, 3080, 121, 2701, 470, 129, 3500, 3012, 2189, 1711, 1889, 456, 2729, 2295, 1205, 2384, 3752, 363, 2891, 3545, 1666, 3919, 2025, 1738, 2691, 2987, 1840, 3469, 457, 2341, 1846, 1295, 2629, 1257, 484, 2343, 3432, 2896, 2831, 816, 266, 36, 3711, 2038, 3718, 165, 1475, 1266, 2027, 3039, 2406, 3613, 2736, 1403, 3688, 1803, 3520, 647, 2184, 2350, 1838, 3248, 2300, 914, 3897, 1755, 158, 67, 217, 3433, 3795, 1423, 1262, 3178, 2968, 3846, 600, 1521, 2005, 3939, 620, 1649, 2118, 1415, 573, 3382, 395, 2201, 1075, 2871, 3392, 2981, 231, 3040, 2759, 2248, 100, 1656, 2910, 881, 1128, 2427, 2353, 133, 1843, 1448, 3118, 2577, 1693, 3480, 2208, 1181, 1718, 417, 77, 1203, 1303, 1821, 1178, 143, 348, 3608, 2380, 754, 742, 3560, 1439, 2028, 454, 2705, 243, 3460, 1650, 3442, 2192, 3753, 1900, 2264, 1101, 139, 1672, 3556, 2245, 2903, 1291, 2169, 3868, 105, 1034, 2113, 2908, 1850, 3018, 113, 3653, 3824, 3005, 664, 2856, 648, 2065, 2231, 2083, 301, 1443, 929, 1858, 2846, 3592, 521, 829, 3169, 2224, 617, 3181, 3372, 3770, 3654, 957, 2084, 1429, 1555, 278, 1321, 3194, 1603, 3605, 1686, 3385, 2190, 2088, 1564, 1536, 1420, 1293, 821, 1847, 3230, 2956, 653, 1000, 2213, 1370, 3667, 1604, 52, 2804, 3213, 2288, 1647, 823, 2505, 2203, 2449, 3643, 164, 1042, 1378, 483, 3321, 3883, 1141, 886, 2862, 192, 1108, 186, 561, 1962, 1714, 1872, 2771, 3642, 3373, 529, 442, 1172, 2087, 3481, 305, 2167, 2870, 120, 2523, 3573, 306, 2948, 2832, 3640, 2368, 3830, 672, 1078, 2741, 324, 2286, 1210, 976, 38, 2294, 2126, 1496, 1627, 781, 352, 2000, 3649, 1253, 1531, 91, 1008, 3589, 2097, 1051, 156, 1657, 1778, 1107, 1111, 551, 330, 3090, 577, 2855, 122, 419, 1520, 1593, 2149, 1638, 389, 2125, 741, 3052, 538, 1432, 1509, 1905, 3462, 242, 329, 2730, 3612, 2808, 460, 2564, 2852, 246, 3761, 1221, 3331, 1592, 3966, 2265, 3671, 2334, 3521, 2797, 13, 1236, 123, 1580, 3787, 1653, 3673, 3356, 1642, 1535, 2339, 2829, 1513, 2338, 2160, 1483, 2827, 3494, 2026, 3282, 3477, 1986, 2323, 1515, 208, 2717, 3796, 420, 2058, 641, 905, 2199, 1836, 2066, 3604, 3073, 1611, 2520, 522, 1413, 589, 3286, 3696, 211, 525, 1743, 1326, 3103, 1798, 1147, 3658, 2744, 1952, 3507, 3812, 189, 3617, 2276, 797, 495, 541, 1214, 2205, 1646, 2124, 1534, 3665, 2310, 73, 3475, 3553, 3468, 1070, 3263, 1671, 637, 3257, 2495, 3218, 106, 2352, 3033, 1185, 2331, 2439, 2336, 1355, 1648, 3236, 2735, 1140, 3788, 2220, 228, 1620, 1314, 1628, 1394, 2400, 3859, 1196, 1824, 3399, 3725, 27, 2545, 300, 2388, 1759, 2164, 3504, 3516, 244, 3845, 1984, 3505, 2222, 1177, 1227, 163, 375, 3568, 2589, 2202, 3730, 3690, 1031, 462, 15, 2641, 1288, 55, 1252, 698, 876, 1764, 3262, 2308, 2392, 1861, 2411, 1091, 909, 3751, 102, 2240, 988, 1290, 1171, 3548, 2992, 946, 1089, 1477, 3869, 1497, 2121, 1036, 1725, 2749, 1828, 1487, 140, 3081, 75, 1175, 2212, 3332, 2075, 3851, 447, 3119, 3227, 1027, 1489, 530, 213, 3083, 1153, 410, 870, 1546, 2147, 1712, 973, 82, 3010, 1014, 1829, 226, 3785, 1118, 1761, 738, 3675, 297, 3779, 3015, 668, 1357, 2800, 2859, 2033, 1469, 3161, 1960, 501, 1046, 1206, 3609, 1043, 1779, 1145, 1044, 1808, 453, 2697, 2112, 3981, 269, 94, 752, 770, 1167, 3804, 1201, 3541, 181, 2337, 166, 3749, 386, 1162, 21, 1136, 537, 619, 1032, 1849, 2235]\n",
      "Tiempo promedio: 0.698630428314209 segundos\n"
     ]
    }
   ],
   "source": [
    "D = genDistancias(datatrain.values, 30000)\n",
    "\n",
    "# Calcular percentiles para elegir r1, r2, y r3\n",
    "percentiles = np.percentile(D, [10, 20, 30]) # tmb puede ser [25, 50, 75]\n",
    "r1, r2, r3 = percentiles[0], percentiles[1], percentiles[2]\n",
    "\n",
    "# calcular la busqueda por rango\n",
    "radios_obtenidos = [r1, r2, r3]\n",
    "\n",
    "for radio in radios_obtenidos:\n",
    "    query = datatrain.iloc[ind_q]\n",
    "    dataT = datatrain\n",
    "    # Promedio\n",
    "    total_time = 0\n",
    "    for _ in range(10):\n",
    "        start_time = time.time()\n",
    "        result = rangeSearch(dataT.values, query, radio, ind_q)\n",
    "        end_time = time.time()\n",
    "        total_time += end_time - start_time\n",
    "    average_time = total_time / 10\n",
    "\n",
    "    print(f'Resultado para radio={radio}: {result}')\n",
    "    print(f'Tiempo promedio: {average_time} segundos')"
   ]
  },
  {
   "cell_type": "markdown",
   "metadata": {},
   "source": [
    "**RTree KNN**"
   ]
  },
  {
   "cell_type": "code",
   "execution_count": null,
   "metadata": {},
   "outputs": [
    {
     "name": "stdout",
     "output_type": "stream",
     "text": [
      "La consulta tomó en promedio 0.002820467948913574 segundos\n",
      "Las k:8 canciones más cercanas a la consulta son (contar la query): [5, 31, 9, 200, 2993, 631, 2873, 3059]\n"
     ]
    }
   ],
   "source": [
    "D = len(datatrain.columns)  \n",
    "\n",
    "# Create a new RTree index\n",
    "prop = rtree.index.Property()\n",
    "prop.dimension = D    # dimension del vector caracteristico\n",
    "prop.buffering_capacity = 8    # Cantidad maxima de MBRs en un nodo \n",
    "ind = rtree.index.Index(properties = prop)\n",
    "\n",
    "#Generar los datos    \n",
    "data = datatrain.values\n",
    "query = data[ind_q]\n",
    "\n",
    "# insertar los puntos                \n",
    "for i in range(data.shape[0]):\n",
    "    ind.insert(i, data[i])    \n",
    "\n",
    "knn_rtree(data, query, k, 64)"
   ]
  },
  {
   "cell_type": "markdown",
   "metadata": {},
   "source": [
    "**HighD**"
   ]
  },
  {
   "cell_type": "code",
   "execution_count": null,
   "metadata": {},
   "outputs": [
    {
     "name": "stdout",
     "output_type": "stream",
     "text": [
      "Tiempo de ejecución promedio de knn_faiss: 0.0010390996932983399 segundos\n",
      "Los k=8 más cercanos a la consulta son:[   5   31    9  200 2993  631 2873 3059]\n",
      "Las distancias a los k=8 vecinos más cercanos son:[   0.       452.78265  705.5557  1199.1769  1333.8945  2169.966\n",
      " 2285.578   2295.246  ]\n"
     ]
    }
   ],
   "source": [
    "#Generar los datos    \n",
    "data = datatrain.values\n",
    "query = data[5]\n",
    "\n",
    "faiss_knn_results, faiss_knn_distances, average_time = knn_faiss(data, query, k=8)\n",
    "\n",
    "print(f\"Tiempo de ejecución promedio de knn_faiss: {average_time} segundos\")\n",
    "print(f'Los k={k} más cercanos a la consulta son:{faiss_knn_results}') # faiss_knn_results[1:]\n",
    "print(f'Las distancias a los k={k} vecinos más cercanos son:{faiss_knn_distances}') # faiss_knn_results[1:]"
   ]
  }
 ],
 "metadata": {
  "kernelspec": {
   "display_name": "Python 3",
   "language": "python",
   "name": "python3"
  },
  "language_info": {
   "codemirror_mode": {
    "name": "ipython",
    "version": 3
   },
   "file_extension": ".py",
   "mimetype": "text/x-python",
   "name": "python",
   "nbconvert_exporter": "python",
   "pygments_lexer": "ipython3",
   "version": "3.10.12"
  }
 },
 "nbformat": 4,
 "nbformat_minor": 2
}
