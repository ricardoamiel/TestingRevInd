{
 "cells": [
  {
   "cell_type": "markdown",
   "metadata": {},
   "source": [
    "**Instalación de librerías necesarias**"
   ]
  },
  {
   "cell_type": "code",
   "execution_count": 43,
   "metadata": {},
   "outputs": [
    {
     "name": "stdout",
     "output_type": "stream",
     "text": [
      "Defaulting to user installation because normal site-packages is not writeable\n",
      "Requirement already satisfied: librosa==0.9.2 in /home/karu/.local/lib/python3.10/site-packages (0.9.2)\n",
      "Requirement already satisfied: decorator>=4.0.10 in /home/karu/.local/lib/python3.10/site-packages (from librosa==0.9.2) (5.1.1)\n",
      "Requirement already satisfied: scikit-learn>=0.19.1 in /home/karu/.local/lib/python3.10/site-packages (from librosa==0.9.2) (1.5.1)\n",
      "Requirement already satisfied: numpy>=1.17.0 in /usr/local/lib/python3.10/dist-packages (from librosa==0.9.2) (1.26.4)\n",
      "Requirement already satisfied: audioread>=2.1.9 in /home/karu/.local/lib/python3.10/site-packages (from librosa==0.9.2) (3.0.1)\n",
      "Requirement already satisfied: pooch>=1.0 in /home/karu/.local/lib/python3.10/site-packages (from librosa==0.9.2) (1.8.2)\n",
      "Requirement already satisfied: joblib>=0.14 in /usr/local/lib/python3.10/dist-packages (from librosa==0.9.2) (1.4.2)\n",
      "Requirement already satisfied: numba>=0.45.1 in /home/karu/.local/lib/python3.10/site-packages (from librosa==0.9.2) (0.60.0)\n",
      "Requirement already satisfied: soundfile>=0.10.2 in /home/karu/.local/lib/python3.10/site-packages (from librosa==0.9.2) (0.12.1)\n",
      "Requirement already satisfied: resampy>=0.2.2 in /home/karu/.local/lib/python3.10/site-packages (from librosa==0.9.2) (0.4.3)\n",
      "Requirement already satisfied: packaging>=20.0 in /home/karu/.local/lib/python3.10/site-packages (from librosa==0.9.2) (24.0)\n",
      "Requirement already satisfied: scipy>=1.2.0 in /home/karu/.local/lib/python3.10/site-packages (from librosa==0.9.2) (1.14.0)\n",
      "Requirement already satisfied: llvmlite<0.44,>=0.43.0dev0 in /home/karu/.local/lib/python3.10/site-packages (from numba>=0.45.1->librosa==0.9.2) (0.43.0)\n",
      "Requirement already satisfied: requests>=2.19.0 in /usr/lib/python3/dist-packages (from pooch>=1.0->librosa==0.9.2) (2.25.1)\n",
      "Requirement already satisfied: platformdirs>=2.5.0 in /home/karu/.local/lib/python3.10/site-packages (from pooch>=1.0->librosa==0.9.2) (4.2.1)\n",
      "Requirement already satisfied: threadpoolctl>=3.1.0 in /home/karu/.local/lib/python3.10/site-packages (from scikit-learn>=0.19.1->librosa==0.9.2) (3.5.0)\n",
      "Requirement already satisfied: cffi>=1.0 in /home/karu/.local/lib/python3.10/site-packages (from soundfile>=0.10.2->librosa==0.9.2) (1.16.0)\n",
      "Requirement already satisfied: pycparser in /home/karu/.local/lib/python3.10/site-packages (from cffi>=1.0->soundfile>=0.10.2->librosa==0.9.2) (2.22)\n",
      "Defaulting to user installation because normal site-packages is not writeable\n",
      "Requirement already satisfied: numpy in /usr/local/lib/python3.10/dist-packages (1.26.4)\n"
     ]
    }
   ],
   "source": [
    "!pip install librosa==0.9.2 \n",
    "!pip install numpy\n",
    "!pip install IPython\n",
    "!pip install --upgrade setuptools\n",
    "!pip install pandas\n",
    "!pip install matplotlib\n",
    "!pip install rtree\n",
    "!pip install faiss-cpu"
   ]
  },
  {
   "cell_type": "markdown",
   "metadata": {},
   "source": [
    "**Importación de librerías**:"
   ]
  },
  {
   "cell_type": "code",
   "execution_count": 8,
   "metadata": {},
   "outputs": [],
   "source": [
    "import librosa\n",
    "import IPython.display as ipd\n",
    "import os\n",
    "import numpy as np\n",
    "import pandas as pd\n",
    "import heapq\n",
    "import time\n",
    "import matplotlib.pyplot as plt\n",
    "import concurrent.futures\n",
    "import rtree\n",
    "import faiss"
   ]
  },
  {
   "cell_type": "markdown",
   "metadata": {},
   "source": [
    "**Definición de funciones**:"
   ]
  },
  {
   "cell_type": "code",
   "execution_count": 9,
   "metadata": {},
   "outputs": [],
   "source": [
    "# Funciones de extraccion de caracteristicas\n",
    "def get_audios(n):\n",
    "    audios = []\n",
    "    for i in range(1, 156):\n",
    "        num = \"\"\n",
    "        if i < 10:\n",
    "            num = \"00\" + str(i)\n",
    "        elif i < 100:\n",
    "            num = \"0\" + str(i)\n",
    "        else:\n",
    "            num = str(i)\n",
    "\n",
    "        for file in os.listdir('fma_medium/' + num):\n",
    "            if file.endswith('.mp3'):\n",
    "                audios.append('fma_medium/' + num + '/' + file)\n",
    "            if len(audios) == n:\n",
    "                return audios\n",
    "\n",
    "def features_extraction(file_path, dimensions):\n",
    "    #load the audio file\n",
    "    x, sample_rate = librosa.load(file_path, res_type='kaiser_fast')\n",
    "    #extract features from the audio file\n",
    "    mfcc = np.mean(librosa.feature.mfcc(y=x, sr=sample_rate, n_mfcc=dimensions).T, axis=0) # axis = 1\n",
    "    \n",
    "    return mfcc\n",
    "\n",
    "def extract_n_features(n, dimensions, threads):\n",
    "    audios = get_audios(n)\n",
    "    features = []\n",
    "    results = {}\n",
    "\n",
    "    with concurrent.futures.ThreadPoolExecutor(max_workers=threads) as executor:\n",
    "        future_to_data = {executor.submit(features_extraction, item, dimensions): item for item in audios }\n",
    "        for future in concurrent.futures.as_completed(future_to_data):\n",
    "            data_item = future_to_data[future]\n",
    "            try:\n",
    "                result = future.result()\n",
    "                # Assign the result to the input string in the dictionary\n",
    "                results[data_item] = result\n",
    "            except Exception as exc:\n",
    "                print(f'{data_item} generated an exception: {exc}')\n",
    "    return results\n",
    "\n",
    "# Funciones de KNN Range priority queue\n",
    "def euclidean_distances(query, data):\n",
    "    return np.sqrt(((data - query) ** 2).sum(axis=1))\n",
    "\n",
    "def KNNPriorityQueue(query, K, chars):\n",
    "    data = np.loadtxt(chars, delimiter=',')\n",
    "    \n",
    "    if len(data) < K:\n",
    "        raise ValueError(\"El número de datos es menor que K\")\n",
    "    \n",
    "    distances = euclidean_distances(query, data)\n",
    "    pq = []\n",
    "    \n",
    "    # Insertamos los primeros K elementos de la base de datos en la cola de prioridad\n",
    "    for i in range(K):\n",
    "        heapq.heappush(pq, (-distances[i], i))  # Distancia negativa para simular una cola de prioridad máxima\n",
    "\n",
    "    for i in range(K, len(data)):\n",
    "        # Si la distancia entre el objeto de consulta y el objeto i es menor que la mayor distancia en la cola de prioridad\n",
    "        if -pq[0][0] > distances[i]: # Eliminamos el objeto en la cola de prioridad con mayor distancia\n",
    "            heapq.heappop(pq)\n",
    "            heapq.heappush(pq, (-distances[i], i))\n",
    "            \n",
    "    return [(data[i], -distance) for distance, i in sorted(pq, reverse=True)]\n",
    "\n",
    "def knnSearch(collection, query, k):\n",
    "    heap = [] # heap vacio\n",
    "    ED = lambda P, Q: np.sqrt((P-Q)**2)\n",
    "\n",
    "    for i in range(len(collection)):\n",
    "        dist = np.sqrt((ED(collection[i], query) ** 2).sum()) # porque es una serie de pandas y no un array de numpy\n",
    "        # Use negative distance because heapq is a min heap\n",
    "        if len(heap) < k:\n",
    "            heapq.heappush(heap, (-dist, i)) # si no se ha llenado el heap, se inserta\n",
    "        else:\n",
    "            heapq.heappushpop(heap, (-dist, i)) # si ya se lleno el heap, se inserta y se elimina el menor\n",
    "\n",
    "    # Return indices and distances, reversing the order so that the closest is first\n",
    "    indices_and_distances = [(i, -d) for d, i in sorted(heap, reverse=True)]\n",
    "    return indices_and_distances\n",
    " \n",
    "# Funciones para KNN Range radio\n",
    "def genDistancias(data, N):\n",
    "    ED = lambda P, Q: np.sqrt(sum((P-Q)**2))\n",
    "    v = np.zeros(N)\n",
    "    for i in range(N):\n",
    "        ind = np.random.choice(data.shape[0], size=2, replace=False)\n",
    "        P = data[ind[0], :]\n",
    "        Q = data[ind[1], :]\n",
    "        #v[i] = distance.euclidean(P, Q)\n",
    "        v[i] = np.sqrt((ED(P, Q) ** 2).sum())\n",
    "    return v\n",
    "\n",
    "def rangeSearch(collection, query, r, query_index):\n",
    "    ED = lambda P, Q: np.sqrt(sum((P-Q)**2))\n",
    "    result = []\n",
    "    heap = []\n",
    "    for i in range(len(collection)):\n",
    "        dist = np.sqrt((ED(collection[i], query) ** 2).sum())\n",
    "        if (dist < r).all():  # Check if all elements in the Series are less than r\n",
    "            result.append(i)\n",
    "            #sort by distance to r\n",
    "            heapq.heappush(heap, (dist, i))\n",
    "    sorted_result = [index for _, index in heapq.nsmallest(len(heap), heap)]\n",
    "    return sorted_result # result\n",
    "\n",
    "# Funciones para KNN Rtree\n",
    "def knn_rtree(collection, query, k, dimensions):\n",
    "    # Create a new RTree index\n",
    "    prop = rtree.index.Property()\n",
    "    prop.dimension = dimensions   # dimension del vector caracteristico\n",
    "    #prop.buffering_capacity = 8    # Cantidad maxima de MBRs en un nodo \n",
    "    ind = rtree.index.Index(properties = prop)\n",
    "\n",
    "    # insertar los puntos                \n",
    "    for i in range(collection.shape[0]):\n",
    "        ind.insert(i, collection[i].tolist() + collection[i].tolist())     \n",
    "\n",
    "    # Promedio\n",
    "    avg = 0\n",
    "    # aplicar la consulta indexada (correr 10 veces y tomar el promedio)\n",
    "    for i in range(10):\n",
    "        start_time = time.time()\n",
    "        ind.nearest(query, num_results=k) # cambiar a k+1 porque se cuenta a si mismo\n",
    "        avg += time.time() - start_time\n",
    "\n",
    "    avg = avg/10\n",
    "    # Obtener los k vecinos más cercanos (k+1 para excluir el punto de consulta si está presente)\n",
    "    k_nearest = list(ind.nearest(query.tolist() + query.tolist(), num_results=k))\n",
    "    ind.close()\n",
    "    \n",
    "    neighbors = collection[k_nearest]\n",
    "\n",
    "    # Calcular distancias y ordenar\n",
    "    distances = []\n",
    "    for idx in k_nearest:\n",
    "        dist = np.linalg.norm(collection[idx] - query)\n",
    "        distances.append((dist, idx))\n",
    "            \n",
    "    distances.sort(key=lambda x: x[0])  # Ordenar por distancia\n",
    "    \n",
    "    # Extraer índices ordenados\n",
    "    sorted_indices = [idx for _, idx in distances]\n",
    "\n",
    "    print(f'La consulta tomó en promedio {avg} segundos')\n",
    "    #print(f'Los k={k} más cercanos a la consulta son:{neighbors_without_query}')\n",
    "    print(f'Las k:{k} canciones más cercanas a la consulta son (contar la query): {sorted_indices}')\n",
    "    #print(f'Las k:{k} canciones más cercanas a la consulta son (sin contar la query): {nearest_songs}')\n",
    "\n",
    "# Funciones para HighD\n",
    "def knn_faiss(data, query, k, num_trials=10):\n",
    "    total_time = 0  # Acumulador para el tiempo total\n",
    "    for _ in range(num_trials):\n",
    "        start_time = time.time()  # Inicio del temporizador\n",
    "        d = len(data[0])  # Dimensionality of the feature vectors\n",
    "        index = faiss.IndexFlatL2(d)  # L2 distance\n",
    "        index.add(np.array(data, dtype='float32'))  # Add data to the index\n",
    "        D, I = index.search(np.array([query], dtype='float32'), k)  # Perform the search k+1 para no contar la query\n",
    "        end_time = time.time()  # Fin del temporizador\n",
    "        total_time += end_time - start_time  # Acumular el tiempo de ejecución\n",
    "    average_time = total_time / num_trials  # Calcular el promedio\n",
    "    return I[0], D[0], average_time"
   ]
  },
  {
   "cell_type": "markdown",
   "metadata": {},
   "source": [
    "# Testbench 1k"
   ]
  },
  {
   "cell_type": "markdown",
   "metadata": {},
   "source": [
    "**Extracción de características**"
   ]
  },
  {
   "cell_type": "code",
   "execution_count": 10,
   "metadata": {},
   "outputs": [
    {
     "name": "stdout",
     "output_type": "stream",
     "text": [
      "Características guardadas en caracteristicas_1000.txt\n"
     ]
    }
   ],
   "source": [
    "features = extract_n_features(1000, 64, 8)\n",
    "\n",
    "# Guardar las características en un archivo CSV\n",
    "output_file = 'caracteristicas_1000.txt'\n",
    "with open(output_file, 'w') as f:\n",
    "    for audio_path, feature_vector in features.items():\n",
    "        feature_str = ','.join(map(str, feature_vector))\n",
    "        f.write(feature_str + '\\n')\n",
    "\n",
    "print(f'Características guardadas en {output_file}')\n",
    "\n",
    "# Variables para tests\n",
    "datatrain = pd.read_csv('caracteristicas_1000.txt', delimiter=',',header=None)\n",
    "k = 8\n",
    "ind_q = 5"
   ]
  },
  {
   "cell_type": "markdown",
   "metadata": {},
   "source": [
    "**Range KNN Priority queue**"
   ]
  },
  {
   "cell_type": "code",
   "execution_count": null,
   "metadata": {},
   "outputs": [
    {
     "name": "stdout",
     "output_type": "stream",
     "text": [
      "Resultado para k=8: [(5, 0.0), (785, 29.24923060155461), (979, 29.42602781609264), (640, 30.116354291957794), (762, 30.265184933752206), (542, 31.792580509416787), (107, 33.27158275278003), (73, 34.583221927244736)]\n",
      "Tiempo promedio: 5.341972351074219 segundos\n"
     ]
    }
   ],
   "source": [
    "query = datatrain.iloc[ind_q]\n",
    "#dataT = datatrain.drop([ind_q], axis=0, inplace=False)\n",
    "dataT = datatrain\n",
    "result = knnSearch(dataT.values, query, k)\n",
    "# Promedio de tiempo\n",
    "total_time = 0\n",
    "for _ in range(10):\n",
    "    start_time = time.time()\n",
    "    result = knnSearch(dataT.values, query, k)\n",
    "    end_time = time.time()\n",
    "    total_time += end_time - start_time\n",
    "average_time = total_time\n",
    "\n",
    "print(f'Resultado para k={k}: {result}')\n",
    "print(f'Tiempo promedio: {average_time} segundos') "
   ]
  },
  {
   "cell_type": "markdown",
   "metadata": {},
   "source": [
    "**Range KNN Radio**"
   ]
  },
  {
   "cell_type": "code",
   "execution_count": null,
   "metadata": {},
   "outputs": [
    {
     "name": "stdout",
     "output_type": "stream",
     "text": [
      "Resultado para radio=56.655035348566905: [5, 785, 979, 640, 762, 542, 107, 73, 761, 215, 206, 225, 312, 151, 211, 13, 169, 355, 51, 114, 219, 34, 679, 869, 190, 36, 843, 105, 80, 177, 48, 453, 12, 482, 186, 880, 438, 104, 300, 794, 115, 876, 166, 694, 62, 912, 209]\n",
      "Tiempo promedio: 0.30761802196502686 segundos\n",
      "Resultado para radio=71.59230317636263: [5, 785, 979, 640, 762, 542, 107, 73, 761, 215, 206, 225, 312, 151, 211, 13, 169, 355, 51, 114, 219, 34, 679, 869, 190, 36, 843, 105, 80, 177, 48, 453, 12, 482, 186, 880, 438, 104, 300, 794, 115, 876, 166, 694, 62, 912, 209, 152, 125, 15, 886, 349, 410, 85, 129, 529, 77, 158, 131, 599, 111, 747, 167, 656, 600, 573, 951, 119, 241, 75, 63, 911, 914, 815, 295, 145, 675, 958]\n",
      "Tiempo promedio: 0.28712096214294436 segundos\n",
      "Resultado para radio=85.68105238193611: [5, 785, 979, 640, 762, 542, 107, 73, 761, 215, 206, 225, 312, 151, 211, 13, 169, 355, 51, 114, 219, 34, 679, 869, 190, 36, 843, 105, 80, 177, 48, 453, 12, 482, 186, 880, 438, 104, 300, 794, 115, 876, 166, 694, 62, 912, 209, 152, 125, 15, 886, 349, 410, 85, 129, 529, 77, 158, 131, 599, 111, 747, 167, 656, 600, 573, 951, 119, 241, 75, 63, 911, 914, 815, 295, 145, 675, 958, 765, 212, 136, 909, 182, 33, 629, 126, 639, 872, 74, 868, 157, 418, 598, 773, 199, 175, 207, 69, 432, 41, 588, 106, 96, 298, 143, 276, 779, 64, 469, 501, 188, 903, 67, 89, 394, 949, 118, 746, 781, 685, 269, 726]\n",
      "Tiempo promedio: 0.27016782760620117 segundos\n"
     ]
    }
   ],
   "source": [
    "D = genDistancias(datatrain.values, 5000)\n",
    "\n",
    "# Calcular percentiles para elegir r1, r2, y r3\n",
    "percentiles = np.percentile(D, [10, 20, 30]) # tmb puede ser [25, 50, 75]\n",
    "r1, r2, r3 = percentiles[0], percentiles[1], percentiles[2]\n",
    "\n",
    "# calcular la busqueda por rango\n",
    "radios_obtenidos = [r1, r2, r3]\n",
    "\n",
    "for radio in radios_obtenidos:\n",
    "    query = datatrain.iloc[ind_q]\n",
    "    dataT = datatrain\n",
    "    # Promedio\n",
    "    total_time = 0\n",
    "    for _ in range(10):\n",
    "        start_time = time.time()\n",
    "        result = rangeSearch(dataT.values, query, radio, ind_q)\n",
    "        end_time = time.time()\n",
    "        total_time += end_time - start_time\n",
    "    average_time = total_time / 10\n",
    "\n",
    "    print(f'Resultado para radio={radio}: {result}')\n",
    "    print(f'Tiempo promedio: {average_time} segundos')"
   ]
  },
  {
   "cell_type": "markdown",
   "metadata": {},
   "source": [
    "**RTree KNN**"
   ]
  },
  {
   "cell_type": "code",
   "execution_count": null,
   "metadata": {},
   "outputs": [
    {
     "name": "stdout",
     "output_type": "stream",
     "text": [
      "La consulta tomó en promedio 0.0003629446029663086 segundos\n",
      "Las k:8 canciones más cercanas a la consulta son (contar la query): [5, 785, 979, 640, 762, 542, 107, 73]\n"
     ]
    }
   ],
   "source": [
    "D = len(datatrain.columns)  \n",
    "\n",
    "# Create a new RTree index\n",
    "prop = rtree.index.Property()\n",
    "prop.dimension = D    # dimension del vector caracteristico\n",
    "prop.buffering_capacity = 8    # Cantidad maxima de MBRs en un nodo \n",
    "ind = rtree.index.Index(properties = prop)\n",
    "\n",
    "#Generar los datos    \n",
    "data = datatrain.values\n",
    "query = data[ind_q]\n",
    "\n",
    "# insertar los puntos                \n",
    "for i in range(data.shape[0]):\n",
    "    ind.insert(i, data[i])    \n",
    "\n",
    "knn_rtree(data, query, k, 64)"
   ]
  },
  {
   "cell_type": "markdown",
   "metadata": {},
   "source": [
    "**HighD**"
   ]
  },
  {
   "cell_type": "code",
   "execution_count": null,
   "metadata": {},
   "outputs": [
    {
     "name": "stdout",
     "output_type": "stream",
     "text": [
      "Tiempo de ejecución promedio de knn_faiss: 0.0007256031036376953 segundos\n",
      "Los k=8 más cercanos a la consulta son:[  5 785 979 640 762 542 107  73]\n",
      "Las distancias a los k=8 vecinos más cercanos son:[   0.       855.5176   865.8911   906.99475  915.9813  1010.76825\n",
      " 1106.9984  1195.9993 ]\n"
     ]
    }
   ],
   "source": [
    "#Generar los datos    \n",
    "data = datatrain.values\n",
    "query = data[5]\n",
    "\n",
    "faiss_knn_results, faiss_knn_distances, average_time = knn_faiss(data, query, k=8)\n",
    "\n",
    "print(f\"Tiempo de ejecución promedio de knn_faiss: {average_time} segundos\")\n",
    "print(f'Los k={k} más cercanos a la consulta son:{faiss_knn_results}') # faiss_knn_results[1:]\n",
    "print(f'Las distancias a los k={k} vecinos más cercanos son:{faiss_knn_distances}') # faiss_knn_results[1:]"
   ]
  },
  {
   "cell_type": "markdown",
   "metadata": {},
   "source": [
    "# Testbench 2k"
   ]
  },
  {
   "cell_type": "markdown",
   "metadata": {},
   "source": [
    "**Extracción de características**"
   ]
  },
  {
   "cell_type": "code",
   "execution_count": null,
   "metadata": {},
   "outputs": [
    {
     "name": "stderr",
     "output_type": "stream",
     "text": [
      "[src/libmpg123/layer3.c:INT123_do_layer3():1841] error: dequantization failed!\n"
     ]
    },
    {
     "name": "stdout",
     "output_type": "stream",
     "text": [
      "Características guardadas en caracteristicas_2000.txt\n"
     ]
    }
   ],
   "source": [
    "features = extract_n_features(2000, 64, 8)\n",
    "\n",
    "# Guardar las características en un archivo CSV\n",
    "output_file = 'caracteristicas_2000.txt'\n",
    "with open(output_file, 'w') as f:\n",
    "    for audio_path, feature_vector in features.items():\n",
    "        feature_str = ','.join(map(str, feature_vector))\n",
    "        f.write(feature_str + '\\n')\n",
    "\n",
    "print(f'Características guardadas en {output_file}')\n",
    "\n",
    "# Variables para tests\n",
    "datatrain = pd.read_csv('caracteristicas_2000.txt', delimiter=',',header=None)\n",
    "k = 8\n",
    "ind_q = 5"
   ]
  },
  {
   "cell_type": "markdown",
   "metadata": {},
   "source": [
    "**Range KNN Priority queue**"
   ]
  },
  {
   "cell_type": "code",
   "execution_count": null,
   "metadata": {},
   "outputs": [
    {
     "name": "stdout",
     "output_type": "stream",
     "text": [
      "Resultado para k=8: [(5, 0.0), (785, 29.24923060155461), (979, 29.42602781609264), (640, 30.116354291957794), (762, 30.265184933752206), (542, 31.792580509416787), (107, 33.27158275278003), (73, 34.583221927244736)]\n",
      "Tiempo promedio: 5.0945885181427 segundos\n"
     ]
    }
   ],
   "source": [
    "query = datatrain.iloc[ind_q]\n",
    "#dataT = datatrain.drop([ind_q], axis=0, inplace=False)\n",
    "dataT = datatrain\n",
    "result = knnSearch(dataT.values, query, k)\n",
    "# Promedio de tiempo\n",
    "total_time = 0\n",
    "for _ in range(10):\n",
    "    start_time = time.time()\n",
    "    result = knnSearch(dataT.values, query, k)\n",
    "    end_time = time.time()\n",
    "    total_time += end_time - start_time\n",
    "average_time = total_time\n",
    "\n",
    "print(f'Resultado para k={k}: {result}')\n",
    "print(f'Tiempo promedio: {average_time} segundos') "
   ]
  },
  {
   "cell_type": "markdown",
   "metadata": {},
   "source": [
    "**Range KNN Radio**"
   ]
  },
  {
   "cell_type": "code",
   "execution_count": null,
   "metadata": {},
   "outputs": [
    {
     "name": "stdout",
     "output_type": "stream",
     "text": [
      "Resultado para radio=57.718130435274: [5, 785, 979, 640, 762, 542, 107, 73, 761, 215, 206, 225, 312, 151, 211, 13, 169, 355, 51, 114, 219, 34, 679, 869, 190, 36, 843, 105, 80, 177, 48, 453, 12, 482, 186, 880, 438, 104, 300, 794, 115, 876, 166, 694, 62, 912, 209, 152, 125, 15]\n",
      "Tiempo promedio: 0.2738438606262207 segundos\n",
      "Resultado para radio=72.19710202750538: [5, 785, 979, 640, 762, 542, 107, 73, 761, 215, 206, 225, 312, 151, 211, 13, 169, 355, 51, 114, 219, 34, 679, 869, 190, 36, 843, 105, 80, 177, 48, 453, 12, 482, 186, 880, 438, 104, 300, 794, 115, 876, 166, 694, 62, 912, 209, 152, 125, 15, 886, 349, 410, 85, 129, 529, 77, 158, 131, 599, 111, 747, 167, 656, 600, 573, 951, 119, 241, 75, 63, 911, 914, 815, 295, 145, 675, 958, 765, 212]\n",
      "Tiempo promedio: 0.31832988262176515 segundos\n",
      "Resultado para radio=86.60494440587891: [5, 785, 979, 640, 762, 542, 107, 73, 761, 215, 206, 225, 312, 151, 211, 13, 169, 355, 51, 114, 219, 34, 679, 869, 190, 36, 843, 105, 80, 177, 48, 453, 12, 482, 186, 880, 438, 104, 300, 794, 115, 876, 166, 694, 62, 912, 209, 152, 125, 15, 886, 349, 410, 85, 129, 529, 77, 158, 131, 599, 111, 747, 167, 656, 600, 573, 951, 119, 241, 75, 63, 911, 914, 815, 295, 145, 675, 958, 765, 212, 136, 909, 182, 33, 629, 126, 639, 872, 74, 868, 157, 418, 598, 773, 199, 175, 207, 69, 432, 41, 588, 106, 96, 298, 143, 276, 779, 64, 469, 501, 188, 903, 67, 89, 394, 949, 118, 746, 781, 685, 269, 726, 58]\n",
      "Tiempo promedio: 0.2773700475692749 segundos\n"
     ]
    }
   ],
   "source": [
    "D = genDistancias(datatrain.values, 8000)\n",
    "\n",
    "# Calcular percentiles para elegir r1, r2, y r3\n",
    "percentiles = np.percentile(D, [10, 20, 30]) # tmb puede ser [25, 50, 75]\n",
    "r1, r2, r3 = percentiles[0], percentiles[1], percentiles[2]\n",
    "\n",
    "# calcular la busqueda por rango\n",
    "radios_obtenidos = [r1, r2, r3]\n",
    "\n",
    "for radio in radios_obtenidos:\n",
    "    query = datatrain.iloc[ind_q]\n",
    "    dataT = datatrain\n",
    "    # Promedio\n",
    "    total_time = 0\n",
    "    for _ in range(10):\n",
    "        start_time = time.time()\n",
    "        result = rangeSearch(dataT.values, query, radio, ind_q)\n",
    "        end_time = time.time()\n",
    "        total_time += end_time - start_time\n",
    "    average_time = total_time / 10\n",
    "\n",
    "    print(f'Resultado para radio={radio}: {result}')\n",
    "    print(f'Tiempo promedio: {average_time} segundos')"
   ]
  },
  {
   "cell_type": "markdown",
   "metadata": {},
   "source": [
    "**RTree KNN**"
   ]
  },
  {
   "cell_type": "code",
   "execution_count": null,
   "metadata": {},
   "outputs": [
    {
     "name": "stdout",
     "output_type": "stream",
     "text": [
      "La consulta tomó en promedio 0.000470733642578125 segundos\n",
      "Las k:8 canciones más cercanas a la consulta son (contar la query): [5, 785, 979, 640, 762, 542, 107, 73]\n"
     ]
    }
   ],
   "source": [
    "D = len(datatrain.columns)  \n",
    "\n",
    "# Create a new RTree index\n",
    "prop = rtree.index.Property()\n",
    "prop.dimension = D    # dimension del vector caracteristico\n",
    "prop.buffering_capacity = 8    # Cantidad maxima de MBRs en un nodo \n",
    "ind = rtree.index.Index(properties = prop)\n",
    "\n",
    "#Generar los datos    \n",
    "data = datatrain.values\n",
    "query = data[ind_q]\n",
    "\n",
    "# insertar los puntos                \n",
    "for i in range(data.shape[0]):\n",
    "    ind.insert(i, data[i])    \n",
    "\n",
    "knn_rtree(data, query, k, 64)"
   ]
  },
  {
   "cell_type": "markdown",
   "metadata": {},
   "source": [
    "**HighD**"
   ]
  },
  {
   "cell_type": "code",
   "execution_count": null,
   "metadata": {},
   "outputs": [
    {
     "name": "stdout",
     "output_type": "stream",
     "text": [
      "Tiempo de ejecución promedio de knn_faiss: 0.0007380008697509766 segundos\n",
      "Los k=8 más cercanos a la consulta son:[  5 785 979 640 762 542 107  73]\n",
      "Las distancias a los k=8 vecinos más cercanos son:[   0.       855.5176   865.8911   906.99475  915.9813  1010.76825\n",
      " 1106.9984  1195.9993 ]\n"
     ]
    }
   ],
   "source": [
    "#Generar los datos    \n",
    "data = datatrain.values\n",
    "query = data[5]\n",
    "\n",
    "faiss_knn_results, faiss_knn_distances, average_time = knn_faiss(data, query, k=8)\n",
    "\n",
    "print(f\"Tiempo de ejecución promedio de knn_faiss: {average_time} segundos\")\n",
    "print(f'Los k={k} más cercanos a la consulta son:{faiss_knn_results}') # faiss_knn_results[1:]\n",
    "print(f'Las distancias a los k={k} vecinos más cercanos son:{faiss_knn_distances}') # faiss_knn_results[1:]"
   ]
  },
  {
   "cell_type": "markdown",
   "metadata": {},
   "source": [
    "# Testbench 4k"
   ]
  },
  {
   "cell_type": "markdown",
   "metadata": {},
   "source": [
    "**Extracción de características**"
   ]
  },
  {
   "cell_type": "code",
   "execution_count": null,
   "metadata": {},
   "outputs": [
    {
     "name": "stderr",
     "output_type": "stream",
     "text": [
      "[src/libmpg123/layer3.c:INT123_do_layer3():1841] error: dequantization failed!\n",
      "[src/libmpg123/layer3.c:INT123_do_layer3():1771] error: part2_3_length (3264) too large for available bit count (3224)\n",
      "[src/libmpg123/layer3.c:INT123_do_layer3():1801] error: dequantization failed!\n"
     ]
    },
    {
     "name": "stdout",
     "output_type": "stream",
     "text": [
      "Características guardadas en caracteristicas_4000.txt\n"
     ]
    }
   ],
   "source": [
    "features = extract_n_features(4000, 64, 8)\n",
    "\n",
    "# Guardar las características en un archivo CSV\n",
    "output_file = 'caracteristicas_4000.txt'\n",
    "with open(output_file, 'w') as f:\n",
    "    for audio_path, feature_vector in features.items():\n",
    "        feature_str = ','.join(map(str, feature_vector))\n",
    "        f.write(feature_str + '\\n')\n",
    "\n",
    "print(f'Características guardadas en {output_file}')\n",
    "\n",
    "# Variables para tests\n",
    "datatrain = pd.read_csv('caracteristicas_4000.txt', delimiter=',',header=None)\n",
    "k = 8\n",
    "ind_q = 5"
   ]
  },
  {
   "cell_type": "markdown",
   "metadata": {},
   "source": [
    "**Range KNN Priority queue**"
   ]
  },
  {
   "cell_type": "code",
   "execution_count": null,
   "metadata": {},
   "outputs": [
    {
     "name": "stdout",
     "output_type": "stream",
     "text": [
      "Resultado para k=8: [(5, 0.0), (31, 21.27868951349949), (9, 26.562299151551848), (200, 34.62912923822806), (2993, 36.522520758226264), (631, 46.58289851191702), (2873, 47.80771715933784), (3059, 47.908723321964956)]\n",
      "Tiempo promedio: 12.864285469055176 segundos\n"
     ]
    }
   ],
   "source": [
    "query = datatrain.iloc[ind_q]\n",
    "#dataT = datatrain.drop([ind_q], axis=0, inplace=False)\n",
    "dataT = datatrain\n",
    "result = knnSearch(dataT.values, query, k)\n",
    "# Promedio de tiempo\n",
    "total_time = 0\n",
    "for _ in range(10):\n",
    "    start_time = time.time()\n",
    "    result = knnSearch(dataT.values, query, k)\n",
    "    end_time = time.time()\n",
    "    total_time += end_time - start_time\n",
    "average_time = total_time\n",
    "\n",
    "print(f'Resultado para k={k}: {result}')\n",
    "print(f'Tiempo promedio: {average_time} segundos') "
   ]
  },
  {
   "cell_type": "markdown",
   "metadata": {},
   "source": [
    "**Range KNN Radio**"
   ]
  },
  {
   "cell_type": "code",
   "execution_count": null,
   "metadata": {},
   "outputs": [
    {
     "name": "stdout",
     "output_type": "stream",
     "text": [
      "Resultado para radio=62.631407362456756: [5, 31, 9, 200, 2993, 631, 2873, 3059, 2277, 2707, 3681, 1274, 2036, 2180, 719, 1661, 43, 2621, 1307, 22, 2194, 1430, 3652, 3637, 174, 1023, 238, 3395, 145, 162, 128, 587, 1673, 3440, 1406, 1323, 2848, 658, 1114, 1766, 2487, 1967, 372, 1250, 3193, 2023, 3197, 3150, 3123, 3054, 3137, 119, 2365, 68, 3625, 1630, 2254, 2549, 3755, 3626, 2840, 1741, 393, 14, 1066, 1791]\n",
      "Tiempo promedio: 0.6736599922180175 segundos\n",
      "Resultado para radio=79.35393718762391: [5, 31, 9, 200, 2993, 631, 2873, 3059, 2277, 2707, 3681, 1274, 2036, 2180, 719, 1661, 43, 2621, 1307, 22, 2194, 1430, 3652, 3637, 174, 1023, 238, 3395, 145, 162, 128, 587, 1673, 3440, 1406, 1323, 2848, 658, 1114, 1766, 2487, 1967, 372, 1250, 3193, 2023, 3197, 3150, 3123, 3054, 3137, 119, 2365, 68, 3625, 1630, 2254, 2549, 3755, 3626, 2840, 1741, 393, 14, 1066, 1791, 2287, 478, 3276, 3678, 2702, 1105, 1382, 3222, 1537, 2540, 827, 3363, 159, 2567, 3697, 523, 2109, 3664, 212, 1301, 3501, 310, 1446, 1059, 3479, 3250, 2347, 1409, 2943, 3790, 187, 1115, 202, 1228, 1480, 2466, 3410, 3133, 3498, 2182, 3841, 37, 3116, 1554, 1937, 2748, 2553, 1876, 1222, 1951, 185, 882, 2864, 2177, 3856, 3575, 1110, 490, 2371, 3603, 3512, 2628, 2111, 1832, 726, 2229, 3706, 1499, 2609, 1294, 89, 142, 3443, 1170, 2518, 2253, 703, 2421, 1892, 1142, 3618, 88, 2225, 2435, 3798, 1063, 3676, 776, 1490, 1758, 2171, 2614, 1854, 1945, 3814, 1440, 3483, 1932, 737, 333, 1677, 3146, 2594, 1468, 901, 3741, 1154, 3484, 2298, 3523, 2867, 65, 58, 860, 2299, 3595, 2816, 1458, 3524, 1197, 2333, 1958, 1492, 1626, 767, 3162, 42, 1217, 2547, 2412, 18, 2401, 2381, 628, 2251, 144, 385, 2198, 1451, 3705, 1392, 1263, 465, 2315, 3335, 948, 486, 958, 3607, 2073, 1899, 3797, 3685, 1385, 502, 3624, 3341, 1239, 137, 299, 3588, 3571, 2319, 1120, 2783, 2868, 3660, 1518, 2050, 3855, 3441, 2325, 188, 3023, 2238, 1354, 2403, 1256, 3596, 749, 2200, 1261, 1053, 809, 11, 2422, 1122, 3325, 1450, 3564, 3724, 3582, 81, 1305, 2695, 584, 3476, 1207, 1545, 1877, 1229, 3721, 2721, 2393, 654, 2346, 2283, 2562, 1507, 3732, 1571, 3510, 2302, 2638, 1917, 2688, 746, 3960, 969, 1928, 1300, 1716, 3616, 2820, 1104, 2806, 154, 3693, 2710, 2494, 381, 3825, 517, 2207, 3393, 2274, 147, 2763, 556, 3419, 1126, 2366, 280, 696, 1158, 3985, 277, 3508, 2314, 1736, 3389, 599, 1389, 2632, 2278, 1510, 1472, 534, 1457, 3898, 1801, 2204, 3489, 66, 3594, 380, 63, 2320, 2329, 1363, 3408, 1823, 1474, 3049, 1903, 1756, 1255, 1560, 2823, 1688, 1226, 1601, 1842, 871, 687, 2077, 1402, 2197, 3009, 3168, 3377, 2789, 2332, 3813, 2130, 2802, 110, 796, 774, 3322, 2836, 2928, 475, 1348, 1072, 1194, 2011, 2410, 3977, 1488, 2712, 2997, 592, 3602, 3783, 1412, 1159, 3463, 1590, 1408, 3629, 884, 2399, 3701, 2715, 48, 1076, 2156, 3848, 3756, 2898, 2982, 321, 56, 3485, 1597, 1834, 3833, 1473, 2854, 2607, 79, 964, 1099, 3446, 318, 3311, 3731, 1621, 2768, 2175, 987]\n",
      "Tiempo promedio: 0.6875606536865234 segundos\n",
      "Resultado para radio=95.01689467881616: [5, 31, 9, 200, 2993, 631, 2873, 3059, 2277, 2707, 3681, 1274, 2036, 2180, 719, 1661, 43, 2621, 1307, 22, 2194, 1430, 3652, 3637, 174, 1023, 238, 3395, 145, 162, 128, 587, 1673, 3440, 1406, 1323, 2848, 658, 1114, 1766, 2487, 1967, 372, 1250, 3193, 2023, 3197, 3150, 3123, 3054, 3137, 119, 2365, 68, 3625, 1630, 2254, 2549, 3755, 3626, 2840, 1741, 393, 14, 1066, 1791, 2287, 478, 3276, 3678, 2702, 1105, 1382, 3222, 1537, 2540, 827, 3363, 159, 2567, 3697, 523, 2109, 3664, 212, 1301, 3501, 310, 1446, 1059, 3479, 3250, 2347, 1409, 2943, 3790, 187, 1115, 202, 1228, 1480, 2466, 3410, 3133, 3498, 2182, 3841, 37, 3116, 1554, 1937, 2748, 2553, 1876, 1222, 1951, 185, 882, 2864, 2177, 3856, 3575, 1110, 490, 2371, 3603, 3512, 2628, 2111, 1832, 726, 2229, 3706, 1499, 2609, 1294, 89, 142, 3443, 1170, 2518, 2253, 703, 2421, 1892, 1142, 3618, 88, 2225, 2435, 3798, 1063, 3676, 776, 1490, 1758, 2171, 2614, 1854, 1945, 3814, 1440, 3483, 1932, 737, 333, 1677, 3146, 2594, 1468, 901, 3741, 1154, 3484, 2298, 3523, 2867, 65, 58, 860, 2299, 3595, 2816, 1458, 3524, 1197, 2333, 1958, 1492, 1626, 767, 3162, 42, 1217, 2547, 2412, 18, 2401, 2381, 628, 2251, 144, 385, 2198, 1451, 3705, 1392, 1263, 465, 2315, 3335, 948, 486, 958, 3607, 2073, 1899, 3797, 3685, 1385, 502, 3624, 3341, 1239, 137, 299, 3588, 3571, 2319, 1120, 2783, 2868, 3660, 1518, 2050, 3855, 3441, 2325, 188, 3023, 2238, 1354, 2403, 1256, 3596, 749, 2200, 1261, 1053, 809, 11, 2422, 1122, 3325, 1450, 3564, 3724, 3582, 81, 1305, 2695, 584, 3476, 1207, 1545, 1877, 1229, 3721, 2721, 2393, 654, 2346, 2283, 2562, 1507, 3732, 1571, 3510, 2302, 2638, 1917, 2688, 746, 3960, 969, 1928, 1300, 1716, 3616, 2820, 1104, 2806, 154, 3693, 2710, 2494, 381, 3825, 517, 2207, 3393, 2274, 147, 2763, 556, 3419, 1126, 2366, 280, 696, 1158, 3985, 277, 3508, 2314, 1736, 3389, 599, 1389, 2632, 2278, 1510, 1472, 534, 1457, 3898, 1801, 2204, 3489, 66, 3594, 380, 63, 2320, 2329, 1363, 3408, 1823, 1474, 3049, 1903, 1756, 1255, 1560, 2823, 1688, 1226, 1601, 1842, 871, 687, 2077, 1402, 2197, 3009, 3168, 3377, 2789, 2332, 3813, 2130, 2802, 110, 796, 774, 3322, 2836, 2928, 475, 1348, 1072, 1194, 2011, 2410, 3977, 1488, 2712, 2997, 592, 3602, 3783, 1412, 1159, 3463, 1590, 1408, 3629, 884, 2399, 3701, 2715, 48, 1076, 2156, 3848, 3756, 2898, 2982, 321, 56, 3485, 1597, 1834, 3833, 1473, 2854, 2607, 79, 964, 1099, 3446, 318, 3311, 3731, 1621, 2768, 2175, 987, 2170, 3080, 121, 2701, 470, 129, 3500, 3012, 2189, 1711, 1889, 456, 2729, 2295, 1205, 2384, 3752, 363, 2891, 3545, 1666, 3919, 2025, 1738, 2691, 2987, 1840, 3469, 457, 2341, 1846, 1295, 2629, 1257, 484, 2343, 3432, 2896, 2831, 816, 266, 36, 3711, 2038, 3718, 165, 1475, 1266, 2027, 3039, 2406, 3613, 2736, 1403, 3688, 1803, 3520, 647, 2184, 2350, 1838, 3248, 2300, 914, 3897, 1755, 158, 67, 217, 3433, 3795, 1423, 1262, 3178, 2968, 3846, 600, 1521, 2005, 3939, 620, 1649, 2118, 1415, 573, 3382, 395, 2201, 1075, 2871, 3392, 2981, 231, 3040, 2759, 2248, 100, 1656, 2910, 881, 1128, 2427, 2353, 133, 1843, 1448, 3118, 2577, 1693, 3480, 2208, 1181, 1718, 417, 77, 1203, 1303, 1821, 1178, 143, 348, 3608, 2380, 754, 742, 3560, 1439, 2028, 454, 2705, 243, 3460, 1650, 3442, 2192, 3753, 1900, 2264, 1101, 139, 1672, 3556, 2245, 2903, 1291, 2169, 3868, 105, 1034, 2113, 2908, 1850, 3018, 113, 3653, 3824, 3005, 664, 2856, 648, 2065, 2231, 2083, 301, 1443, 929, 1858, 2846, 3592, 521, 829, 3169, 2224, 617, 3181, 3372, 3770, 3654, 957, 2084, 1429, 1555, 278, 1321, 3194, 1603, 3605, 1686, 3385, 2190, 2088, 1564, 1536, 1420, 1293, 821, 1847, 3230, 2956, 653, 1000, 2213, 1370, 3667, 1604, 52, 2804, 3213, 2288, 1647, 823, 2505, 2203, 2449, 3643, 164, 1042, 1378, 483, 3321, 3883, 1141, 886, 2862, 192, 1108, 186, 561, 1962, 1714, 1872, 2771, 3642, 3373, 529, 442, 1172, 2087, 3481, 305, 2167, 2870, 120, 2523, 3573, 306, 2948, 2832, 3640, 2368, 3830, 672, 1078, 2741, 324, 2286, 1210, 976, 38, 2294, 2126, 1496, 1627, 781, 352, 2000, 3649, 1253, 1531, 91, 1008, 3589, 2097, 1051, 156, 1657, 1778, 1107, 1111, 551, 330, 3090, 577, 2855, 122, 419, 1520, 1593, 2149, 1638, 389, 2125, 741, 3052, 538, 1432, 1509, 1905, 3462, 242, 329, 2730, 3612, 2808, 460, 2564, 2852, 246, 3761, 1221, 3331, 1592, 3966, 2265, 3671, 2334, 3521, 2797, 13, 1236, 123, 1580, 3787, 1653, 3673, 3356, 1642, 1535, 2339, 2829, 1513, 2338, 2160, 1483, 2827, 3494, 2026, 3282, 3477, 1986, 2323, 1515, 208, 2717, 3796, 420, 2058, 641, 905, 2199, 1836, 2066, 3604, 3073, 1611, 2520, 522, 1413, 589, 3286, 3696, 211, 525, 1743, 1326, 3103, 1798, 1147, 3658, 2744, 1952, 3507, 3812, 189, 3617, 2276, 797, 495, 541, 1214, 2205, 1646, 2124, 1534, 3665, 2310, 73, 3475, 3553, 3468, 1070, 3263, 1671, 637, 3257, 2495, 3218, 106, 2352, 3033, 1185, 2331, 2439, 2336, 1355, 1648, 3236, 2735, 1140, 3788, 2220, 228, 1620, 1314, 1628, 1394, 2400, 3859, 1196, 1824, 3399, 3725, 27, 2545, 300, 2388, 1759, 2164, 3504, 3516, 244, 3845, 1984, 3505, 2222, 1177, 1227, 163, 375, 3568, 2589, 2202, 3730, 3690, 1031, 462, 15, 2641, 1288, 55, 1252, 698, 876, 1764, 3262, 2308, 2392, 1861, 2411, 1091, 909, 3751, 102, 2240, 988, 1290, 1171, 3548, 2992, 946, 1089, 1477, 3869, 1497, 2121, 1036, 1725, 2749, 1828, 1487, 140, 3081, 75, 1175, 2212, 3332, 2075, 3851, 447, 3119, 3227, 1027, 1489, 530, 213, 3083, 1153, 410, 870, 1546, 2147, 1712, 973, 82, 3010, 1014, 1829, 226, 3785, 1118, 1761, 738, 3675, 297, 3779, 3015, 668, 1357, 2800, 2859, 2033, 1469, 3161, 1960, 501, 1046, 1206, 3609, 1043, 1779, 1145, 1044, 1808, 453, 2697, 2112, 3981, 269, 94, 752, 770, 1167, 3804, 1201, 3541, 181, 2337, 166, 3749, 386, 1162, 21, 1136, 537, 619, 1032, 1849, 2235]\n",
      "Tiempo promedio: 0.698630428314209 segundos\n"
     ]
    }
   ],
   "source": [
    "D = genDistancias(datatrain.values, 12000)\n",
    "\n",
    "# Calcular percentiles para elegir r1, r2, y r3\n",
    "percentiles = np.percentile(D, [10, 20, 30]) # tmb puede ser [25, 50, 75]\n",
    "r1, r2, r3 = percentiles[0], percentiles[1], percentiles[2]\n",
    "\n",
    "# calcular la busqueda por rango\n",
    "radios_obtenidos = [r1, r2, r3]\n",
    "\n",
    "for radio in radios_obtenidos:\n",
    "    query = datatrain.iloc[ind_q]\n",
    "    dataT = datatrain\n",
    "    # Promedio\n",
    "    total_time = 0\n",
    "    for _ in range(10):\n",
    "        start_time = time.time()\n",
    "        result = rangeSearch(dataT.values, query, radio, ind_q)\n",
    "        end_time = time.time()\n",
    "        total_time += end_time - start_time\n",
    "    average_time = total_time / 10\n",
    "\n",
    "    print(f'Resultado para radio={radio}: {result}')\n",
    "    print(f'Tiempo promedio: {average_time} segundos')"
   ]
  },
  {
   "cell_type": "markdown",
   "metadata": {},
   "source": [
    "**RTree KNN**"
   ]
  },
  {
   "cell_type": "code",
   "execution_count": null,
   "metadata": {},
   "outputs": [
    {
     "name": "stdout",
     "output_type": "stream",
     "text": [
      "La consulta tomó en promedio 0.002820467948913574 segundos\n",
      "Las k:8 canciones más cercanas a la consulta son (contar la query): [5, 31, 9, 200, 2993, 631, 2873, 3059]\n"
     ]
    }
   ],
   "source": [
    "D = len(datatrain.columns)  \n",
    "\n",
    "# Create a new RTree index\n",
    "prop = rtree.index.Property()\n",
    "prop.dimension = D    # dimension del vector caracteristico\n",
    "prop.buffering_capacity = 8    # Cantidad maxima de MBRs en un nodo \n",
    "ind = rtree.index.Index(properties = prop)\n",
    "\n",
    "#Generar los datos    \n",
    "data = datatrain.values\n",
    "query = data[ind_q]\n",
    "\n",
    "# insertar los puntos                \n",
    "for i in range(data.shape[0]):\n",
    "    ind.insert(i, data[i])    \n",
    "\n",
    "knn_rtree(data, query, k, 64)"
   ]
  },
  {
   "cell_type": "markdown",
   "metadata": {},
   "source": [
    "**HighD**"
   ]
  },
  {
   "cell_type": "code",
   "execution_count": null,
   "metadata": {},
   "outputs": [
    {
     "name": "stdout",
     "output_type": "stream",
     "text": [
      "Tiempo de ejecución promedio de knn_faiss: 0.0010390996932983399 segundos\n",
      "Los k=8 más cercanos a la consulta son:[   5   31    9  200 2993  631 2873 3059]\n",
      "Las distancias a los k=8 vecinos más cercanos son:[   0.       452.78265  705.5557  1199.1769  1333.8945  2169.966\n",
      " 2285.578   2295.246  ]\n"
     ]
    }
   ],
   "source": [
    "#Generar los datos    \n",
    "data = datatrain.values\n",
    "query = data[5]\n",
    "\n",
    "faiss_knn_results, faiss_knn_distances, average_time = knn_faiss(data, query, k=8)\n",
    "\n",
    "print(f\"Tiempo de ejecución promedio de knn_faiss: {average_time} segundos\")\n",
    "print(f'Los k={k} más cercanos a la consulta son:{faiss_knn_results}') # faiss_knn_results[1:]\n",
    "print(f'Las distancias a los k={k} vecinos más cercanos son:{faiss_knn_distances}') # faiss_knn_results[1:]"
   ]
  },
  {
   "cell_type": "markdown",
   "metadata": {},
   "source": [
    "# Testbench 8k"
   ]
  },
  {
   "cell_type": "markdown",
   "metadata": {},
   "source": [
    "**Extracción de características**"
   ]
  },
  {
   "cell_type": "code",
   "execution_count": null,
   "metadata": {},
   "outputs": [
    {
     "name": "stderr",
     "output_type": "stream",
     "text": [
      "[src/libmpg123/layer3.c:INT123_do_layer3():1841] error: dequantization failed!\n"
     ]
    },
    {
     "ename": "KeyboardInterrupt",
     "evalue": "",
     "output_type": "error",
     "traceback": [
      "\u001b[0;31m---------------------------------------------------------------------------\u001b[0m",
      "\u001b[0;31mKeyboardInterrupt\u001b[0m                         Traceback (most recent call last)",
      "Cell \u001b[0;32mIn[30], line 34\u001b[0m, in \u001b[0;36mextract_n_features\u001b[0;34m(n, dimensions, threads)\u001b[0m\n\u001b[1;32m     33\u001b[0m future_to_data \u001b[38;5;241m=\u001b[39m {executor\u001b[38;5;241m.\u001b[39msubmit(features_extraction, item, dimensions): item \u001b[38;5;28;01mfor\u001b[39;00m item \u001b[38;5;129;01min\u001b[39;00m audios }\n\u001b[0;32m---> 34\u001b[0m \u001b[38;5;28;01mfor\u001b[39;00m future \u001b[38;5;129;01min\u001b[39;00m concurrent\u001b[38;5;241m.\u001b[39mfutures\u001b[38;5;241m.\u001b[39mas_completed(future_to_data):\n\u001b[1;32m     35\u001b[0m     data_item \u001b[38;5;241m=\u001b[39m future_to_data[future]\n",
      "File \u001b[0;32m/usr/lib/python3.10/concurrent/futures/_base.py:245\u001b[0m, in \u001b[0;36mas_completed\u001b[0;34m(fs, timeout)\u001b[0m\n\u001b[1;32m    241\u001b[0m         \u001b[38;5;28;01mraise\u001b[39;00m \u001b[38;5;167;01mTimeoutError\u001b[39;00m(\n\u001b[1;32m    242\u001b[0m                 \u001b[38;5;124m'\u001b[39m\u001b[38;5;132;01m%d\u001b[39;00m\u001b[38;5;124m (of \u001b[39m\u001b[38;5;132;01m%d\u001b[39;00m\u001b[38;5;124m) futures unfinished\u001b[39m\u001b[38;5;124m'\u001b[39m \u001b[38;5;241m%\u001b[39m (\n\u001b[1;32m    243\u001b[0m                 \u001b[38;5;28mlen\u001b[39m(pending), total_futures))\n\u001b[0;32m--> 245\u001b[0m \u001b[43mwaiter\u001b[49m\u001b[38;5;241;43m.\u001b[39;49m\u001b[43mevent\u001b[49m\u001b[38;5;241;43m.\u001b[39;49m\u001b[43mwait\u001b[49m\u001b[43m(\u001b[49m\u001b[43mwait_timeout\u001b[49m\u001b[43m)\u001b[49m\n\u001b[1;32m    247\u001b[0m \u001b[38;5;28;01mwith\u001b[39;00m waiter\u001b[38;5;241m.\u001b[39mlock:\n",
      "File \u001b[0;32m/usr/lib/python3.10/threading.py:607\u001b[0m, in \u001b[0;36mEvent.wait\u001b[0;34m(self, timeout)\u001b[0m\n\u001b[1;32m    606\u001b[0m \u001b[38;5;28;01mif\u001b[39;00m \u001b[38;5;129;01mnot\u001b[39;00m signaled:\n\u001b[0;32m--> 607\u001b[0m     signaled \u001b[38;5;241m=\u001b[39m \u001b[38;5;28;43mself\u001b[39;49m\u001b[38;5;241;43m.\u001b[39;49m\u001b[43m_cond\u001b[49m\u001b[38;5;241;43m.\u001b[39;49m\u001b[43mwait\u001b[49m\u001b[43m(\u001b[49m\u001b[43mtimeout\u001b[49m\u001b[43m)\u001b[49m\n\u001b[1;32m    608\u001b[0m \u001b[38;5;28;01mreturn\u001b[39;00m signaled\n",
      "File \u001b[0;32m/usr/lib/python3.10/threading.py:320\u001b[0m, in \u001b[0;36mCondition.wait\u001b[0;34m(self, timeout)\u001b[0m\n\u001b[1;32m    319\u001b[0m \u001b[38;5;28;01mif\u001b[39;00m timeout \u001b[38;5;129;01mis\u001b[39;00m \u001b[38;5;28;01mNone\u001b[39;00m:\n\u001b[0;32m--> 320\u001b[0m     \u001b[43mwaiter\u001b[49m\u001b[38;5;241;43m.\u001b[39;49m\u001b[43macquire\u001b[49m\u001b[43m(\u001b[49m\u001b[43m)\u001b[49m\n\u001b[1;32m    321\u001b[0m     gotit \u001b[38;5;241m=\u001b[39m \u001b[38;5;28;01mTrue\u001b[39;00m\n",
      "\u001b[0;31mKeyboardInterrupt\u001b[0m: ",
      "\nDuring handling of the above exception, another exception occurred:\n",
      "\u001b[0;31mKeyboardInterrupt\u001b[0m                         Traceback (most recent call last)",
      "Cell \u001b[0;32mIn[42], line 1\u001b[0m\n\u001b[0;32m----> 1\u001b[0m features \u001b[38;5;241m=\u001b[39m \u001b[43mextract_n_features\u001b[49m\u001b[43m(\u001b[49m\u001b[38;5;241;43m8000\u001b[39;49m\u001b[43m,\u001b[49m\u001b[43m \u001b[49m\u001b[38;5;241;43m64\u001b[39;49m\u001b[43m,\u001b[49m\u001b[43m \u001b[49m\u001b[38;5;241;43m8\u001b[39;49m\u001b[43m)\u001b[49m\n\u001b[1;32m      3\u001b[0m \u001b[38;5;66;03m# Guardar las características en un archivo CSV\u001b[39;00m\n\u001b[1;32m      4\u001b[0m output_file \u001b[38;5;241m=\u001b[39m \u001b[38;5;124m'\u001b[39m\u001b[38;5;124mcaracteristicas_8000.txt\u001b[39m\u001b[38;5;124m'\u001b[39m\n",
      "Cell \u001b[0;32mIn[30], line 32\u001b[0m, in \u001b[0;36mextract_n_features\u001b[0;34m(n, dimensions, threads)\u001b[0m\n\u001b[1;32m     29\u001b[0m features \u001b[38;5;241m=\u001b[39m []\n\u001b[1;32m     30\u001b[0m results \u001b[38;5;241m=\u001b[39m {}\n\u001b[0;32m---> 32\u001b[0m \u001b[38;5;28;01mwith\u001b[39;00m concurrent\u001b[38;5;241m.\u001b[39mfutures\u001b[38;5;241m.\u001b[39mThreadPoolExecutor(max_workers\u001b[38;5;241m=\u001b[39mthreads) \u001b[38;5;28;01mas\u001b[39;00m executor:\n\u001b[1;32m     33\u001b[0m     future_to_data \u001b[38;5;241m=\u001b[39m {executor\u001b[38;5;241m.\u001b[39msubmit(features_extraction, item, dimensions): item \u001b[38;5;28;01mfor\u001b[39;00m item \u001b[38;5;129;01min\u001b[39;00m audios }\n\u001b[1;32m     34\u001b[0m     \u001b[38;5;28;01mfor\u001b[39;00m future \u001b[38;5;129;01min\u001b[39;00m concurrent\u001b[38;5;241m.\u001b[39mfutures\u001b[38;5;241m.\u001b[39mas_completed(future_to_data):\n",
      "File \u001b[0;32m/usr/lib/python3.10/concurrent/futures/_base.py:649\u001b[0m, in \u001b[0;36mExecutor.__exit__\u001b[0;34m(self, exc_type, exc_val, exc_tb)\u001b[0m\n\u001b[1;32m    648\u001b[0m \u001b[38;5;28;01mdef\u001b[39;00m \u001b[38;5;21m__exit__\u001b[39m(\u001b[38;5;28mself\u001b[39m, exc_type, exc_val, exc_tb):\n\u001b[0;32m--> 649\u001b[0m     \u001b[38;5;28;43mself\u001b[39;49m\u001b[38;5;241;43m.\u001b[39;49m\u001b[43mshutdown\u001b[49m\u001b[43m(\u001b[49m\u001b[43mwait\u001b[49m\u001b[38;5;241;43m=\u001b[39;49m\u001b[38;5;28;43;01mTrue\u001b[39;49;00m\u001b[43m)\u001b[49m\n\u001b[1;32m    650\u001b[0m     \u001b[38;5;28;01mreturn\u001b[39;00m \u001b[38;5;28;01mFalse\u001b[39;00m\n",
      "File \u001b[0;32m/usr/lib/python3.10/concurrent/futures/thread.py:235\u001b[0m, in \u001b[0;36mThreadPoolExecutor.shutdown\u001b[0;34m(self, wait, cancel_futures)\u001b[0m\n\u001b[1;32m    233\u001b[0m \u001b[38;5;28;01mif\u001b[39;00m wait:\n\u001b[1;32m    234\u001b[0m     \u001b[38;5;28;01mfor\u001b[39;00m t \u001b[38;5;129;01min\u001b[39;00m \u001b[38;5;28mself\u001b[39m\u001b[38;5;241m.\u001b[39m_threads:\n\u001b[0;32m--> 235\u001b[0m         \u001b[43mt\u001b[49m\u001b[38;5;241;43m.\u001b[39;49m\u001b[43mjoin\u001b[49m\u001b[43m(\u001b[49m\u001b[43m)\u001b[49m\n",
      "File \u001b[0;32m/usr/lib/python3.10/threading.py:1096\u001b[0m, in \u001b[0;36mThread.join\u001b[0;34m(self, timeout)\u001b[0m\n\u001b[1;32m   1093\u001b[0m     \u001b[38;5;28;01mraise\u001b[39;00m \u001b[38;5;167;01mRuntimeError\u001b[39;00m(\u001b[38;5;124m\"\u001b[39m\u001b[38;5;124mcannot join current thread\u001b[39m\u001b[38;5;124m\"\u001b[39m)\n\u001b[1;32m   1095\u001b[0m \u001b[38;5;28;01mif\u001b[39;00m timeout \u001b[38;5;129;01mis\u001b[39;00m \u001b[38;5;28;01mNone\u001b[39;00m:\n\u001b[0;32m-> 1096\u001b[0m     \u001b[38;5;28;43mself\u001b[39;49m\u001b[38;5;241;43m.\u001b[39;49m\u001b[43m_wait_for_tstate_lock\u001b[49m\u001b[43m(\u001b[49m\u001b[43m)\u001b[49m\n\u001b[1;32m   1097\u001b[0m \u001b[38;5;28;01melse\u001b[39;00m:\n\u001b[1;32m   1098\u001b[0m     \u001b[38;5;66;03m# the behavior of a negative timeout isn't documented, but\u001b[39;00m\n\u001b[1;32m   1099\u001b[0m     \u001b[38;5;66;03m# historically .join(timeout=x) for x<0 has acted as if timeout=0\u001b[39;00m\n\u001b[1;32m   1100\u001b[0m     \u001b[38;5;28mself\u001b[39m\u001b[38;5;241m.\u001b[39m_wait_for_tstate_lock(timeout\u001b[38;5;241m=\u001b[39m\u001b[38;5;28mmax\u001b[39m(timeout, \u001b[38;5;241m0\u001b[39m))\n",
      "File \u001b[0;32m/usr/lib/python3.10/threading.py:1116\u001b[0m, in \u001b[0;36mThread._wait_for_tstate_lock\u001b[0;34m(self, block, timeout)\u001b[0m\n\u001b[1;32m   1113\u001b[0m     \u001b[38;5;28;01mreturn\u001b[39;00m\n\u001b[1;32m   1115\u001b[0m \u001b[38;5;28;01mtry\u001b[39;00m:\n\u001b[0;32m-> 1116\u001b[0m     \u001b[38;5;28;01mif\u001b[39;00m \u001b[43mlock\u001b[49m\u001b[38;5;241;43m.\u001b[39;49m\u001b[43macquire\u001b[49m\u001b[43m(\u001b[49m\u001b[43mblock\u001b[49m\u001b[43m,\u001b[49m\u001b[43m \u001b[49m\u001b[43mtimeout\u001b[49m\u001b[43m)\u001b[49m:\n\u001b[1;32m   1117\u001b[0m         lock\u001b[38;5;241m.\u001b[39mrelease()\n\u001b[1;32m   1118\u001b[0m         \u001b[38;5;28mself\u001b[39m\u001b[38;5;241m.\u001b[39m_stop()\n",
      "\u001b[0;31mKeyboardInterrupt\u001b[0m: "
     ]
    },
    {
     "name": "stderr",
     "output_type": "stream",
     "text": [
      "[src/libmpg123/layer3.c:INT123_do_layer3():1771] error: part2_3_length (3264) too large for available bit count (3224)\n"
     ]
    }
   ],
   "source": [
    "features = extract_n_features(8000, 64, 8)\n",
    "\n",
    "# Guardar las características en un archivo CSV\n",
    "output_file = 'caracteristicas_8000.txt'\n",
    "with open(output_file, 'w') as f:\n",
    "    for audio_path, feature_vector in features.items():\n",
    "        feature_str = ','.join(map(str, feature_vector))\n",
    "        f.write(feature_str + '\\n')\n",
    "\n",
    "print(f'Características guardadas en {output_file}')\n",
    "\n",
    "# Variables para tests\n",
    "datatrain = pd.read_csv('caracteristicas_8000.txt', delimiter=',',header=None)\n",
    "k = 8\n",
    "ind_q = 5"
   ]
  },
  {
   "cell_type": "markdown",
   "metadata": {},
   "source": [
    "**Range KNN Priority queue**"
   ]
  },
  {
   "cell_type": "code",
   "execution_count": null,
   "metadata": {},
   "outputs": [
    {
     "name": "stdout",
     "output_type": "stream",
     "text": [
      "Resultado para k=8: [(5, 0.0), (31, 21.27868951349949), (9, 26.562299151551848), (200, 34.62912923822806), (2993, 36.522520758226264), (631, 46.58289851191702), (2873, 47.80771715933784), (3059, 47.908723321964956)]\n",
      "Tiempo promedio: 12.864285469055176 segundos\n"
     ]
    }
   ],
   "source": [
    "query = datatrain.iloc[ind_q]\n",
    "#dataT = datatrain.drop([ind_q], axis=0, inplace=False)\n",
    "dataT = datatrain\n",
    "result = knnSearch(dataT.values, query, k)\n",
    "# Promedio de tiempo\n",
    "total_time = 0\n",
    "for _ in range(10):\n",
    "    start_time = time.time()\n",
    "    result = knnSearch(dataT.values, query, k)\n",
    "    end_time = time.time()\n",
    "    total_time += end_time - start_time\n",
    "average_time = total_time\n",
    "\n",
    "print(f'Resultado para k={k}: {result}')\n",
    "print(f'Tiempo promedio: {average_time} segundos') "
   ]
  },
  {
   "cell_type": "markdown",
   "metadata": {},
   "source": [
    "**Range KNN Radio**"
   ]
  },
  {
   "cell_type": "code",
   "execution_count": null,
   "metadata": {},
   "outputs": [
    {
     "name": "stdout",
     "output_type": "stream",
     "text": [
      "Resultado para radio=62.631407362456756: [5, 31, 9, 200, 2993, 631, 2873, 3059, 2277, 2707, 3681, 1274, 2036, 2180, 719, 1661, 43, 2621, 1307, 22, 2194, 1430, 3652, 3637, 174, 1023, 238, 3395, 145, 162, 128, 587, 1673, 3440, 1406, 1323, 2848, 658, 1114, 1766, 2487, 1967, 372, 1250, 3193, 2023, 3197, 3150, 3123, 3054, 3137, 119, 2365, 68, 3625, 1630, 2254, 2549, 3755, 3626, 2840, 1741, 393, 14, 1066, 1791]\n",
      "Tiempo promedio: 0.6736599922180175 segundos\n",
      "Resultado para radio=79.35393718762391: [5, 31, 9, 200, 2993, 631, 2873, 3059, 2277, 2707, 3681, 1274, 2036, 2180, 719, 1661, 43, 2621, 1307, 22, 2194, 1430, 3652, 3637, 174, 1023, 238, 3395, 145, 162, 128, 587, 1673, 3440, 1406, 1323, 2848, 658, 1114, 1766, 2487, 1967, 372, 1250, 3193, 2023, 3197, 3150, 3123, 3054, 3137, 119, 2365, 68, 3625, 1630, 2254, 2549, 3755, 3626, 2840, 1741, 393, 14, 1066, 1791, 2287, 478, 3276, 3678, 2702, 1105, 1382, 3222, 1537, 2540, 827, 3363, 159, 2567, 3697, 523, 2109, 3664, 212, 1301, 3501, 310, 1446, 1059, 3479, 3250, 2347, 1409, 2943, 3790, 187, 1115, 202, 1228, 1480, 2466, 3410, 3133, 3498, 2182, 3841, 37, 3116, 1554, 1937, 2748, 2553, 1876, 1222, 1951, 185, 882, 2864, 2177, 3856, 3575, 1110, 490, 2371, 3603, 3512, 2628, 2111, 1832, 726, 2229, 3706, 1499, 2609, 1294, 89, 142, 3443, 1170, 2518, 2253, 703, 2421, 1892, 1142, 3618, 88, 2225, 2435, 3798, 1063, 3676, 776, 1490, 1758, 2171, 2614, 1854, 1945, 3814, 1440, 3483, 1932, 737, 333, 1677, 3146, 2594, 1468, 901, 3741, 1154, 3484, 2298, 3523, 2867, 65, 58, 860, 2299, 3595, 2816, 1458, 3524, 1197, 2333, 1958, 1492, 1626, 767, 3162, 42, 1217, 2547, 2412, 18, 2401, 2381, 628, 2251, 144, 385, 2198, 1451, 3705, 1392, 1263, 465, 2315, 3335, 948, 486, 958, 3607, 2073, 1899, 3797, 3685, 1385, 502, 3624, 3341, 1239, 137, 299, 3588, 3571, 2319, 1120, 2783, 2868, 3660, 1518, 2050, 3855, 3441, 2325, 188, 3023, 2238, 1354, 2403, 1256, 3596, 749, 2200, 1261, 1053, 809, 11, 2422, 1122, 3325, 1450, 3564, 3724, 3582, 81, 1305, 2695, 584, 3476, 1207, 1545, 1877, 1229, 3721, 2721, 2393, 654, 2346, 2283, 2562, 1507, 3732, 1571, 3510, 2302, 2638, 1917, 2688, 746, 3960, 969, 1928, 1300, 1716, 3616, 2820, 1104, 2806, 154, 3693, 2710, 2494, 381, 3825, 517, 2207, 3393, 2274, 147, 2763, 556, 3419, 1126, 2366, 280, 696, 1158, 3985, 277, 3508, 2314, 1736, 3389, 599, 1389, 2632, 2278, 1510, 1472, 534, 1457, 3898, 1801, 2204, 3489, 66, 3594, 380, 63, 2320, 2329, 1363, 3408, 1823, 1474, 3049, 1903, 1756, 1255, 1560, 2823, 1688, 1226, 1601, 1842, 871, 687, 2077, 1402, 2197, 3009, 3168, 3377, 2789, 2332, 3813, 2130, 2802, 110, 796, 774, 3322, 2836, 2928, 475, 1348, 1072, 1194, 2011, 2410, 3977, 1488, 2712, 2997, 592, 3602, 3783, 1412, 1159, 3463, 1590, 1408, 3629, 884, 2399, 3701, 2715, 48, 1076, 2156, 3848, 3756, 2898, 2982, 321, 56, 3485, 1597, 1834, 3833, 1473, 2854, 2607, 79, 964, 1099, 3446, 318, 3311, 3731, 1621, 2768, 2175, 987]\n",
      "Tiempo promedio: 0.6875606536865234 segundos\n",
      "Resultado para radio=95.01689467881616: [5, 31, 9, 200, 2993, 631, 2873, 3059, 2277, 2707, 3681, 1274, 2036, 2180, 719, 1661, 43, 2621, 1307, 22, 2194, 1430, 3652, 3637, 174, 1023, 238, 3395, 145, 162, 128, 587, 1673, 3440, 1406, 1323, 2848, 658, 1114, 1766, 2487, 1967, 372, 1250, 3193, 2023, 3197, 3150, 3123, 3054, 3137, 119, 2365, 68, 3625, 1630, 2254, 2549, 3755, 3626, 2840, 1741, 393, 14, 1066, 1791, 2287, 478, 3276, 3678, 2702, 1105, 1382, 3222, 1537, 2540, 827, 3363, 159, 2567, 3697, 523, 2109, 3664, 212, 1301, 3501, 310, 1446, 1059, 3479, 3250, 2347, 1409, 2943, 3790, 187, 1115, 202, 1228, 1480, 2466, 3410, 3133, 3498, 2182, 3841, 37, 3116, 1554, 1937, 2748, 2553, 1876, 1222, 1951, 185, 882, 2864, 2177, 3856, 3575, 1110, 490, 2371, 3603, 3512, 2628, 2111, 1832, 726, 2229, 3706, 1499, 2609, 1294, 89, 142, 3443, 1170, 2518, 2253, 703, 2421, 1892, 1142, 3618, 88, 2225, 2435, 3798, 1063, 3676, 776, 1490, 1758, 2171, 2614, 1854, 1945, 3814, 1440, 3483, 1932, 737, 333, 1677, 3146, 2594, 1468, 901, 3741, 1154, 3484, 2298, 3523, 2867, 65, 58, 860, 2299, 3595, 2816, 1458, 3524, 1197, 2333, 1958, 1492, 1626, 767, 3162, 42, 1217, 2547, 2412, 18, 2401, 2381, 628, 2251, 144, 385, 2198, 1451, 3705, 1392, 1263, 465, 2315, 3335, 948, 486, 958, 3607, 2073, 1899, 3797, 3685, 1385, 502, 3624, 3341, 1239, 137, 299, 3588, 3571, 2319, 1120, 2783, 2868, 3660, 1518, 2050, 3855, 3441, 2325, 188, 3023, 2238, 1354, 2403, 1256, 3596, 749, 2200, 1261, 1053, 809, 11, 2422, 1122, 3325, 1450, 3564, 3724, 3582, 81, 1305, 2695, 584, 3476, 1207, 1545, 1877, 1229, 3721, 2721, 2393, 654, 2346, 2283, 2562, 1507, 3732, 1571, 3510, 2302, 2638, 1917, 2688, 746, 3960, 969, 1928, 1300, 1716, 3616, 2820, 1104, 2806, 154, 3693, 2710, 2494, 381, 3825, 517, 2207, 3393, 2274, 147, 2763, 556, 3419, 1126, 2366, 280, 696, 1158, 3985, 277, 3508, 2314, 1736, 3389, 599, 1389, 2632, 2278, 1510, 1472, 534, 1457, 3898, 1801, 2204, 3489, 66, 3594, 380, 63, 2320, 2329, 1363, 3408, 1823, 1474, 3049, 1903, 1756, 1255, 1560, 2823, 1688, 1226, 1601, 1842, 871, 687, 2077, 1402, 2197, 3009, 3168, 3377, 2789, 2332, 3813, 2130, 2802, 110, 796, 774, 3322, 2836, 2928, 475, 1348, 1072, 1194, 2011, 2410, 3977, 1488, 2712, 2997, 592, 3602, 3783, 1412, 1159, 3463, 1590, 1408, 3629, 884, 2399, 3701, 2715, 48, 1076, 2156, 3848, 3756, 2898, 2982, 321, 56, 3485, 1597, 1834, 3833, 1473, 2854, 2607, 79, 964, 1099, 3446, 318, 3311, 3731, 1621, 2768, 2175, 987, 2170, 3080, 121, 2701, 470, 129, 3500, 3012, 2189, 1711, 1889, 456, 2729, 2295, 1205, 2384, 3752, 363, 2891, 3545, 1666, 3919, 2025, 1738, 2691, 2987, 1840, 3469, 457, 2341, 1846, 1295, 2629, 1257, 484, 2343, 3432, 2896, 2831, 816, 266, 36, 3711, 2038, 3718, 165, 1475, 1266, 2027, 3039, 2406, 3613, 2736, 1403, 3688, 1803, 3520, 647, 2184, 2350, 1838, 3248, 2300, 914, 3897, 1755, 158, 67, 217, 3433, 3795, 1423, 1262, 3178, 2968, 3846, 600, 1521, 2005, 3939, 620, 1649, 2118, 1415, 573, 3382, 395, 2201, 1075, 2871, 3392, 2981, 231, 3040, 2759, 2248, 100, 1656, 2910, 881, 1128, 2427, 2353, 133, 1843, 1448, 3118, 2577, 1693, 3480, 2208, 1181, 1718, 417, 77, 1203, 1303, 1821, 1178, 143, 348, 3608, 2380, 754, 742, 3560, 1439, 2028, 454, 2705, 243, 3460, 1650, 3442, 2192, 3753, 1900, 2264, 1101, 139, 1672, 3556, 2245, 2903, 1291, 2169, 3868, 105, 1034, 2113, 2908, 1850, 3018, 113, 3653, 3824, 3005, 664, 2856, 648, 2065, 2231, 2083, 301, 1443, 929, 1858, 2846, 3592, 521, 829, 3169, 2224, 617, 3181, 3372, 3770, 3654, 957, 2084, 1429, 1555, 278, 1321, 3194, 1603, 3605, 1686, 3385, 2190, 2088, 1564, 1536, 1420, 1293, 821, 1847, 3230, 2956, 653, 1000, 2213, 1370, 3667, 1604, 52, 2804, 3213, 2288, 1647, 823, 2505, 2203, 2449, 3643, 164, 1042, 1378, 483, 3321, 3883, 1141, 886, 2862, 192, 1108, 186, 561, 1962, 1714, 1872, 2771, 3642, 3373, 529, 442, 1172, 2087, 3481, 305, 2167, 2870, 120, 2523, 3573, 306, 2948, 2832, 3640, 2368, 3830, 672, 1078, 2741, 324, 2286, 1210, 976, 38, 2294, 2126, 1496, 1627, 781, 352, 2000, 3649, 1253, 1531, 91, 1008, 3589, 2097, 1051, 156, 1657, 1778, 1107, 1111, 551, 330, 3090, 577, 2855, 122, 419, 1520, 1593, 2149, 1638, 389, 2125, 741, 3052, 538, 1432, 1509, 1905, 3462, 242, 329, 2730, 3612, 2808, 460, 2564, 2852, 246, 3761, 1221, 3331, 1592, 3966, 2265, 3671, 2334, 3521, 2797, 13, 1236, 123, 1580, 3787, 1653, 3673, 3356, 1642, 1535, 2339, 2829, 1513, 2338, 2160, 1483, 2827, 3494, 2026, 3282, 3477, 1986, 2323, 1515, 208, 2717, 3796, 420, 2058, 641, 905, 2199, 1836, 2066, 3604, 3073, 1611, 2520, 522, 1413, 589, 3286, 3696, 211, 525, 1743, 1326, 3103, 1798, 1147, 3658, 2744, 1952, 3507, 3812, 189, 3617, 2276, 797, 495, 541, 1214, 2205, 1646, 2124, 1534, 3665, 2310, 73, 3475, 3553, 3468, 1070, 3263, 1671, 637, 3257, 2495, 3218, 106, 2352, 3033, 1185, 2331, 2439, 2336, 1355, 1648, 3236, 2735, 1140, 3788, 2220, 228, 1620, 1314, 1628, 1394, 2400, 3859, 1196, 1824, 3399, 3725, 27, 2545, 300, 2388, 1759, 2164, 3504, 3516, 244, 3845, 1984, 3505, 2222, 1177, 1227, 163, 375, 3568, 2589, 2202, 3730, 3690, 1031, 462, 15, 2641, 1288, 55, 1252, 698, 876, 1764, 3262, 2308, 2392, 1861, 2411, 1091, 909, 3751, 102, 2240, 988, 1290, 1171, 3548, 2992, 946, 1089, 1477, 3869, 1497, 2121, 1036, 1725, 2749, 1828, 1487, 140, 3081, 75, 1175, 2212, 3332, 2075, 3851, 447, 3119, 3227, 1027, 1489, 530, 213, 3083, 1153, 410, 870, 1546, 2147, 1712, 973, 82, 3010, 1014, 1829, 226, 3785, 1118, 1761, 738, 3675, 297, 3779, 3015, 668, 1357, 2800, 2859, 2033, 1469, 3161, 1960, 501, 1046, 1206, 3609, 1043, 1779, 1145, 1044, 1808, 453, 2697, 2112, 3981, 269, 94, 752, 770, 1167, 3804, 1201, 3541, 181, 2337, 166, 3749, 386, 1162, 21, 1136, 537, 619, 1032, 1849, 2235]\n",
      "Tiempo promedio: 0.698630428314209 segundos\n"
     ]
    }
   ],
   "source": [
    "D = genDistancias(datatrain.values, 15000)\n",
    "\n",
    "# Calcular percentiles para elegir r1, r2, y r3\n",
    "percentiles = np.percentile(D, [10, 20, 30]) # tmb puede ser [25, 50, 75]\n",
    "r1, r2, r3 = percentiles[0], percentiles[1], percentiles[2]\n",
    "\n",
    "# calcular la busqueda por rango\n",
    "radios_obtenidos = [r1, r2, r3]\n",
    "\n",
    "for radio in radios_obtenidos:\n",
    "    query = datatrain.iloc[ind_q]\n",
    "    dataT = datatrain\n",
    "    # Promedio\n",
    "    total_time = 0\n",
    "    for _ in range(10):\n",
    "        start_time = time.time()\n",
    "        result = rangeSearch(dataT.values, query, radio, ind_q)\n",
    "        end_time = time.time()\n",
    "        total_time += end_time - start_time\n",
    "    average_time = total_time / 10\n",
    "\n",
    "    print(f'Resultado para radio={radio}: {result}')\n",
    "    print(f'Tiempo promedio: {average_time} segundos')"
   ]
  },
  {
   "cell_type": "markdown",
   "metadata": {},
   "source": [
    "**RTree KNN**"
   ]
  },
  {
   "cell_type": "code",
   "execution_count": null,
   "metadata": {},
   "outputs": [
    {
     "name": "stdout",
     "output_type": "stream",
     "text": [
      "La consulta tomó en promedio 0.002820467948913574 segundos\n",
      "Las k:8 canciones más cercanas a la consulta son (contar la query): [5, 31, 9, 200, 2993, 631, 2873, 3059]\n"
     ]
    }
   ],
   "source": [
    "D = len(datatrain.columns)  \n",
    "\n",
    "# Create a new RTree index\n",
    "prop = rtree.index.Property()\n",
    "prop.dimension = D    # dimension del vector caracteristico\n",
    "prop.buffering_capacity = 8    # Cantidad maxima de MBRs en un nodo \n",
    "ind = rtree.index.Index(properties = prop)\n",
    "\n",
    "#Generar los datos    \n",
    "data = datatrain.values\n",
    "query = data[ind_q]\n",
    "\n",
    "# insertar los puntos                \n",
    "for i in range(data.shape[0]):\n",
    "    ind.insert(i, data[i])    \n",
    "\n",
    "knn_rtree(data, query, k, 64)"
   ]
  },
  {
   "cell_type": "markdown",
   "metadata": {},
   "source": [
    "**HighD**"
   ]
  },
  {
   "cell_type": "code",
   "execution_count": null,
   "metadata": {},
   "outputs": [
    {
     "name": "stdout",
     "output_type": "stream",
     "text": [
      "Tiempo de ejecución promedio de knn_faiss: 0.0010390996932983399 segundos\n",
      "Los k=8 más cercanos a la consulta son:[   5   31    9  200 2993  631 2873 3059]\n",
      "Las distancias a los k=8 vecinos más cercanos son:[   0.       452.78265  705.5557  1199.1769  1333.8945  2169.966\n",
      " 2285.578   2295.246  ]\n"
     ]
    }
   ],
   "source": [
    "#Generar los datos    \n",
    "data = datatrain.values\n",
    "query = data[5]\n",
    "\n",
    "faiss_knn_results, faiss_knn_distances, average_time = knn_faiss(data, query, k=8)\n",
    "\n",
    "print(f\"Tiempo de ejecución promedio de knn_faiss: {average_time} segundos\")\n",
    "print(f'Los k={k} más cercanos a la consulta son:{faiss_knn_results}') # faiss_knn_results[1:]\n",
    "print(f'Las distancias a los k={k} vecinos más cercanos son:{faiss_knn_distances}') # faiss_knn_results[1:]"
   ]
  },
  {
   "cell_type": "markdown",
   "metadata": {},
   "source": [
    "# Testbench 16k"
   ]
  },
  {
   "cell_type": "markdown",
   "metadata": {},
   "source": [
    "**Extracción de características**"
   ]
  },
  {
   "cell_type": "code",
   "execution_count": null,
   "metadata": {},
   "outputs": [
    {
     "name": "stderr",
     "output_type": "stream",
     "text": [
      "[src/libmpg123/layer3.c:INT123_do_layer3():1841] error: dequantization failed!\n",
      "[src/libmpg123/layer3.c:INT123_do_layer3():1771] error: part2_3_length (3264) too large for available bit count (3224)\n",
      "[src/libmpg123/layer3.c:INT123_do_layer3():1801] error: dequantization failed!\n"
     ]
    },
    {
     "name": "stdout",
     "output_type": "stream",
     "text": [
      "Características guardadas en caracteristicas_4000.txt\n"
     ]
    }
   ],
   "source": [
    "features = extract_n_features(16000, 64, 8)\n",
    "\n",
    "# Guardar las características en un archivo CSV\n",
    "output_file = 'caracteristicas_16000.txt'\n",
    "with open(output_file, 'w') as f:\n",
    "    for audio_path, feature_vector in features.items():\n",
    "        feature_str = ','.join(map(str, feature_vector))\n",
    "        f.write(feature_str + '\\n')\n",
    "\n",
    "print(f'Características guardadas en {output_file}')\n",
    "\n",
    "# Variables para tests\n",
    "datatrain = pd.read_csv('caracteristicas_16000.txt', delimiter=',',header=None)\n",
    "k = 8\n",
    "ind_q = 5"
   ]
  },
  {
   "cell_type": "markdown",
   "metadata": {},
   "source": [
    "**Range KNN Priority queue**"
   ]
  },
  {
   "cell_type": "code",
   "execution_count": null,
   "metadata": {},
   "outputs": [
    {
     "name": "stdout",
     "output_type": "stream",
     "text": [
      "Resultado para k=8: [(5, 0.0), (31, 21.27868951349949), (9, 26.562299151551848), (200, 34.62912923822806), (2993, 36.522520758226264), (631, 46.58289851191702), (2873, 47.80771715933784), (3059, 47.908723321964956)]\n",
      "Tiempo promedio: 12.864285469055176 segundos\n"
     ]
    }
   ],
   "source": [
    "query = datatrain.iloc[ind_q]\n",
    "#dataT = datatrain.drop([ind_q], axis=0, inplace=False)\n",
    "dataT = datatrain\n",
    "result = knnSearch(dataT.values, query, k)\n",
    "# Promedio de tiempo\n",
    "total_time = 0\n",
    "for _ in range(10):\n",
    "    start_time = time.time()\n",
    "    result = knnSearch(dataT.values, query, k)\n",
    "    end_time = time.time()\n",
    "    total_time += end_time - start_time\n",
    "average_time = total_time\n",
    "\n",
    "print(f'Resultado para k={k}: {result}')\n",
    "print(f'Tiempo promedio: {average_time} segundos') "
   ]
  },
  {
   "cell_type": "markdown",
   "metadata": {},
   "source": [
    "**Range KNN Radio**"
   ]
  },
  {
   "cell_type": "code",
   "execution_count": null,
   "metadata": {},
   "outputs": [
    {
     "name": "stdout",
     "output_type": "stream",
     "text": [
      "Resultado para radio=62.631407362456756: [5, 31, 9, 200, 2993, 631, 2873, 3059, 2277, 2707, 3681, 1274, 2036, 2180, 719, 1661, 43, 2621, 1307, 22, 2194, 1430, 3652, 3637, 174, 1023, 238, 3395, 145, 162, 128, 587, 1673, 3440, 1406, 1323, 2848, 658, 1114, 1766, 2487, 1967, 372, 1250, 3193, 2023, 3197, 3150, 3123, 3054, 3137, 119, 2365, 68, 3625, 1630, 2254, 2549, 3755, 3626, 2840, 1741, 393, 14, 1066, 1791]\n",
      "Tiempo promedio: 0.6736599922180175 segundos\n",
      "Resultado para radio=79.35393718762391: [5, 31, 9, 200, 2993, 631, 2873, 3059, 2277, 2707, 3681, 1274, 2036, 2180, 719, 1661, 43, 2621, 1307, 22, 2194, 1430, 3652, 3637, 174, 1023, 238, 3395, 145, 162, 128, 587, 1673, 3440, 1406, 1323, 2848, 658, 1114, 1766, 2487, 1967, 372, 1250, 3193, 2023, 3197, 3150, 3123, 3054, 3137, 119, 2365, 68, 3625, 1630, 2254, 2549, 3755, 3626, 2840, 1741, 393, 14, 1066, 1791, 2287, 478, 3276, 3678, 2702, 1105, 1382, 3222, 1537, 2540, 827, 3363, 159, 2567, 3697, 523, 2109, 3664, 212, 1301, 3501, 310, 1446, 1059, 3479, 3250, 2347, 1409, 2943, 3790, 187, 1115, 202, 1228, 1480, 2466, 3410, 3133, 3498, 2182, 3841, 37, 3116, 1554, 1937, 2748, 2553, 1876, 1222, 1951, 185, 882, 2864, 2177, 3856, 3575, 1110, 490, 2371, 3603, 3512, 2628, 2111, 1832, 726, 2229, 3706, 1499, 2609, 1294, 89, 142, 3443, 1170, 2518, 2253, 703, 2421, 1892, 1142, 3618, 88, 2225, 2435, 3798, 1063, 3676, 776, 1490, 1758, 2171, 2614, 1854, 1945, 3814, 1440, 3483, 1932, 737, 333, 1677, 3146, 2594, 1468, 901, 3741, 1154, 3484, 2298, 3523, 2867, 65, 58, 860, 2299, 3595, 2816, 1458, 3524, 1197, 2333, 1958, 1492, 1626, 767, 3162, 42, 1217, 2547, 2412, 18, 2401, 2381, 628, 2251, 144, 385, 2198, 1451, 3705, 1392, 1263, 465, 2315, 3335, 948, 486, 958, 3607, 2073, 1899, 3797, 3685, 1385, 502, 3624, 3341, 1239, 137, 299, 3588, 3571, 2319, 1120, 2783, 2868, 3660, 1518, 2050, 3855, 3441, 2325, 188, 3023, 2238, 1354, 2403, 1256, 3596, 749, 2200, 1261, 1053, 809, 11, 2422, 1122, 3325, 1450, 3564, 3724, 3582, 81, 1305, 2695, 584, 3476, 1207, 1545, 1877, 1229, 3721, 2721, 2393, 654, 2346, 2283, 2562, 1507, 3732, 1571, 3510, 2302, 2638, 1917, 2688, 746, 3960, 969, 1928, 1300, 1716, 3616, 2820, 1104, 2806, 154, 3693, 2710, 2494, 381, 3825, 517, 2207, 3393, 2274, 147, 2763, 556, 3419, 1126, 2366, 280, 696, 1158, 3985, 277, 3508, 2314, 1736, 3389, 599, 1389, 2632, 2278, 1510, 1472, 534, 1457, 3898, 1801, 2204, 3489, 66, 3594, 380, 63, 2320, 2329, 1363, 3408, 1823, 1474, 3049, 1903, 1756, 1255, 1560, 2823, 1688, 1226, 1601, 1842, 871, 687, 2077, 1402, 2197, 3009, 3168, 3377, 2789, 2332, 3813, 2130, 2802, 110, 796, 774, 3322, 2836, 2928, 475, 1348, 1072, 1194, 2011, 2410, 3977, 1488, 2712, 2997, 592, 3602, 3783, 1412, 1159, 3463, 1590, 1408, 3629, 884, 2399, 3701, 2715, 48, 1076, 2156, 3848, 3756, 2898, 2982, 321, 56, 3485, 1597, 1834, 3833, 1473, 2854, 2607, 79, 964, 1099, 3446, 318, 3311, 3731, 1621, 2768, 2175, 987]\n",
      "Tiempo promedio: 0.6875606536865234 segundos\n",
      "Resultado para radio=95.01689467881616: [5, 31, 9, 200, 2993, 631, 2873, 3059, 2277, 2707, 3681, 1274, 2036, 2180, 719, 1661, 43, 2621, 1307, 22, 2194, 1430, 3652, 3637, 174, 1023, 238, 3395, 145, 162, 128, 587, 1673, 3440, 1406, 1323, 2848, 658, 1114, 1766, 2487, 1967, 372, 1250, 3193, 2023, 3197, 3150, 3123, 3054, 3137, 119, 2365, 68, 3625, 1630, 2254, 2549, 3755, 3626, 2840, 1741, 393, 14, 1066, 1791, 2287, 478, 3276, 3678, 2702, 1105, 1382, 3222, 1537, 2540, 827, 3363, 159, 2567, 3697, 523, 2109, 3664, 212, 1301, 3501, 310, 1446, 1059, 3479, 3250, 2347, 1409, 2943, 3790, 187, 1115, 202, 1228, 1480, 2466, 3410, 3133, 3498, 2182, 3841, 37, 3116, 1554, 1937, 2748, 2553, 1876, 1222, 1951, 185, 882, 2864, 2177, 3856, 3575, 1110, 490, 2371, 3603, 3512, 2628, 2111, 1832, 726, 2229, 3706, 1499, 2609, 1294, 89, 142, 3443, 1170, 2518, 2253, 703, 2421, 1892, 1142, 3618, 88, 2225, 2435, 3798, 1063, 3676, 776, 1490, 1758, 2171, 2614, 1854, 1945, 3814, 1440, 3483, 1932, 737, 333, 1677, 3146, 2594, 1468, 901, 3741, 1154, 3484, 2298, 3523, 2867, 65, 58, 860, 2299, 3595, 2816, 1458, 3524, 1197, 2333, 1958, 1492, 1626, 767, 3162, 42, 1217, 2547, 2412, 18, 2401, 2381, 628, 2251, 144, 385, 2198, 1451, 3705, 1392, 1263, 465, 2315, 3335, 948, 486, 958, 3607, 2073, 1899, 3797, 3685, 1385, 502, 3624, 3341, 1239, 137, 299, 3588, 3571, 2319, 1120, 2783, 2868, 3660, 1518, 2050, 3855, 3441, 2325, 188, 3023, 2238, 1354, 2403, 1256, 3596, 749, 2200, 1261, 1053, 809, 11, 2422, 1122, 3325, 1450, 3564, 3724, 3582, 81, 1305, 2695, 584, 3476, 1207, 1545, 1877, 1229, 3721, 2721, 2393, 654, 2346, 2283, 2562, 1507, 3732, 1571, 3510, 2302, 2638, 1917, 2688, 746, 3960, 969, 1928, 1300, 1716, 3616, 2820, 1104, 2806, 154, 3693, 2710, 2494, 381, 3825, 517, 2207, 3393, 2274, 147, 2763, 556, 3419, 1126, 2366, 280, 696, 1158, 3985, 277, 3508, 2314, 1736, 3389, 599, 1389, 2632, 2278, 1510, 1472, 534, 1457, 3898, 1801, 2204, 3489, 66, 3594, 380, 63, 2320, 2329, 1363, 3408, 1823, 1474, 3049, 1903, 1756, 1255, 1560, 2823, 1688, 1226, 1601, 1842, 871, 687, 2077, 1402, 2197, 3009, 3168, 3377, 2789, 2332, 3813, 2130, 2802, 110, 796, 774, 3322, 2836, 2928, 475, 1348, 1072, 1194, 2011, 2410, 3977, 1488, 2712, 2997, 592, 3602, 3783, 1412, 1159, 3463, 1590, 1408, 3629, 884, 2399, 3701, 2715, 48, 1076, 2156, 3848, 3756, 2898, 2982, 321, 56, 3485, 1597, 1834, 3833, 1473, 2854, 2607, 79, 964, 1099, 3446, 318, 3311, 3731, 1621, 2768, 2175, 987, 2170, 3080, 121, 2701, 470, 129, 3500, 3012, 2189, 1711, 1889, 456, 2729, 2295, 1205, 2384, 3752, 363, 2891, 3545, 1666, 3919, 2025, 1738, 2691, 2987, 1840, 3469, 457, 2341, 1846, 1295, 2629, 1257, 484, 2343, 3432, 2896, 2831, 816, 266, 36, 3711, 2038, 3718, 165, 1475, 1266, 2027, 3039, 2406, 3613, 2736, 1403, 3688, 1803, 3520, 647, 2184, 2350, 1838, 3248, 2300, 914, 3897, 1755, 158, 67, 217, 3433, 3795, 1423, 1262, 3178, 2968, 3846, 600, 1521, 2005, 3939, 620, 1649, 2118, 1415, 573, 3382, 395, 2201, 1075, 2871, 3392, 2981, 231, 3040, 2759, 2248, 100, 1656, 2910, 881, 1128, 2427, 2353, 133, 1843, 1448, 3118, 2577, 1693, 3480, 2208, 1181, 1718, 417, 77, 1203, 1303, 1821, 1178, 143, 348, 3608, 2380, 754, 742, 3560, 1439, 2028, 454, 2705, 243, 3460, 1650, 3442, 2192, 3753, 1900, 2264, 1101, 139, 1672, 3556, 2245, 2903, 1291, 2169, 3868, 105, 1034, 2113, 2908, 1850, 3018, 113, 3653, 3824, 3005, 664, 2856, 648, 2065, 2231, 2083, 301, 1443, 929, 1858, 2846, 3592, 521, 829, 3169, 2224, 617, 3181, 3372, 3770, 3654, 957, 2084, 1429, 1555, 278, 1321, 3194, 1603, 3605, 1686, 3385, 2190, 2088, 1564, 1536, 1420, 1293, 821, 1847, 3230, 2956, 653, 1000, 2213, 1370, 3667, 1604, 52, 2804, 3213, 2288, 1647, 823, 2505, 2203, 2449, 3643, 164, 1042, 1378, 483, 3321, 3883, 1141, 886, 2862, 192, 1108, 186, 561, 1962, 1714, 1872, 2771, 3642, 3373, 529, 442, 1172, 2087, 3481, 305, 2167, 2870, 120, 2523, 3573, 306, 2948, 2832, 3640, 2368, 3830, 672, 1078, 2741, 324, 2286, 1210, 976, 38, 2294, 2126, 1496, 1627, 781, 352, 2000, 3649, 1253, 1531, 91, 1008, 3589, 2097, 1051, 156, 1657, 1778, 1107, 1111, 551, 330, 3090, 577, 2855, 122, 419, 1520, 1593, 2149, 1638, 389, 2125, 741, 3052, 538, 1432, 1509, 1905, 3462, 242, 329, 2730, 3612, 2808, 460, 2564, 2852, 246, 3761, 1221, 3331, 1592, 3966, 2265, 3671, 2334, 3521, 2797, 13, 1236, 123, 1580, 3787, 1653, 3673, 3356, 1642, 1535, 2339, 2829, 1513, 2338, 2160, 1483, 2827, 3494, 2026, 3282, 3477, 1986, 2323, 1515, 208, 2717, 3796, 420, 2058, 641, 905, 2199, 1836, 2066, 3604, 3073, 1611, 2520, 522, 1413, 589, 3286, 3696, 211, 525, 1743, 1326, 3103, 1798, 1147, 3658, 2744, 1952, 3507, 3812, 189, 3617, 2276, 797, 495, 541, 1214, 2205, 1646, 2124, 1534, 3665, 2310, 73, 3475, 3553, 3468, 1070, 3263, 1671, 637, 3257, 2495, 3218, 106, 2352, 3033, 1185, 2331, 2439, 2336, 1355, 1648, 3236, 2735, 1140, 3788, 2220, 228, 1620, 1314, 1628, 1394, 2400, 3859, 1196, 1824, 3399, 3725, 27, 2545, 300, 2388, 1759, 2164, 3504, 3516, 244, 3845, 1984, 3505, 2222, 1177, 1227, 163, 375, 3568, 2589, 2202, 3730, 3690, 1031, 462, 15, 2641, 1288, 55, 1252, 698, 876, 1764, 3262, 2308, 2392, 1861, 2411, 1091, 909, 3751, 102, 2240, 988, 1290, 1171, 3548, 2992, 946, 1089, 1477, 3869, 1497, 2121, 1036, 1725, 2749, 1828, 1487, 140, 3081, 75, 1175, 2212, 3332, 2075, 3851, 447, 3119, 3227, 1027, 1489, 530, 213, 3083, 1153, 410, 870, 1546, 2147, 1712, 973, 82, 3010, 1014, 1829, 226, 3785, 1118, 1761, 738, 3675, 297, 3779, 3015, 668, 1357, 2800, 2859, 2033, 1469, 3161, 1960, 501, 1046, 1206, 3609, 1043, 1779, 1145, 1044, 1808, 453, 2697, 2112, 3981, 269, 94, 752, 770, 1167, 3804, 1201, 3541, 181, 2337, 166, 3749, 386, 1162, 21, 1136, 537, 619, 1032, 1849, 2235]\n",
      "Tiempo promedio: 0.698630428314209 segundos\n"
     ]
    }
   ],
   "source": [
    "D = genDistancias(datatrain.values, 24000)\n",
    "\n",
    "# Calcular percentiles para elegir r1, r2, y r3\n",
    "percentiles = np.percentile(D, [10, 20, 30]) # tmb puede ser [25, 50, 75]\n",
    "r1, r2, r3 = percentiles[0], percentiles[1], percentiles[2]\n",
    "\n",
    "# calcular la busqueda por rango\n",
    "radios_obtenidos = [r1, r2, r3]\n",
    "\n",
    "for radio in radios_obtenidos:\n",
    "    query = datatrain.iloc[ind_q]\n",
    "    dataT = datatrain\n",
    "    # Promedio\n",
    "    total_time = 0\n",
    "    for _ in range(10):\n",
    "        start_time = time.time()\n",
    "        result = rangeSearch(dataT.values, query, radio, ind_q)\n",
    "        end_time = time.time()\n",
    "        total_time += end_time - start_time\n",
    "    average_time = total_time / 10\n",
    "\n",
    "    print(f'Resultado para radio={radio}: {result}')\n",
    "    print(f'Tiempo promedio: {average_time} segundos')"
   ]
  },
  {
   "cell_type": "markdown",
   "metadata": {},
   "source": [
    "**RTree KNN**"
   ]
  },
  {
   "cell_type": "code",
   "execution_count": null,
   "metadata": {},
   "outputs": [
    {
     "name": "stdout",
     "output_type": "stream",
     "text": [
      "La consulta tomó en promedio 0.002820467948913574 segundos\n",
      "Las k:8 canciones más cercanas a la consulta son (contar la query): [5, 31, 9, 200, 2993, 631, 2873, 3059]\n"
     ]
    }
   ],
   "source": [
    "D = len(datatrain.columns)  \n",
    "\n",
    "# Create a new RTree index\n",
    "prop = rtree.index.Property()\n",
    "prop.dimension = D    # dimension del vector caracteristico\n",
    "prop.buffering_capacity = 8    # Cantidad maxima de MBRs en un nodo \n",
    "ind = rtree.index.Index(properties = prop)\n",
    "\n",
    "#Generar los datos    \n",
    "data = datatrain.values\n",
    "query = data[ind_q]\n",
    "\n",
    "# insertar los puntos                \n",
    "for i in range(data.shape[0]):\n",
    "    ind.insert(i, data[i])    \n",
    "\n",
    "knn_rtree(data, query, k, 64)"
   ]
  },
  {
   "cell_type": "markdown",
   "metadata": {},
   "source": [
    "**HighD**"
   ]
  },
  {
   "cell_type": "code",
   "execution_count": null,
   "metadata": {},
   "outputs": [
    {
     "name": "stdout",
     "output_type": "stream",
     "text": [
      "Tiempo de ejecución promedio de knn_faiss: 0.0010390996932983399 segundos\n",
      "Los k=8 más cercanos a la consulta son:[   5   31    9  200 2993  631 2873 3059]\n",
      "Las distancias a los k=8 vecinos más cercanos son:[   0.       452.78265  705.5557  1199.1769  1333.8945  2169.966\n",
      " 2285.578   2295.246  ]\n"
     ]
    }
   ],
   "source": [
    "#Generar los datos    \n",
    "data = datatrain.values\n",
    "query = data[5]\n",
    "\n",
    "faiss_knn_results, faiss_knn_distances, average_time = knn_faiss(data, query, k=8)\n",
    "\n",
    "print(f\"Tiempo de ejecución promedio de knn_faiss: {average_time} segundos\")\n",
    "print(f'Los k={k} más cercanos a la consulta son:{faiss_knn_results}') # faiss_knn_results[1:]\n",
    "print(f'Las distancias a los k={k} vecinos más cercanos son:{faiss_knn_distances}') # faiss_knn_results[1:]"
   ]
  },
  {
   "cell_type": "markdown",
   "metadata": {},
   "source": [
    "# Testbench 24k"
   ]
  },
  {
   "cell_type": "markdown",
   "metadata": {},
   "source": [
    "**Extracción de características**"
   ]
  },
  {
   "cell_type": "code",
   "execution_count": null,
   "metadata": {},
   "outputs": [
    {
     "name": "stderr",
     "output_type": "stream",
     "text": [
      "[src/libmpg123/layer3.c:INT123_do_layer3():1841] error: dequantization failed!\n",
      "[src/libmpg123/layer3.c:INT123_do_layer3():1771] error: part2_3_length (3264) too large for available bit count (3224)\n",
      "[src/libmpg123/layer3.c:INT123_do_layer3():1801] error: dequantization failed!\n"
     ]
    },
    {
     "name": "stdout",
     "output_type": "stream",
     "text": [
      "Características guardadas en caracteristicas_4000.txt\n"
     ]
    }
   ],
   "source": [
    "features = extract_n_features(24000, 64, 8)\n",
    "\n",
    "# Guardar las características en un archivo CSV\n",
    "output_file = 'caracteristicas_24000.txt'\n",
    "with open(output_file, 'w') as f:\n",
    "    for audio_path, feature_vector in features.items():\n",
    "        feature_str = ','.join(map(str, feature_vector))\n",
    "        f.write(feature_str + '\\n')\n",
    "\n",
    "print(f'Características guardadas en {output_file}')\n",
    "\n",
    "# Variables para tests\n",
    "datatrain = pd.read_csv('caracteristicas_24000.txt', delimiter=',',header=None)\n",
    "k = 8\n",
    "ind_q = 5"
   ]
  },
  {
   "cell_type": "markdown",
   "metadata": {},
   "source": [
    "**Range KNN Priority queue**"
   ]
  },
  {
   "cell_type": "code",
   "execution_count": null,
   "metadata": {},
   "outputs": [
    {
     "name": "stdout",
     "output_type": "stream",
     "text": [
      "Resultado para k=8: [(5, 0.0), (31, 21.27868951349949), (9, 26.562299151551848), (200, 34.62912923822806), (2993, 36.522520758226264), (631, 46.58289851191702), (2873, 47.80771715933784), (3059, 47.908723321964956)]\n",
      "Tiempo promedio: 12.864285469055176 segundos\n"
     ]
    }
   ],
   "source": [
    "query = datatrain.iloc[ind_q]\n",
    "#dataT = datatrain.drop([ind_q], axis=0, inplace=False)\n",
    "dataT = datatrain\n",
    "result = knnSearch(dataT.values, query, k)\n",
    "# Promedio de tiempo\n",
    "total_time = 0\n",
    "for _ in range(10):\n",
    "    start_time = time.time()\n",
    "    result = knnSearch(dataT.values, query, k)\n",
    "    end_time = time.time()\n",
    "    total_time += end_time - start_time\n",
    "average_time = total_time\n",
    "\n",
    "print(f'Resultado para k={k}: {result}')\n",
    "print(f'Tiempo promedio: {average_time} segundos') "
   ]
  },
  {
   "cell_type": "markdown",
   "metadata": {},
   "source": [
    "**Range KNN Radio**"
   ]
  },
  {
   "cell_type": "code",
   "execution_count": null,
   "metadata": {},
   "outputs": [
    {
     "name": "stdout",
     "output_type": "stream",
     "text": [
      "Resultado para radio=62.631407362456756: [5, 31, 9, 200, 2993, 631, 2873, 3059, 2277, 2707, 3681, 1274, 2036, 2180, 719, 1661, 43, 2621, 1307, 22, 2194, 1430, 3652, 3637, 174, 1023, 238, 3395, 145, 162, 128, 587, 1673, 3440, 1406, 1323, 2848, 658, 1114, 1766, 2487, 1967, 372, 1250, 3193, 2023, 3197, 3150, 3123, 3054, 3137, 119, 2365, 68, 3625, 1630, 2254, 2549, 3755, 3626, 2840, 1741, 393, 14, 1066, 1791]\n",
      "Tiempo promedio: 0.6736599922180175 segundos\n",
      "Resultado para radio=79.35393718762391: [5, 31, 9, 200, 2993, 631, 2873, 3059, 2277, 2707, 3681, 1274, 2036, 2180, 719, 1661, 43, 2621, 1307, 22, 2194, 1430, 3652, 3637, 174, 1023, 238, 3395, 145, 162, 128, 587, 1673, 3440, 1406, 1323, 2848, 658, 1114, 1766, 2487, 1967, 372, 1250, 3193, 2023, 3197, 3150, 3123, 3054, 3137, 119, 2365, 68, 3625, 1630, 2254, 2549, 3755, 3626, 2840, 1741, 393, 14, 1066, 1791, 2287, 478, 3276, 3678, 2702, 1105, 1382, 3222, 1537, 2540, 827, 3363, 159, 2567, 3697, 523, 2109, 3664, 212, 1301, 3501, 310, 1446, 1059, 3479, 3250, 2347, 1409, 2943, 3790, 187, 1115, 202, 1228, 1480, 2466, 3410, 3133, 3498, 2182, 3841, 37, 3116, 1554, 1937, 2748, 2553, 1876, 1222, 1951, 185, 882, 2864, 2177, 3856, 3575, 1110, 490, 2371, 3603, 3512, 2628, 2111, 1832, 726, 2229, 3706, 1499, 2609, 1294, 89, 142, 3443, 1170, 2518, 2253, 703, 2421, 1892, 1142, 3618, 88, 2225, 2435, 3798, 1063, 3676, 776, 1490, 1758, 2171, 2614, 1854, 1945, 3814, 1440, 3483, 1932, 737, 333, 1677, 3146, 2594, 1468, 901, 3741, 1154, 3484, 2298, 3523, 2867, 65, 58, 860, 2299, 3595, 2816, 1458, 3524, 1197, 2333, 1958, 1492, 1626, 767, 3162, 42, 1217, 2547, 2412, 18, 2401, 2381, 628, 2251, 144, 385, 2198, 1451, 3705, 1392, 1263, 465, 2315, 3335, 948, 486, 958, 3607, 2073, 1899, 3797, 3685, 1385, 502, 3624, 3341, 1239, 137, 299, 3588, 3571, 2319, 1120, 2783, 2868, 3660, 1518, 2050, 3855, 3441, 2325, 188, 3023, 2238, 1354, 2403, 1256, 3596, 749, 2200, 1261, 1053, 809, 11, 2422, 1122, 3325, 1450, 3564, 3724, 3582, 81, 1305, 2695, 584, 3476, 1207, 1545, 1877, 1229, 3721, 2721, 2393, 654, 2346, 2283, 2562, 1507, 3732, 1571, 3510, 2302, 2638, 1917, 2688, 746, 3960, 969, 1928, 1300, 1716, 3616, 2820, 1104, 2806, 154, 3693, 2710, 2494, 381, 3825, 517, 2207, 3393, 2274, 147, 2763, 556, 3419, 1126, 2366, 280, 696, 1158, 3985, 277, 3508, 2314, 1736, 3389, 599, 1389, 2632, 2278, 1510, 1472, 534, 1457, 3898, 1801, 2204, 3489, 66, 3594, 380, 63, 2320, 2329, 1363, 3408, 1823, 1474, 3049, 1903, 1756, 1255, 1560, 2823, 1688, 1226, 1601, 1842, 871, 687, 2077, 1402, 2197, 3009, 3168, 3377, 2789, 2332, 3813, 2130, 2802, 110, 796, 774, 3322, 2836, 2928, 475, 1348, 1072, 1194, 2011, 2410, 3977, 1488, 2712, 2997, 592, 3602, 3783, 1412, 1159, 3463, 1590, 1408, 3629, 884, 2399, 3701, 2715, 48, 1076, 2156, 3848, 3756, 2898, 2982, 321, 56, 3485, 1597, 1834, 3833, 1473, 2854, 2607, 79, 964, 1099, 3446, 318, 3311, 3731, 1621, 2768, 2175, 987]\n",
      "Tiempo promedio: 0.6875606536865234 segundos\n",
      "Resultado para radio=95.01689467881616: [5, 31, 9, 200, 2993, 631, 2873, 3059, 2277, 2707, 3681, 1274, 2036, 2180, 719, 1661, 43, 2621, 1307, 22, 2194, 1430, 3652, 3637, 174, 1023, 238, 3395, 145, 162, 128, 587, 1673, 3440, 1406, 1323, 2848, 658, 1114, 1766, 2487, 1967, 372, 1250, 3193, 2023, 3197, 3150, 3123, 3054, 3137, 119, 2365, 68, 3625, 1630, 2254, 2549, 3755, 3626, 2840, 1741, 393, 14, 1066, 1791, 2287, 478, 3276, 3678, 2702, 1105, 1382, 3222, 1537, 2540, 827, 3363, 159, 2567, 3697, 523, 2109, 3664, 212, 1301, 3501, 310, 1446, 1059, 3479, 3250, 2347, 1409, 2943, 3790, 187, 1115, 202, 1228, 1480, 2466, 3410, 3133, 3498, 2182, 3841, 37, 3116, 1554, 1937, 2748, 2553, 1876, 1222, 1951, 185, 882, 2864, 2177, 3856, 3575, 1110, 490, 2371, 3603, 3512, 2628, 2111, 1832, 726, 2229, 3706, 1499, 2609, 1294, 89, 142, 3443, 1170, 2518, 2253, 703, 2421, 1892, 1142, 3618, 88, 2225, 2435, 3798, 1063, 3676, 776, 1490, 1758, 2171, 2614, 1854, 1945, 3814, 1440, 3483, 1932, 737, 333, 1677, 3146, 2594, 1468, 901, 3741, 1154, 3484, 2298, 3523, 2867, 65, 58, 860, 2299, 3595, 2816, 1458, 3524, 1197, 2333, 1958, 1492, 1626, 767, 3162, 42, 1217, 2547, 2412, 18, 2401, 2381, 628, 2251, 144, 385, 2198, 1451, 3705, 1392, 1263, 465, 2315, 3335, 948, 486, 958, 3607, 2073, 1899, 3797, 3685, 1385, 502, 3624, 3341, 1239, 137, 299, 3588, 3571, 2319, 1120, 2783, 2868, 3660, 1518, 2050, 3855, 3441, 2325, 188, 3023, 2238, 1354, 2403, 1256, 3596, 749, 2200, 1261, 1053, 809, 11, 2422, 1122, 3325, 1450, 3564, 3724, 3582, 81, 1305, 2695, 584, 3476, 1207, 1545, 1877, 1229, 3721, 2721, 2393, 654, 2346, 2283, 2562, 1507, 3732, 1571, 3510, 2302, 2638, 1917, 2688, 746, 3960, 969, 1928, 1300, 1716, 3616, 2820, 1104, 2806, 154, 3693, 2710, 2494, 381, 3825, 517, 2207, 3393, 2274, 147, 2763, 556, 3419, 1126, 2366, 280, 696, 1158, 3985, 277, 3508, 2314, 1736, 3389, 599, 1389, 2632, 2278, 1510, 1472, 534, 1457, 3898, 1801, 2204, 3489, 66, 3594, 380, 63, 2320, 2329, 1363, 3408, 1823, 1474, 3049, 1903, 1756, 1255, 1560, 2823, 1688, 1226, 1601, 1842, 871, 687, 2077, 1402, 2197, 3009, 3168, 3377, 2789, 2332, 3813, 2130, 2802, 110, 796, 774, 3322, 2836, 2928, 475, 1348, 1072, 1194, 2011, 2410, 3977, 1488, 2712, 2997, 592, 3602, 3783, 1412, 1159, 3463, 1590, 1408, 3629, 884, 2399, 3701, 2715, 48, 1076, 2156, 3848, 3756, 2898, 2982, 321, 56, 3485, 1597, 1834, 3833, 1473, 2854, 2607, 79, 964, 1099, 3446, 318, 3311, 3731, 1621, 2768, 2175, 987, 2170, 3080, 121, 2701, 470, 129, 3500, 3012, 2189, 1711, 1889, 456, 2729, 2295, 1205, 2384, 3752, 363, 2891, 3545, 1666, 3919, 2025, 1738, 2691, 2987, 1840, 3469, 457, 2341, 1846, 1295, 2629, 1257, 484, 2343, 3432, 2896, 2831, 816, 266, 36, 3711, 2038, 3718, 165, 1475, 1266, 2027, 3039, 2406, 3613, 2736, 1403, 3688, 1803, 3520, 647, 2184, 2350, 1838, 3248, 2300, 914, 3897, 1755, 158, 67, 217, 3433, 3795, 1423, 1262, 3178, 2968, 3846, 600, 1521, 2005, 3939, 620, 1649, 2118, 1415, 573, 3382, 395, 2201, 1075, 2871, 3392, 2981, 231, 3040, 2759, 2248, 100, 1656, 2910, 881, 1128, 2427, 2353, 133, 1843, 1448, 3118, 2577, 1693, 3480, 2208, 1181, 1718, 417, 77, 1203, 1303, 1821, 1178, 143, 348, 3608, 2380, 754, 742, 3560, 1439, 2028, 454, 2705, 243, 3460, 1650, 3442, 2192, 3753, 1900, 2264, 1101, 139, 1672, 3556, 2245, 2903, 1291, 2169, 3868, 105, 1034, 2113, 2908, 1850, 3018, 113, 3653, 3824, 3005, 664, 2856, 648, 2065, 2231, 2083, 301, 1443, 929, 1858, 2846, 3592, 521, 829, 3169, 2224, 617, 3181, 3372, 3770, 3654, 957, 2084, 1429, 1555, 278, 1321, 3194, 1603, 3605, 1686, 3385, 2190, 2088, 1564, 1536, 1420, 1293, 821, 1847, 3230, 2956, 653, 1000, 2213, 1370, 3667, 1604, 52, 2804, 3213, 2288, 1647, 823, 2505, 2203, 2449, 3643, 164, 1042, 1378, 483, 3321, 3883, 1141, 886, 2862, 192, 1108, 186, 561, 1962, 1714, 1872, 2771, 3642, 3373, 529, 442, 1172, 2087, 3481, 305, 2167, 2870, 120, 2523, 3573, 306, 2948, 2832, 3640, 2368, 3830, 672, 1078, 2741, 324, 2286, 1210, 976, 38, 2294, 2126, 1496, 1627, 781, 352, 2000, 3649, 1253, 1531, 91, 1008, 3589, 2097, 1051, 156, 1657, 1778, 1107, 1111, 551, 330, 3090, 577, 2855, 122, 419, 1520, 1593, 2149, 1638, 389, 2125, 741, 3052, 538, 1432, 1509, 1905, 3462, 242, 329, 2730, 3612, 2808, 460, 2564, 2852, 246, 3761, 1221, 3331, 1592, 3966, 2265, 3671, 2334, 3521, 2797, 13, 1236, 123, 1580, 3787, 1653, 3673, 3356, 1642, 1535, 2339, 2829, 1513, 2338, 2160, 1483, 2827, 3494, 2026, 3282, 3477, 1986, 2323, 1515, 208, 2717, 3796, 420, 2058, 641, 905, 2199, 1836, 2066, 3604, 3073, 1611, 2520, 522, 1413, 589, 3286, 3696, 211, 525, 1743, 1326, 3103, 1798, 1147, 3658, 2744, 1952, 3507, 3812, 189, 3617, 2276, 797, 495, 541, 1214, 2205, 1646, 2124, 1534, 3665, 2310, 73, 3475, 3553, 3468, 1070, 3263, 1671, 637, 3257, 2495, 3218, 106, 2352, 3033, 1185, 2331, 2439, 2336, 1355, 1648, 3236, 2735, 1140, 3788, 2220, 228, 1620, 1314, 1628, 1394, 2400, 3859, 1196, 1824, 3399, 3725, 27, 2545, 300, 2388, 1759, 2164, 3504, 3516, 244, 3845, 1984, 3505, 2222, 1177, 1227, 163, 375, 3568, 2589, 2202, 3730, 3690, 1031, 462, 15, 2641, 1288, 55, 1252, 698, 876, 1764, 3262, 2308, 2392, 1861, 2411, 1091, 909, 3751, 102, 2240, 988, 1290, 1171, 3548, 2992, 946, 1089, 1477, 3869, 1497, 2121, 1036, 1725, 2749, 1828, 1487, 140, 3081, 75, 1175, 2212, 3332, 2075, 3851, 447, 3119, 3227, 1027, 1489, 530, 213, 3083, 1153, 410, 870, 1546, 2147, 1712, 973, 82, 3010, 1014, 1829, 226, 3785, 1118, 1761, 738, 3675, 297, 3779, 3015, 668, 1357, 2800, 2859, 2033, 1469, 3161, 1960, 501, 1046, 1206, 3609, 1043, 1779, 1145, 1044, 1808, 453, 2697, 2112, 3981, 269, 94, 752, 770, 1167, 3804, 1201, 3541, 181, 2337, 166, 3749, 386, 1162, 21, 1136, 537, 619, 1032, 1849, 2235]\n",
      "Tiempo promedio: 0.698630428314209 segundos\n"
     ]
    }
   ],
   "source": [
    "D = genDistancias(datatrain.values, 30000)\n",
    "\n",
    "# Calcular percentiles para elegir r1, r2, y r3\n",
    "percentiles = np.percentile(D, [10, 20, 30]) # tmb puede ser [25, 50, 75]\n",
    "r1, r2, r3 = percentiles[0], percentiles[1], percentiles[2]\n",
    "\n",
    "# calcular la busqueda por rango\n",
    "radios_obtenidos = [r1, r2, r3]\n",
    "\n",
    "for radio in radios_obtenidos:\n",
    "    query = datatrain.iloc[ind_q]\n",
    "    dataT = datatrain\n",
    "    # Promedio\n",
    "    total_time = 0\n",
    "    for _ in range(10):\n",
    "        start_time = time.time()\n",
    "        result = rangeSearch(dataT.values, query, radio, ind_q)\n",
    "        end_time = time.time()\n",
    "        total_time += end_time - start_time\n",
    "    average_time = total_time / 10\n",
    "\n",
    "    print(f'Resultado para radio={radio}: {result}')\n",
    "    print(f'Tiempo promedio: {average_time} segundos')"
   ]
  },
  {
   "cell_type": "markdown",
   "metadata": {},
   "source": [
    "**RTree KNN**"
   ]
  },
  {
   "cell_type": "code",
   "execution_count": null,
   "metadata": {},
   "outputs": [
    {
     "name": "stdout",
     "output_type": "stream",
     "text": [
      "La consulta tomó en promedio 0.002820467948913574 segundos\n",
      "Las k:8 canciones más cercanas a la consulta son (contar la query): [5, 31, 9, 200, 2993, 631, 2873, 3059]\n"
     ]
    }
   ],
   "source": [
    "D = len(datatrain.columns)  \n",
    "\n",
    "# Create a new RTree index\n",
    "prop = rtree.index.Property()\n",
    "prop.dimension = D    # dimension del vector caracteristico\n",
    "prop.buffering_capacity = 8    # Cantidad maxima de MBRs en un nodo \n",
    "ind = rtree.index.Index(properties = prop)\n",
    "\n",
    "#Generar los datos    \n",
    "data = datatrain.values\n",
    "query = data[ind_q]\n",
    "\n",
    "# insertar los puntos                \n",
    "for i in range(data.shape[0]):\n",
    "    ind.insert(i, data[i])    \n",
    "\n",
    "knn_rtree(data, query, k, 64)"
   ]
  },
  {
   "cell_type": "markdown",
   "metadata": {},
   "source": [
    "**HighD**"
   ]
  },
  {
   "cell_type": "code",
   "execution_count": null,
   "metadata": {},
   "outputs": [
    {
     "name": "stdout",
     "output_type": "stream",
     "text": [
      "Tiempo de ejecución promedio de knn_faiss: 0.0010390996932983399 segundos\n",
      "Los k=8 más cercanos a la consulta son:[   5   31    9  200 2993  631 2873 3059]\n",
      "Las distancias a los k=8 vecinos más cercanos son:[   0.       452.78265  705.5557  1199.1769  1333.8945  2169.966\n",
      " 2285.578   2295.246  ]\n"
     ]
    }
   ],
   "source": [
    "#Generar los datos    \n",
    "data = datatrain.values\n",
    "query = data[5]\n",
    "\n",
    "faiss_knn_results, faiss_knn_distances, average_time = knn_faiss(data, query, k=8)\n",
    "\n",
    "print(f\"Tiempo de ejecución promedio de knn_faiss: {average_time} segundos\")\n",
    "print(f'Los k={k} más cercanos a la consulta son:{faiss_knn_results}') # faiss_knn_results[1:]\n",
    "print(f'Las distancias a los k={k} vecinos más cercanos son:{faiss_knn_distances}') # faiss_knn_results[1:]"
   ]
  }
 ],
 "metadata": {
  "kernelspec": {
   "display_name": "Python 3",
   "language": "python",
   "name": "python3"
  },
  "language_info": {
   "codemirror_mode": {
    "name": "ipython",
    "version": 3
   },
   "file_extension": ".py",
   "mimetype": "text/x-python",
   "name": "python",
   "nbconvert_exporter": "python",
   "pygments_lexer": "ipython3",
   "version": "3.10.12"
  }
 },
 "nbformat": 4,
 "nbformat_minor": 2
}
